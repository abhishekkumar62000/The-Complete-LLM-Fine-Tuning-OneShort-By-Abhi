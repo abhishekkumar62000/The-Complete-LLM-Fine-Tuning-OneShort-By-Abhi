{
 "cells": [
  {
   "cell_type": "markdown",
   "metadata": {
    "id": "sHhx5RXpCPJ7"
   },
   "source": [
    "### First lets understand in how many ways you can login to HF"
   ]
  },
  {
   "cell_type": "code",
   "execution_count": null,
   "metadata": {
    "colab": {
     "base_uri": "https://localhost:8080/"
    },
    "id": "rT4Z1QigBATh",
    "outputId": "50fe24c3-47e8-4982-85b1-ac70055bcdc5"
   },
   "outputs": [],
   "source": [
    "!pip install --upgrade huggingface_hub"
   ]
  },
  {
   "cell_type": "markdown",
   "metadata": {
    "id": "DgP9RtMgDoDE"
   },
   "source": [
    "| 🔢 Method                               | Code / Command                               | Used In                                                                                                                        | Description                                                                                       |\n",
    "| --------------------------------------- | -------------------------------------------- | ------------------------------------------------------------------------------------------------------------------------------ | ------------------------------------------------------------------------------------------------- |\n",
    "| **1**                                   | `!huggingface-cli login`                     | Terminal / Colab / Jupyter (Shell cell)                                                                                      | CLI command. Prompts you to paste your HF token and saves it in global config. Works system-wide. |\n",
    "| **2**                                   | `from huggingface_hub import HfApi`          |                                                                                                                                |                                                                                                   |\n",
    "| `api = HfApi(token=\"YOUR_WRITE_TOKEN\")` | Python Scripts / Automation                | Directly initializes an API object with token (temporary). Useful for scripting, CI/CD, etc. Doesn’t store token globally.     |                                                                                                   |\n",
    "| **3**                                   | `from huggingface_hub import login`          |                                                                                                                                |                                                                                                   |\n",
    "| `login(\"YOUR_TOKEN\")`                   | Python Scripts                             | Programmatic login — stores token in local Hugging Face config (like CLI does). Good alternative to CLI login inside a script. |                                                                                                   |\n",
    "| **4**                                   | `from huggingface_hub import notebook_login` |                                                                                                                                |                                                                                                   |\n",
    "| `notebook_login()`                      | Jupyter / Colab Notebooks                  | Interactive login box inside notebooks. Token is saved in session/local config. Beginner-friendly.                             |                                                                                                   |\n"
   ]
  },
  {
   "cell_type": "code",
   "execution_count": null,
   "metadata": {
    "id": "U_FSjXocH6ho"
   },
   "outputs": [],
   "source": [
    "from google.colab import userdata"
   ]
  },
  {
   "cell_type": "code",
   "execution_count": null,
   "metadata": {
    "id": "QVqX-7AcEsbn"
   },
   "outputs": [],
   "source": [
    "READ_TOKEN=userdata.get(\"HF_TOKEN_READ\")"
   ]
  },
  {
   "cell_type": "code",
   "execution_count": null,
   "metadata": {
    "id": "rv-ygm5KEtE4"
   },
   "outputs": [],
   "source": [
    "WRITE_TOKEN=userdata.get('HF_TOKEN_WRITE')"
   ]
  },
  {
   "cell_type": "code",
   "execution_count": null,
   "metadata": {
    "id": "NSlCig7OFJSa"
   },
   "outputs": [],
   "source": [
    "# import os\n",
    "# os.environ[\"HF_READ_TOKEN\"] = userdata.get(\"HF_READ_TOKEN\")\n",
    "# os.environ[\"HF_WRITE_TOKEN\"] = userdata.get(\"HF_WRITE_TOKEN\")\n"
   ]
  },
  {
   "cell_type": "markdown",
   "metadata": {
    "id": "HrxDW4PaC1oA"
   },
   "source": [
    "#### First is CLI"
   ]
  },
  {
   "cell_type": "code",
   "execution_count": null,
   "metadata": {
    "id": "xchfx-q-COTk"
   },
   "outputs": [],
   "source": [
    "#This command tells Git to save your credentials (username + password or token) permanently in a plain text file on your computer,\n",
    "#so you don’t have to enter them again when pushing/pulling from a remote repo."
   ]
  },
  {
   "cell_type": "code",
   "execution_count": null,
   "metadata": {
    "colab": {
     "base_uri": "https://localhost:8080/"
    },
    "id": "fRT-OxahBnKR",
    "outputId": "b6f810fc-331d-48ea-fd07-c01a6a6cbc32"
   },
   "outputs": [],
   "source": [
    "!huggingface-cli login"
   ]
  },
  {
   "cell_type": "code",
   "execution_count": null,
   "metadata": {
    "colab": {
     "base_uri": "https://localhost:8080/"
    },
    "id": "cha-eEhSBalv",
    "outputId": "4fa36989-8193-40f1-952a-5e5f3afd33b9"
   },
   "outputs": [],
   "source": [
    "!huggingface-cli whoami"
   ]
  },
  {
   "cell_type": "markdown",
   "metadata": {
    "id": "4CWEFT2E-dfm"
   },
   "source": [
    "#### for this one you will have to use token with write permission"
   ]
  },
  {
   "cell_type": "code",
   "execution_count": null,
   "metadata": {
    "colab": {
     "base_uri": "https://localhost:8080/"
    },
    "id": "H8yC2MKFBMMm",
    "outputId": "8980bc12-73e8-4961-b650-edaeef4900ee"
   },
   "outputs": [],
   "source": [
    "!huggingface-cli repo create livehfcourse --repo-type model"
   ]
  },
  {
   "cell_type": "code",
   "execution_count": null,
   "metadata": {
    "colab": {
     "base_uri": "https://localhost:8080/"
    },
    "id": "qhUgTNSUBPjQ",
    "outputId": "63d12957-b972-4ef9-cefa-295890c9f38f"
   },
   "outputs": [],
   "source": [
    "!huggingface-cli repo create livehfdatacourse --repo-type dataset"
   ]
  },
  {
   "cell_type": "code",
   "execution_count": null,
   "metadata": {
    "colab": {
     "base_uri": "https://localhost:8080/"
    },
    "id": "70fI4GIUBRyE",
    "outputId": "efcbdef0-ae9a-4385-9f45-2690e1ae3ded"
   },
   "outputs": [],
   "source": [
    "!huggingface-cli repo create dummy --repo-type=space --space=docker"
   ]
  },
  {
   "cell_type": "markdown",
   "metadata": {
    "id": "IG1QzB7wC4XT"
   },
   "source": [
    "### Seond Via API"
   ]
  },
  {
   "cell_type": "code",
   "execution_count": null,
   "metadata": {
    "id": "BGcqO_75gEg8"
   },
   "outputs": [],
   "source": [
    "import os\n",
    "from huggingface_hub import HfApi\n",
    "from google.colab import userdata"
   ]
  },
  {
   "cell_type": "code",
   "execution_count": null,
   "metadata": {
    "id": "Kg48JRaqB4No"
   },
   "outputs": [],
   "source": [
    "api = HfApi(token=WRITE_TOKEN)"
   ]
  },
  {
   "cell_type": "code",
   "execution_count": null,
   "metadata": {
    "colab": {
     "base_uri": "https://localhost:8080/",
     "height": 52
    },
    "id": "JDEy8zJGCobI",
    "outputId": "71bb6aac-af94-482b-ee56-9692730ecd44"
   },
   "outputs": [],
   "source": [
    "api.create_repo(\n",
    "    repo_id=\"sunny199/sunnyrepo\",  # full path\n",
    "    repo_type=\"model\",                         # or just skip (default is model)\n",
    "    private=False                              # set True for private repo\n",
    ")"
   ]
  },
  {
   "cell_type": "code",
   "execution_count": null,
   "metadata": {
    "colab": {
     "base_uri": "https://localhost:8080/",
     "height": 86
    },
    "id": "6i9t9XNIgVGS",
    "outputId": "25fae1fc-2e9d-426b-fad7-2e48b5901827"
   },
   "outputs": [],
   "source": [
    "api.upload_file(\n",
    "    path_or_fileobj=\"/content/testfile/config.json\",\n",
    "    path_in_repo=\"config.json\",  # Where it goes in repo\n",
    "    repo_id=\"sunny199/sunnyrepo\"  # Same as created above\n",
    ")"
   ]
  },
  {
   "cell_type": "markdown",
   "metadata": {
    "id": "Pc2rzKLhDAHi"
   },
   "source": [
    "## Third Via login"
   ]
  },
  {
   "cell_type": "code",
   "execution_count": null,
   "metadata": {
    "id": "820vggVzCGcA"
   },
   "outputs": [],
   "source": [
    "from huggingface_hub import login\n",
    "\n",
    "login(READ_TOKEN)"
   ]
  },
  {
   "cell_type": "code",
   "execution_count": null,
   "metadata": {
    "id": "7KhdNKvZFBTi"
   },
   "outputs": [],
   "source": [
    "from huggingface_hub import login\n",
    "\n",
    "login(WRITE_TOKEN)"
   ]
  },
  {
   "cell_type": "markdown",
   "metadata": {
    "id": "ykp9oBmeEN81"
   },
   "source": [
    "## Notebook login"
   ]
  },
  {
   "cell_type": "code",
   "execution_count": null,
   "metadata": {
    "colab": {
     "base_uri": "https://localhost:8080/",
     "height": 359,
     "referenced_widgets": [
      "3e87396a394a459d8c9a3d031d6ee825",
      "02d03d27dc22487fb143f953ec3d9c70",
      "3b4804dec8874e4b8737e8f6e3a2944b",
      "d91274cd2ab7400a92070e84f4beb6a1",
      "4c52d25b78c64937935c21670a3762f3",
      "08b2067c07a44f3690b69ed6fa6ecaa8",
      "9434e809b5cb4d639e82949b0bd4419a",
      "da358a29769b4fc99cd4534bba1e60e0",
      "f0b0889380a7491c8eedacebab004092",
      "8a1e5ce3063b4750946fd7e0d13891af",
      "3677b9ca590b42c3a47077b594f6db7e",
      "b399a339c0b9409cb5ae129906f1cecb",
      "c261a3231a554666a5172d517b9bbe4e",
      "b6681efe2ce84dfaa026784b2f00c954",
      "260035ada8bc48e6a3a348fba31e6844",
      "18e3fdffa31e41e0931770b29600cf9b",
      "bdec39430c6647b891b4e7a725cac373"
     ]
    },
    "id": "Xh3kQM7OEPE4",
    "outputId": "ee3bb6e8-e45a-4f0c-91fd-ae3ecaeaea46"
   },
   "outputs": [],
   "source": [
    "from huggingface_hub import notebook_login\n",
    "notebook_login()"
   ]
  },
  {
   "cell_type": "markdown",
   "metadata": {
    "id": "skmJpk5BE4oT"
   },
   "source": [
    "## Install datasets library"
   ]
  },
  {
   "cell_type": "code",
   "execution_count": null,
   "metadata": {
    "colab": {
     "base_uri": "https://localhost:8080/"
    },
    "id": "3NJVLSe0IIjC",
    "outputId": "929770f0-ff0f-4796-bfb7-f4a484e64b33"
   },
   "outputs": [],
   "source": [
    "!pip install -U datasets fsspec"
   ]
  },
  {
   "cell_type": "markdown",
   "metadata": {
    "id": "5x_Yl2kRE84O"
   },
   "source": [
    "## Load the Dataset"
   ]
  },
  {
   "cell_type": "code",
   "execution_count": null,
   "metadata": {
    "id": "9MC1iR2RIwBz"
   },
   "outputs": [],
   "source": [
    "# import shutil\n",
    "# shutil.rmtree(\"/root/.cache/huggingface/datasets\", ignore_errors=True)"
   ]
  },
  {
   "cell_type": "code",
   "execution_count": null,
   "metadata": {
    "id": "Osiwm9aAFWQ8"
   },
   "outputs": [],
   "source": [
    "from datasets import load_dataset"
   ]
  },
  {
   "cell_type": "code",
   "execution_count": null,
   "metadata": {
    "colab": {
     "base_uri": "https://localhost:8080/",
     "height": 241,
     "referenced_widgets": [
      "aca8697af82e4cae9e73774e653e42c6",
      "e3b287d26b4a41918b4dfd28da659f14",
      "f5d48917654b4797b2fc12afa184674e",
      "db6e26c237a4490e82cd9f325f1caa46",
      "7e36009cf6964c49b6d055b7d3f050d0",
      "8369e0ec84fb4952a00160df8dd8c1af",
      "1c5265f302ed45a3b69db0e23377a640",
      "5cc8d5af073b47f2bf6ffa1b17eda702",
      "18798ec543324c7ab1de349304ecb7ef",
      "106a70482cad4e45a39ff2053d49707a",
      "16449aa57886447ebf77aafef403e02f",
      "effecedb535a4fb3aff2e031541bf33f",
      "46bb48c8d4784f8680e5c57da8e68baa",
      "6c52561e77fd447ea8d9a073b5359f47",
      "8cb9b182143a4d5ba2efdd05c46c6b90",
      "cb42ef6be8ab499581d2c02ba6785f97",
      "46406389157c4e04ab31bf7e9990279f",
      "ec7d9afd48b94d1497f8616b211fb064",
      "a96d62542b124d8d91b5d7f2abcdcd71",
      "ad1029e20fdc4e88a0db43a08b07448b",
      "17077cb2d00f4ae99706fd7854acad64",
      "d016b2d3146c4e7488fd63ea7548a217",
      "aa2047ebbb7b49a5a9608292fb8a6049",
      "6c77eadd0895487bbc1a42bb5e100120",
      "9b6360f4463e43d88176ef549dd40163",
      "6f79a5815ecb4e7c8b99aab24237351b",
      "06858a4d3a884a2f95435217d11c3749",
      "2c4a8ec7901d49c09a1b8225b7b58a04",
      "c7d23d55840a409ebdab8046db775d67",
      "869de6a495bd4f528c01ba9d66f13d1c",
      "426ffc39517b44a0a1cae3e15f2c38f0",
      "af50469eab7f4247ad4e7fd2c2739080",
      "387c904c8acc483c91d3cf16a58c3fdb",
      "8e9d7e7cc2b64333b8d8f668508fd257",
      "1b9f39713af2464b95dbe3e6e45ca235",
      "537f2c0ebf9f4fd4b536d5be1f33fa35",
      "913ed87128f1472abf49d24edae320af",
      "b160ab344afb4c2b976b0b7bf3c823e7",
      "e05dd1218a0349998b5f9ef6ac800bc8",
      "7f5f6341726b4df381eb4ebbcc9d56c3",
      "b4842dea7f8a4c89a83ac01aa66c19a8",
      "cebf8b81b7d64b02883036485c0be454",
      "6c9aa5c048b5419287ab03de46e25eb8",
      "e17bd2b0dda649c690933e51e74cdc4f",
      "e9af661756e741dab933246620cacd58",
      "a2968301ac2841a1b774107bfeef4b01",
      "4fad34b7f1bd4ea4a9b5d90aaa6c22cd",
      "67b357e7733f423d86e6a3f5d5b2a75e",
      "e7fefdea46a141b9beded82238e187a3",
      "85b5e9578ba04a74a685fa0fe7ff1d7a",
      "4abce90df1b34eb0a7512970709dda46",
      "53bdb39fd6ad487386e28acdcd82cd61",
      "90d6a05f3bcf47a7b2ea467e0ce192ce",
      "f7e473885fcc4a16b4188af8c8d10925",
      "050722b80ae94ee095bdf455d1509319",
      "6cadde954a054968a4517523c3142e30",
      "65614344dcaa4aa08897d74368aeaf24",
      "f8c4e9ec069442a7aad8ab97c84a6802",
      "3ba6d0c2bc964d73bcf242474b275474",
      "ffcdcdcf99f243d2943bc6dd6b6fcb48",
      "6fe0029a66144f00b81356742fd3ff18",
      "ed89cd9351ee4a38a92e08d3c7ad45bf",
      "57ead3f04d91452f96d18e180a8c99b1",
      "4af01b25f0c14256919593eb0e48fd3c",
      "7c98817c0425407186c884657dc034c3",
      "4aaad47053744c1c892b97f2d976a652",
      "550ea09d0cca43898cc6ec62f9b8af8b",
      "abdad3eebd3741cbaaf933235bf4461c",
      "15f4a809d66945019471c8021c5a4a6f",
      "942138b397d34d33bd01b1d5f4919c70",
      "ec3657334b5f4d4a9120927d5ebbc5ad",
      "af89f631adf14d25831310edb3f7ed80",
      "1add3b3fb8bb4144ac1f2729f60d0f51",
      "03901f00e6ad400e9e8c1a059a31e42f",
      "b58a4eebd8ba4b1b8dd84e60c96a45f6",
      "3863eccd71014a1ab324b2959f53f804",
      "36ba4cff3a294747a05ef0ec72785f6f"
     ]
    },
    "id": "6dW0c9U_PoFL",
    "outputId": "bde2473c-90f3-4953-e41a-34dec626922b"
   },
   "outputs": [],
   "source": [
    "dataset = load_dataset(\"stanfordnlp/imdb\")  # IMDB movie review dataset"
   ]
  },
  {
   "cell_type": "code",
   "execution_count": null,
   "metadata": {
    "colab": {
     "base_uri": "https://localhost:8080/"
    },
    "id": "d0jUdVZVPqa2",
    "outputId": "f4fdc08b-5b3c-492f-94ad-724486b74fba"
   },
   "outputs": [],
   "source": [
    "print(dataset)"
   ]
  },
  {
   "cell_type": "markdown",
   "metadata": {
    "id": "2A22scb7mZLR"
   },
   "source": [
    "| Split       |  Description                                                                   |\n",
    "| -------------- | -------------------------------------------------------------------------------- |\n",
    "| `train`        | 25,000 examples → For training a sentiment classifier                            |\n",
    "| `test`         | 25,000 examples → For evaluating your model                                      |\n",
    "| `unsupervised` | 50,000 examples → No clean label (used for pretraining or self-supervised tasks) |"
   ]
  },
  {
   "cell_type": "code",
   "execution_count": null,
   "metadata": {
    "colab": {
     "base_uri": "https://localhost:8080/"
    },
    "id": "_4Yp1wdEEuEw",
    "outputId": "5f8f1cee-682c-4a1a-a1d8-a1d1d4564a29"
   },
   "outputs": [],
   "source": [
    "print(dataset[\"train\"])"
   ]
  },
  {
   "cell_type": "code",
   "execution_count": null,
   "metadata": {
    "colab": {
     "base_uri": "https://localhost:8080/"
    },
    "id": "pJg_NDAHPHj3",
    "outputId": "f38d36db-8a95-4698-cd1a-e178dd5ac251"
   },
   "outputs": [],
   "source": [
    "print(dataset[\"train\"][0])"
   ]
  },
  {
   "cell_type": "code",
   "execution_count": null,
   "metadata": {
    "colab": {
     "base_uri": "https://localhost:8080/"
    },
    "id": "9R-JdJpC9vip",
    "outputId": "16015224-003e-42cd-a282-fd66190966a7"
   },
   "outputs": [],
   "source": [
    "print(dataset[\"train\"].features)\n",
    "print(dataset[\"train\"].column_names)\n",
    "print(dataset[\"train\"].features[\"label\"].names)\n",
    "print(dataset[\"train\"].num_rows)\n",
    "print(dataset[\"train\"].num_columns)\n",
    "print(dataset[\"train\"].shape)"
   ]
  },
  {
   "cell_type": "code",
   "execution_count": null,
   "metadata": {
    "id": "8deAIsdBmyDQ"
   },
   "outputs": [],
   "source": [
    "shuffled = dataset[\"train\"].shuffle()"
   ]
  },
  {
   "cell_type": "code",
   "execution_count": null,
   "metadata": {
    "colab": {
     "base_uri": "https://localhost:8080/"
    },
    "id": "EG-NTwJzPXRQ",
    "outputId": "01fee9fd-bcf2-4a1c-f308-84149b35e486"
   },
   "outputs": [],
   "source": [
    "shuffled"
   ]
  },
  {
   "cell_type": "code",
   "execution_count": null,
   "metadata": {
    "id": "_CLe-OTBR5uu"
   },
   "outputs": [],
   "source": [
    "shuffled = dataset[\"train\"].shuffle(seed=42)"
   ]
  },
  {
   "cell_type": "code",
   "execution_count": null,
   "metadata": {
    "colab": {
     "base_uri": "https://localhost:8080/"
    },
    "id": "oczzw0BUPWi5",
    "outputId": "58d8d459-218d-45a4-a980-39ed69483c31"
   },
   "outputs": [],
   "source": [
    "shuffled\n"
   ]
  },
  {
   "cell_type": "code",
   "execution_count": null,
   "metadata": {
    "colab": {
     "base_uri": "https://localhost:8080/"
    },
    "id": "t8HyuCwmR9Jj",
    "outputId": "526c6a62-b6ef-4dda-b2b5-8bb6a6579b1f"
   },
   "outputs": [],
   "source": [
    "shuffled.select(range(100))"
   ]
  },
  {
   "cell_type": "code",
   "execution_count": null,
   "metadata": {
    "id": "tj1QUor0RZhS"
   },
   "outputs": [],
   "source": [
    "# Random 5,000 samples from train split\n",
    "subset_train = dataset[\"train\"].shuffle(seed=42).select(range(5000))"
   ]
  },
  {
   "cell_type": "code",
   "execution_count": null,
   "metadata": {
    "colab": {
     "base_uri": "https://localhost:8080/"
    },
    "id": "r8203O8uRgSo",
    "outputId": "bb233d7e-f510-42a6-b7ae-64472ec69aa5"
   },
   "outputs": [],
   "source": [
    "subset_train"
   ]
  },
  {
   "cell_type": "markdown",
   "metadata": {
    "id": "GJ9r5yi89357"
   },
   "source": [
    "### preprocessing on dataset"
   ]
  },
  {
   "cell_type": "markdown",
   "metadata": {
    "id": "dw8G0nVKQlj2"
   },
   "source": [
    "short_reviews naam ka naya dataset milega (Dataset object), jisme sirf short reviews (under 100 characters) honge."
   ]
  },
  {
   "cell_type": "code",
   "execution_count": null,
   "metadata": {
    "colab": {
     "base_uri": "https://localhost:8080/"
    },
    "id": "NC9XH5z2nPbj",
    "outputId": "aebf45ca-8616-4750-d283-a108113730d9"
   },
   "outputs": [],
   "source": [
    "dataset[\"train\"]"
   ]
  },
  {
   "cell_type": "code",
   "execution_count": null,
   "metadata": {
    "colab": {
     "base_uri": "https://localhost:8080/",
     "height": 49,
     "referenced_widgets": [
      "03e213e3a3274affb8b20fb09a3ed1fd",
      "b1acdd7472af4009b09e541c268222f4",
      "7c336f26ec8e4c28a7bd1a0c9698d745",
      "29405791eb304615b381ec4a73d0f399",
      "9833a3534b2b40929a1f81c2e487d202",
      "7e28cdc9284249c6992680674cf2ed05",
      "ab0ed13cca264dd9b602bee45876f636",
      "94ee23138fb34b4092594e3d719983f8",
      "80533808ce8942629fef97c537ecbf6e",
      "cf2a5478b60c418b9c4d0caccc714480",
      "0de9f542eba04bc2ae9c8d355a5aac74"
     ]
    },
    "id": "9TZnuDZb9y4t",
    "outputId": "fc1c96e8-58bb-4e26-9a23-ba0f82fa0902"
   },
   "outputs": [],
   "source": [
    "short_reviews = dataset[\"train\"].filter(lambda x: len(x[\"text\"]) < 100)"
   ]
  },
  {
   "cell_type": "code",
   "execution_count": null,
   "metadata": {
    "colab": {
     "base_uri": "https://localhost:8080/"
    },
    "id": "EL2C99-9_xfz",
    "outputId": "37678c50-ed48-4e26-c67e-5ccb3fc5002d"
   },
   "outputs": [],
   "source": [
    "short_reviews"
   ]
  },
  {
   "cell_type": "code",
   "execution_count": null,
   "metadata": {
    "colab": {
     "base_uri": "https://localhost:8080/",
     "height": 49,
     "referenced_widgets": [
      "349efc999dc34724a2c633285c3133e7",
      "2f0fff02a19145dc9d842e8d6cdb35d0",
      "945bd82b49154ac6a7796d9113e3e680",
      "eb29d5658f024b27b5b0cf895dd54975",
      "3511bafbc32b4205b0d33efda8f3b535",
      "2fb72ac30a8942ef879a6a46cfd3bb72",
      "11dc1f3f59c14ed2993c7d4c34294a0a",
      "1e085927c21f470e89cc8d0b752aaeb6",
      "f3ade53d3cbd4c089b448a886eb3be39",
      "e5022ec5fc0641a1a747ebd2ec8205b8",
      "8efb628e5a20434787453f6b9e147398"
     ]
    },
    "id": "QltN11iXRp-K",
    "outputId": "547a7cdb-e957-415a-b88b-2ef1b33708d6"
   },
   "outputs": [],
   "source": [
    "short_reviews = subset_train.filter(lambda x: len(x[\"text\"]) < 100)"
   ]
  },
  {
   "cell_type": "code",
   "execution_count": null,
   "metadata": {
    "colab": {
     "base_uri": "https://localhost:8080/"
    },
    "id": "yPKScp7TRvDd",
    "outputId": "2a700e97-dd89-4cbb-ee29-2b5f4d7a9a89"
   },
   "outputs": [],
   "source": [
    "short_reviews"
   ]
  },
  {
   "cell_type": "code",
   "execution_count": null,
   "metadata": {
    "colab": {
     "base_uri": "https://localhost:8080/",
     "height": 49,
     "referenced_widgets": [
      "cb6262ad07a044a7b9afbf3447cc005b",
      "c4ed49f459cf47d8b542e9b342692fba",
      "ff001ca630734cfe9fab14ebfb353424",
      "19f0e738add6418eb9d68714dbfe1d51",
      "fd188ef373884e498b8fb5e1598963e1",
      "c5be09c4c01041e7ab7cd3c4e300d8b8",
      "91a3614dd794448eade37d8c0c57d999",
      "f0c06216a81a44a2ab704ad019543b16",
      "f39cffac20754ff19593c3a626e3ee72",
      "dc6259402c3144e3bf5086811d68850e",
      "772bfe2772db4f44bc01fe3a0c04941f"
     ]
    },
    "id": "em2uZOQG_thy",
    "outputId": "35acb729-22ee-40fe-93b2-59bc1d7cb413"
   },
   "outputs": [],
   "source": [
    "short_positive = dataset[\"train\"].filter(lambda x: x[\"label\"] == 1 and len(x[\"text\"]) < 200)"
   ]
  },
  {
   "cell_type": "code",
   "execution_count": null,
   "metadata": {
    "colab": {
     "base_uri": "https://localhost:8080/"
    },
    "id": "mQhVN1rRQ4EX",
    "outputId": "3c5c62bf-c0fa-4102-9d46-754252616bd2"
   },
   "outputs": [],
   "source": [
    "short_positive"
   ]
  },
  {
   "cell_type": "code",
   "execution_count": null,
   "metadata": {
    "id": "AXvNsJ4SQ9D3"
   },
   "outputs": [],
   "source": [
    "def add_word_count(example):\n",
    "    example[\"word_count\"] = len(example[\"text\"].split())\n",
    "    return example"
   ]
  },
  {
   "cell_type": "code",
   "execution_count": null,
   "metadata": {
    "colab": {
     "base_uri": "https://localhost:8080/",
     "height": 113,
     "referenced_widgets": [
      "d6d79b3b20cb44ae9065c0226a8059a0",
      "042f10fa08be4a37b81f4680b9955b50",
      "429a2e1bfc6e4173a4c3981f911fa76f",
      "0dd4fbe697d44fb7938cb0a3aef45036",
      "338ba98ec6214a06a088a71f8f30b7b8",
      "fed56a35a97b44de9bac7b98a8ac120b",
      "f9f58c7cd00b418babe30c3a5e8e63e7",
      "cd28fc8b53b045a3a7f30af08daef7ba",
      "d068c141fda84b48889e769dedc5d4e8",
      "38e4b48cc0684469ab9e886438b8b5f2",
      "f18070b9d1e04786abc1c238daef943b",
      "125f1684b6a64e09bf992b5f04255f6a",
      "60d2fc9842a84ce5a900ed896d092cb7",
      "97a91de46e7b465d8dfeab9acf552d09",
      "731217978f914179b72a00a92eb1dac6",
      "6ac1d5fae6e24888be171ed5d0c979ba",
      "5696ee733ebd485b953563ba5ab1476c",
      "4e134d8225af41309782d496e4801f76",
      "4790d6564fff4ed2b94efd8f827fbe80",
      "fc886784a42d424aace63ad8a41ea588",
      "6676c7d8d9ec4dc0b4ceab10fcef1c2b",
      "659320f91f8b4583944140ebfa1d6e8c",
      "81e6fc2494104ba68d279f912983021d",
      "84a409fec3ad44a7a905a966bc771e74",
      "7649e7feddd244e8a585b1e07757a101",
      "f15a40555cbc4323a96664c43c4db5af",
      "c087c501dea9445fa036f7403294f42b",
      "7a9f2ba350aa4ac5885eedec552b2f75",
      "2307fcabd2ac44498cf2adb752dbd3df",
      "f552440af51a4951b0aea2f736d6dcbe",
      "10899a828fb942dcbe7db88ce28792b0",
      "279e4c3c14fb433b8778456e5583e911",
      "c05bc82b7d844f41bfba107e0be5587d"
     ]
    },
    "id": "zv6P-25I_3Dn",
    "outputId": "bf11a07a-7ae1-448b-878c-9b3fc9a34d37"
   },
   "outputs": [],
   "source": [
    "dataset = dataset.map(add_word_count)"
   ]
  },
  {
   "cell_type": "code",
   "execution_count": null,
   "metadata": {
    "colab": {
     "base_uri": "https://localhost:8080/"
    },
    "id": "Ipuf_NPknvt-",
    "outputId": "5aed0d10-b65f-4a03-b359-5987d50d9c17"
   },
   "outputs": [],
   "source": [
    "dataset"
   ]
  },
  {
   "cell_type": "code",
   "execution_count": null,
   "metadata": {
    "colab": {
     "base_uri": "https://localhost:8080/"
    },
    "id": "9GSLRt2KQ-4u",
    "outputId": "0a06f368-1115-4381-8215-f841603c3cff"
   },
   "outputs": [],
   "source": [
    "print(dataset[\"train\"][0][\"word_count\"])"
   ]
  },
  {
   "cell_type": "code",
   "execution_count": null,
   "metadata": {
    "colab": {
     "base_uri": "https://localhost:8080/"
    },
    "id": "s80Xp6zEnzX1",
    "outputId": "ea1fb739-5fe5-4bb6-c683-d9236d01e1ef"
   },
   "outputs": [],
   "source": [
    "print(dataset[\"train\"][1][\"word_count\"])"
   ]
  },
  {
   "cell_type": "code",
   "execution_count": null,
   "metadata": {
    "colab": {
     "base_uri": "https://localhost:8080/"
    },
    "id": "uTJXfRKkn5sS",
    "outputId": "ee0ed525-c59a-49e9-c27b-a0588bff7971"
   },
   "outputs": [],
   "source": [
    "print(dataset[\"train\"][2][\"word_count\"])"
   ]
  },
  {
   "cell_type": "code",
   "execution_count": null,
   "metadata": {
    "id": "npUoEN2C_DDV"
   },
   "outputs": [],
   "source": [
    "split_dataset = dataset[\"train\"].train_test_split(test_size=0.2)"
   ]
  },
  {
   "cell_type": "code",
   "execution_count": null,
   "metadata": {
    "colab": {
     "base_uri": "https://localhost:8080/"
    },
    "id": "aSLhNxxU_DFs",
    "outputId": "0d93b581-1457-48fe-f1d0-52aaa83b7d62"
   },
   "outputs": [],
   "source": [
    "split_dataset"
   ]
  },
  {
   "cell_type": "markdown",
   "metadata": {
    "id": "ZEGN6vQkFDBr"
   },
   "source": [
    "######openwebtext is a large-scale, internet-based corpus (similar to what GPT-2 was trained on), containing raw text scraped from web pages."
   ]
  },
  {
   "cell_type": "markdown",
   "metadata": {
    "id": "F-HqiKrkFMD2"
   },
   "source": [
    "streaming=True\n",
    "⚠️ Very important!\n",
    "\n",
    "Normally, Hugging Face datasets are downloaded completely to disk before being used (especially for large datasets, this can be slow/heavy).\n",
    "\n",
    "When streaming=True:\n",
    "\n",
    "The dataset is not downloaded in full\n",
    "\n",
    "Data is streamed sample-by-sample on-the-fly\n",
    "\n",
    "Useful for huge datasets that can’t fit into memory (like c4, the_pile, openwebtext)\n",
    "\n",
    "You get a generator-style iterable dataset, not an in-memory list"
   ]
  },
  {
   "cell_type": "code",
   "execution_count": null,
   "metadata": {
    "colab": {
     "base_uri": "https://localhost:8080/",
     "height": 170,
     "referenced_widgets": [
      "7f236a466f1a40f693eedb4bfddef713",
      "0bcf9b07738e4cd78f4ba01966489fe7",
      "46edf66bced84c879507c78feb6d8bb0",
      "a4636a452cdf4c0bb6abfd7f93ac79fb",
      "4ac3e827d763403491e5da71d62467bc",
      "fb8c0259e64247c586a6852f4263e235",
      "c81dfe2baa734c0d95481aa7e6a7beae",
      "dce063a86b6b4ff2891e7552e7e3e8ee",
      "454722fe0f514c4b9c3ab332102de412",
      "dcdded630b1e411ca4f228d2f373599b",
      "f81f558f961f4b80971c9ee3f81cd5d9",
      "b29bf435231a420eb03a6e55f5b87f8e",
      "2c42f97e5caf41d39679881434a11d60",
      "e5ac386b03d44238a35418bcf0492ff2",
      "35323c79bb074899bb64a9c5dc4e0687",
      "f72c8fd42bbb4fee931dc6bfd4caffe7",
      "4604dc8f187f4596b3731773456b3531",
      "dff54531a9164ee287d6944e01d808b1",
      "3aae1b87a2e64c5ead2ec8acf97f1aa6",
      "c57df1b6878a4e61af5ec0f5736aba70",
      "2eeff6fb3e6c4960a6fa142a0e1c2499",
      "38cf7fde674e42b0acfdb2efffa09da8"
     ]
    },
    "id": "jJ7IornZoEeT",
    "outputId": "057c1275-0da7-4309-acf3-d5c4d4abefc4"
   },
   "outputs": [],
   "source": [
    "big_data = load_dataset(\"openwebtext\", streaming=True)"
   ]
  },
  {
   "cell_type": "code",
   "execution_count": null,
   "metadata": {
    "colab": {
     "base_uri": "https://localhost:8080/"
    },
    "id": "shVfNkJgoPdz",
    "outputId": "aeb80ff4-452f-4e03-ceff-28839762692c"
   },
   "outputs": [],
   "source": [
    "big_data"
   ]
  },
  {
   "cell_type": "markdown",
   "metadata": {
    "id": "hFYb8y2uo1Ju"
   },
   "source": [
    "| Part                  | Meaning                                                 |\n",
    "| --------------------- | ------------------------------------------------------- |\n",
    "| `IterableDatasetDict` | Dictionary-like object with splits (`train`, etc.)      |\n",
    "| `train`               | Only split provided in `openwebtext`                    |\n",
    "| `features: ['text']`  | Each example is a dict: `{\"text\": \"...large block...\"}` |\n",
    "| `num_shards: 21`      | Internally it's chunked into 21 streamable parts        |\n",
    "\n",
    "\n",
    "Dataset: openwebtext\n",
    "\n",
    "Size: ~8.13 million documents\n",
    "\n",
    "Total tokens: ~40+ billion tokens\n",
    "\n",
    "Size on disk: ~38 GB"
   ]
  },
  {
   "cell_type": "code",
   "execution_count": null,
   "metadata": {
    "colab": {
     "base_uri": "https://localhost:8080/"
    },
    "id": "wXm7yLYyTGdJ",
    "outputId": "f5eea18a-4328-4342-ac17-4b1600060cd9"
   },
   "outputs": [],
   "source": [
    "for item in big_data[\"train\"].take(5):\n",
    "    print(item)"
   ]
  },
  {
   "cell_type": "markdown",
   "metadata": {
    "id": "uDtKmde8HBIO"
   },
   "source": [
    "c4 → Colossal Clean Crawled Corpus\n",
    "Full Form:\n",
    "C4 = Colossal Clean Crawled Corpus\n",
    "\n",
    "It was introduced in the T5 paper (Text-to-Text Transfer Transformer) by Google and used as its main pretraining dataset.\n",
    "\n",
    "\"c4\"\tThe dataset ID (web-crawled dataset)\n",
    "\n",
    "\"en\"\tSubset config → English-only version"
   ]
  },
  {
   "cell_type": "code",
   "execution_count": null,
   "metadata": {
    "colab": {
     "base_uri": "https://localhost:8080/",
     "height": 205,
     "referenced_widgets": [
      "679c805c9eb24e3495a8e4ba79029f23",
      "9fca1d00b4e444ac9d37e0f59562a08d",
      "bccb4df599344178947ae95598b9584b",
      "002c774a6eb848529bddd60ffa4e26b6",
      "f1c4f0d62e6847d5af597b3ee6fac149",
      "9bbc7ba7a54a4516bd02a8bb1d958f25",
      "2f288304648b4d669fb9466eef298b50",
      "00adcd2e7c6544ca81a2cbddf22272b4",
      "694a286d03fe4f48ab114ca6518d74dd",
      "3206526285b643148f9c7f64089b332b",
      "fc7caad7f2de44b280244e2d077ca80e",
      "a472ada456ed470490981ef406a30e5d",
      "ed0b71ee8f1649e98dbf7dfea7935d71",
      "4f00a5f7b787499f899c35e641e75f07",
      "1d9205bfcd524f6facd771f1e346d2f2",
      "5ebca5a0d1a34c4a86b9d8451958443b",
      "8fc9137a5af0464281723867723b2bd9",
      "ad6b9e5611b448a8b75975688d7ba397",
      "05d8716c8ee9497da857cb107ff1928d",
      "d3ed1eb029a9429f80d63991f6697d2b",
      "26ea052b47434ef5b5bdbea1bf60a149",
      "57ef4146705947fd8dc541c21042c52e"
     ]
    },
    "id": "RUhixGhCTaRf",
    "outputId": "7f2d5fb4-d048-4d0b-86b4-d31a0366193e"
   },
   "outputs": [],
   "source": [
    "web_crawled_data = load_dataset(\"c4\", \"en\", split=\"train\", streaming=True)"
   ]
  },
  {
   "cell_type": "code",
   "execution_count": null,
   "metadata": {
    "colab": {
     "base_uri": "https://localhost:8080/"
    },
    "id": "1c2K29TJTHqC",
    "outputId": "1cb651bb-58aa-4d0a-9a87-9c0e3f822db8"
   },
   "outputs": [],
   "source": [
    "for i, item in enumerate(web_crawled_data):\n",
    "    print(item)\n",
    "    if i > 4:\n",
    "        break"
   ]
  },
  {
   "cell_type": "markdown",
   "metadata": {
    "id": "hqnjhbMETtV9"
   },
   "source": [
    "Dataset: tweet_eval – Sentiment Classification Task\n",
    "\n",
    "Full Name: TweetEval: Unified Benchmark for Tweet Classification Tasks\n",
    "\n",
    "This dataset comes from the TweetEval paper and includes multiple Twitter-specific NLP tasks."
   ]
  },
  {
   "cell_type": "code",
   "execution_count": null,
   "metadata": {
    "colab": {
     "base_uri": "https://localhost:8080/",
     "height": 241,
     "referenced_widgets": [
      "a1704ae74f2c4957ac2f136f27b40078",
      "a1412cf20cfb41979d46891a0505cf8d",
      "b27f0d469f98434bb9a34fd790400244",
      "d73103258bc54f01ab6de5b94534d4a3",
      "e7e8d57facfc496bae5fba4374c0e017",
      "3597d3e244c047c08b7cf80343417798",
      "05bce10c453b4f1b8635cc31eacdaf4d",
      "09585a46a1cb412e873c6c865bd3fd88",
      "6f5344c0313646be9b45bf488ca51aac",
      "9c696b5ba20a4dff849f88f6de738bd3",
      "385078e352cf4b0ea823a6a608b404e0",
      "02d8a1c1625f45ecb8eef73179c2eb78",
      "3bab7f6d70e74eb18ace5c26200f0b45",
      "4593c94cd2614bdf8fb034b99677829c",
      "bef33a63b71c42a3be1acbcb45c2a2b7",
      "1bf88985323e42c79011dd9c9de8155c",
      "a9a8f958217f4dd9858944c19e3a1731",
      "ce0ff2014729468caeafca802879cebc",
      "aa4067bb820041998c32ebea892a643e",
      "c5c7da14faf74cacbd3adf4545dbf593",
      "c2452998a64a441285ce5bc83fa95c48",
      "0f500e4e33364ae0b1fa867320c7e3bd",
      "1e7fb7156c2e47879c50c4ab5eeb9a16",
      "e85a906565704132ae6668e808554364",
      "c595a12d58ed4f1d86ee7117a5764904",
      "df576d74d24946f1a74b75ead085b35c",
      "158a0d4d7c874e78a4b4b6a8daf2f4ab",
      "e9f594e5b64a468d875641986e13a80e",
      "1939557fce2948dfac8aa5c60f2f55a3",
      "0dd07c8240034d649e803eb080f9df0a",
      "4fed14e65e0d42d39b26de35d754cc5b",
      "510aaa3eafc34831a149663422a5221b",
      "292fdba0ead1449cbc787fd231583166",
      "2a30950bcc6141b6a9763e4ba023153c",
      "7a19fd4ca3564ce79cba6dbc4e56fdbb",
      "29a591ffee2c4ec2b627e7a087f5aa13",
      "a55927fd417e42fc95574183f2b0c8b9",
      "48e9ec70289a432ba49877a60bb0d809",
      "f06901a007a04d2085c81e072481b7b2",
      "6c1788c5b8eb4bb99926311d6d839cb8",
      "1af41646b7b7437d868502bb8fe0dd87",
      "0cbdb65beb184e15971c063335f0a091",
      "3564ded4561f41eb990e64c69c1eaa20",
      "2d0bca1f4ae24e729137a025bc15f074",
      "04c11d80d1da499586610f37c2757ecf",
      "04d5a08cf54f42a885875c1ef81f695e",
      "a67e10bd49674930b10c7a6a27cfed05",
      "f55e8681e156412e9835bc88044ee84d",
      "21fffa34a7d24025a13ed27545a57d60",
      "4e00a35ab8f045c2a9c4b2dbcfbce5f5",
      "183398f48e7545b5b9ff6f34d1c43a9a",
      "7a2434acb9324922aabd6b1f2dc5516e",
      "26e4e7b5ea5c49989fe8928db0fd9ee8",
      "6d6978c0c8684f0eb228004bf3f237fe",
      "c89d3d13be5a45dea830123c1d86272d",
      "dcd1c5298d024732b396a13d2bfadcef",
      "392ac98fe93245a083bf48093de2755a",
      "9b05d452b0ae4cdd93271d461d0a0c52",
      "876313bf35234214b157b231047fdd73",
      "c22e89bc805242b2a12180cdef3279ff",
      "1c6c2e0158904f0eba127bd624d25da7",
      "8d226d36ebfc410786ba2e4fc8422066",
      "53166cfb645b486886e423cba97c60d1",
      "911ef9ffd4e547838a213a48fe597ba8",
      "2cfe6dde51b647978ad4bdc7ec333525",
      "9b01f18e86b8460e9de5b0629b3e1038",
      "2d2c7b4aac1c4f4ca8ee5e67865209d2",
      "00aae9b0ebbe4e458a758b7a83dd834f",
      "1e2e9ea982fc419db7fbd88cd0482de2",
      "919d28ce3ad94d17aadfab2db68a03b6",
      "f5be56a145ce42baa7fe40ee3d1f91c2",
      "58ed17406a694240b783764deff26feb",
      "367d02a436ea4b45a456d02c81dd69b9",
      "c472c41c07924dfeab5f40621ab4a005",
      "516f809725f9473cb3904a20064e3cfd",
      "59b049105dbe49ce81225419d1a17a6f",
      "8e60f3ccf8554d23b51c291ee6e988ff"
     ]
    },
    "id": "MOSHRPiiT2Ty",
    "outputId": "a4022e5b-57d3-4777-f6a5-20ce16c692f2"
   },
   "outputs": [],
   "source": [
    "# Load Dataset\n",
    "dataset = load_dataset(\"tweet_eval\", \"sentiment\")"
   ]
  },
  {
   "cell_type": "code",
   "execution_count": null,
   "metadata": {
    "colab": {
     "base_uri": "https://localhost:8080/"
    },
    "id": "VSTPR2IEqasg",
    "outputId": "b87a7a48-0ff1-48f7-d4db-ffd63dd1fa38"
   },
   "outputs": [],
   "source": [
    "dataset"
   ]
  },
  {
   "cell_type": "markdown",
   "metadata": {
    "id": "4i-g6Nv2qhtr"
   },
   "source": [
    "| Part          | Meaning                                    |\n",
    "| ------------- | ------------------------------------------ |\n",
    "| `tweet_eval`  | Dataset collection for Twitter NLP         |\n",
    "| `\"sentiment\"` | Subset task: sentiment classification      |\n",
    "| Labels        | 0 = Negative, 1 = Neutral, 2 = Positive    |\n",
    "| Use case      | Train/test sentiment classifiers on tweets |\n"
   ]
  },
  {
   "cell_type": "code",
   "execution_count": null,
   "metadata": {
    "colab": {
     "base_uri": "https://localhost:8080/",
     "height": 452
    },
    "id": "CBAfeNFCAEoW",
    "outputId": "cb6ecd20-1a67-478e-feaa-43b83fc76cdd"
   },
   "outputs": [],
   "source": [
    "import matplotlib.pyplot as plt\n",
    "labels = [example[\"label\"] for example in dataset[\"train\"]]\n",
    "plt.hist(labels, bins=3, edgecolor=\"black\")\n",
    "plt.xticks([0,1,2], [\"Negative\", \"Neutral\", \"Positive\"])\n",
    "plt.title(\"Tweet Sentiment Distribution\")\n",
    "plt.show()"
   ]
  },
  {
   "cell_type": "code",
   "execution_count": null,
   "metadata": {
    "id": "ci8sq8G_qy-h"
   },
   "outputs": [],
   "source": [
    "import matplotlib.pyplot as plt\n",
    "from collections import Counter\n",
    "label_counts = Counter([ex[\"label\"] for ex in dataset[\"train\"]])\n",
    "labels = [\"Negative\", \"Neutral\", \"Positive\"]\n",
    "counts = [label_counts[i] for i in range(3)]"
   ]
  },
  {
   "cell_type": "code",
   "execution_count": null,
   "metadata": {
    "colab": {
     "base_uri": "https://localhost:8080/"
    },
    "id": "Jai_HuO9q0Hw",
    "outputId": "09ef09db-4a8d-490c-aeff-45b93602c9c7"
   },
   "outputs": [],
   "source": [
    "counts"
   ]
  },
  {
   "cell_type": "code",
   "execution_count": null,
   "metadata": {
    "colab": {
     "base_uri": "https://localhost:8080/",
     "height": 434
    },
    "id": "8qgNZr7bAJfb",
    "outputId": "ef85a403-9828-49d2-8580-ca3a6ffd9ec1"
   },
   "outputs": [],
   "source": [
    "plt.pie(counts, labels=labels, autopct=\"%1.1f%%\", startangle=140)\n",
    "plt.title(\"Sentiment Proportions (Pie Chart)\")\n",
    "plt.axis(\"equal\")\n",
    "plt.show()\n"
   ]
  },
  {
   "cell_type": "code",
   "execution_count": null,
   "metadata": {
    "id": "5AA9fBn4q8Db"
   },
   "outputs": [],
   "source": [
    "from collections import Counter\n",
    "import re\n",
    "all_words = []\n",
    "for i in range(1000):\n",
    "    words = re.findall(r\"\\w+\", dataset[\"train\"][i][\"text\"].lower())\n",
    "    all_words.extend(words)\n",
    "top_words = Counter(all_words).most_common(20)\n",
    "words, counts = zip(*top_words)"
   ]
  },
  {
   "cell_type": "code",
   "execution_count": null,
   "metadata": {
    "colab": {
     "base_uri": "https://localhost:8080/",
     "height": 507
    },
    "id": "fuj-M3z3AMIq",
    "outputId": "76cbe313-461c-4fba-d6a8-7a89e9de4b1b"
   },
   "outputs": [],
   "source": [
    "plt.figure(figsize=(10,5))\n",
    "plt.bar(words, counts, color=\"orange\")\n",
    "plt.xticks(rotation=45)\n",
    "plt.title(\"Top 20 Most Common Words in Tweets\")\n",
    "plt.tight_layout()\n",
    "plt.show()"
   ]
  },
  {
   "cell_type": "markdown",
   "metadata": {
    "id": "iaZxvWcfUhVU"
   },
   "source": [
    "What is a Word Cloud?\n",
    "\n",
    "A Word Cloud (a.k.a. text cloud or tag cloud) is a visual representation of text data where more frequent words appear larger and less frequent words appear smaller.\n",
    "\n",
    "It's like a frequency heatmap — but in word form 🌥️\n",
    "\n",
    "| Purpose                                                |  Benefit                                                      |\n",
    "| --------------------------------------------------------- | --------------------------------------------------------------- |\n",
    "| ✅ See most frequent words                                 | Helps you understand what's commonly talked about in a dataset  |\n",
    "| ✅ Spot noise or junk tokens                               | E.g., unnecessary punctuation, stopwords                        |\n",
    "| ✅ Compare two groups (e.g., positive vs negative reviews) | You can generate separate word clouds to understand differences |\n",
    "| ✅ Preprocessing validation                                | Check if text cleaning worked or not                            |\n",
    "| ✅ Topic discovery                                         | Gives a rough sense of what themes are present                  |\n"
   ]
  },
  {
   "cell_type": "code",
   "execution_count": null,
   "metadata": {
    "id": "6jd9BxKirGH2"
   },
   "outputs": [],
   "source": [
    "from wordcloud import WordCloud\n",
    "import matplotlib.pyplot as plt\n",
    "all_text = \" \".join(dataset[\"train\"][i][\"text\"] for i in range(1000))\n",
    "wordcloud = WordCloud(width=800, height=400).generate(all_text)"
   ]
  },
  {
   "cell_type": "code",
   "execution_count": null,
   "metadata": {
    "colab": {
     "base_uri": "https://localhost:8080/",
     "height": 444
    },
    "id": "xQsHML26UoL2",
    "outputId": "caa4010f-83ac-4b2a-81ff-7a552fe0b77e"
   },
   "outputs": [],
   "source": [
    "plt.figure(figsize=(10, 5))\n",
    "plt.imshow(wordcloud, interpolation=\"bilinear\")\n",
    "plt.axis(\"off\")\n",
    "plt.title(\"Most Frequent Words in Tweets\")\n",
    "plt.show()"
   ]
  },
  {
   "cell_type": "code",
   "execution_count": null,
   "metadata": {
    "colab": {
     "base_uri": "https://localhost:8080/",
     "height": 1000
    },
    "id": "j7ApwWl_ARNY",
    "outputId": "8535aa45-d48a-4163-be0f-d8e730fe4ed7"
   },
   "outputs": [],
   "source": [
    "from wordcloud import WordCloud\n",
    "\n",
    "for label_id, label_name in enumerate([\"Negative\", \"Neutral\", \"Positive\"]):\n",
    "    text = \" \".join(example[\"text\"] for example in dataset[\"train\"] if example[\"label\"] == label_id)\n",
    "    wc = WordCloud(width=800, height=400).generate(text)\n",
    "\n",
    "    plt.figure(figsize=(10, 4))\n",
    "    plt.imshow(wc, interpolation=\"bilinear\")\n",
    "    plt.axis(\"off\")\n",
    "    plt.title(f\"Word Cloud - {label_name} Tweets\")\n",
    "    plt.show()"
   ]
  },
  {
   "cell_type": "markdown",
   "metadata": {
    "id": "HO1IR0UHrRT2"
   },
   "source": [
    "## Custom dataset"
   ]
  },
  {
   "cell_type": "code",
   "execution_count": null,
   "metadata": {
    "id": "bIcsAkjXVRnS"
   },
   "outputs": [],
   "source": [
    "from datasets import Dataset\n",
    "import pandas as pd\n",
    "\n",
    "data = {\n",
    "    \"text\": [\n",
    "        \"I love this product! Works great \",\n",
    "        \"Terrible experience, I want a refund.\",\n",
    "        \"Fast delivery and excellent packaging.\",\n",
    "        \"Worst app I’ve ever used. Crashed in 1 minute.\",\n",
    "        \"Super helpful support team, thanks a lot!\",\n",
    "        \"Nothing worked. Waste of time.\"\n",
    "    ],\n",
    "    \"label\": [1, 0, 1, 0, 1, 0]  # 1 = Positive, 0 = Negative\n",
    "}"
   ]
  },
  {
   "cell_type": "code",
   "execution_count": null,
   "metadata": {
    "colab": {
     "base_uri": "https://localhost:8080/"
    },
    "id": "eDxvNlBWVsiD",
    "outputId": "020aa908-99dd-4ce6-fe0b-1407b7efaae8"
   },
   "outputs": [],
   "source": [
    "data"
   ]
  },
  {
   "cell_type": "code",
   "execution_count": null,
   "metadata": {
    "id": "gb4YXRT2VTU1"
   },
   "outputs": [],
   "source": [
    "df = pd.DataFrame(data)"
   ]
  },
  {
   "cell_type": "code",
   "execution_count": null,
   "metadata": {
    "colab": {
     "base_uri": "https://localhost:8080/",
     "height": 237
    },
    "id": "guhloh9PVupv",
    "outputId": "bc4cf371-f7de-4965-80c0-ec3ad35f86fa"
   },
   "outputs": [],
   "source": [
    "df"
   ]
  },
  {
   "cell_type": "code",
   "execution_count": null,
   "metadata": {
    "id": "S55KsgFAVVQ-"
   },
   "outputs": [],
   "source": [
    "dataset = Dataset.from_pandas(df)"
   ]
  },
  {
   "cell_type": "code",
   "execution_count": null,
   "metadata": {
    "colab": {
     "base_uri": "https://localhost:8080/"
    },
    "id": "n5TBvP5YVW-n",
    "outputId": "603fc637-82b7-4760-e883-695e5468e646"
   },
   "outputs": [],
   "source": [
    "dataset"
   ]
  },
  {
   "cell_type": "code",
   "execution_count": null,
   "metadata": {
    "colab": {
     "base_uri": "https://localhost:8080/",
     "height": 81,
     "referenced_widgets": [
      "740ecce1f07c4e02b86e714dc0365764",
      "b18a55a5fc564d8b82a7619aecf84154",
      "20265e43aef64695a2a88e36d69d85ad",
      "e4b361aff0434865b183c5d28785f500",
      "1976f0ffefbc4eb4a9d0dcebb6979c45",
      "b8c9e0283bfc4b7183cfcd28f7cd4319",
      "cd696e3df1904d33a0024353d871ad36",
      "6ec472a0e6a94d3a8a28af0bc353266d",
      "ca5a8214052a41b6a137ef3ac117ffc2",
      "af4a8779d8514fb690f51989d7eb7fe5",
      "082d9b3d72764fd6995e932845db2bd6",
      "05c644d7a7ec4efc85c775ac444fc082",
      "c4da58e023d3476a944cbe74c8281965",
      "eb804042e04d41879224ac20e4333846",
      "43267a7560724d8dbbafc75087d55895",
      "c7d01824c0ce408a97b81719db0996d6",
      "97eb3d431cc7469b8e7620fe4be1f5ab",
      "b45ea76755e449de914cc5c95235a995",
      "2ea1c6264d6a439388d2314ece93903d",
      "5b33b35aa6a04cbbb016f53e1a9bb7cf",
      "71f8a375b4a2413f94d683c6aeb0fe32",
      "1889750689f64a418ecb808be082d7cd"
     ]
    },
    "id": "nKJx-Wgn_O91",
    "outputId": "ba5b1619-62ae-43be-91a8-d58383fba1b0"
   },
   "outputs": [],
   "source": [
    "dataset = dataset.class_encode_column(\"label\")  # optional: make label a ClassLabel"
   ]
  },
  {
   "cell_type": "code",
   "execution_count": null,
   "metadata": {
    "colab": {
     "base_uri": "https://localhost:8080/"
    },
    "id": "cVanBtQTVbx9",
    "outputId": "b1379075-fba8-4369-f5e3-43e59e7f81eb"
   },
   "outputs": [],
   "source": [
    "dataset"
   ]
  },
  {
   "cell_type": "code",
   "execution_count": null,
   "metadata": {
    "id": "x0I0keI8ss2x"
   },
   "outputs": [],
   "source": [
    "import os\n",
    "from google.colab import userdata\n",
    "os.environ[\"HF_TOKEN\"] = userdata.get(\"HF_TOKEN_WRITE\")"
   ]
  },
  {
   "cell_type": "code",
   "execution_count": null,
   "metadata": {
    "colab": {
     "base_uri": "https://localhost:8080/",
     "height": 72,
     "referenced_widgets": [
      "32a5a2001caa4826a89862f380ce0608",
      "666d44d52bd843d3b06fe35381ef7950",
      "6cf984a2d7a34689b462946a18a56c0c",
      "5f8ab625a0894f5585109878bf6f2a9e",
      "fb17fe5c6f5d4a7b8276cc2e6733f062",
      "7a9333381d8746128e4f9fa3dfa64e2b",
      "652e840433c4441a8b59fa0f7cc1e00e",
      "1a14bd8a498849d7aacdf5cdce42b7d1",
      "2b43b5b65d694812a0b2e48d219de065",
      "dd013f186fe6478b87f503eab476686d",
      "fa38fdc748cd4634be2cd93418f244a9",
      "f9efdcc5dc844887b57965314080c9c5",
      "be658853638e4153920973e6a51adb55",
      "f967fd358f9d4ce8ab6a218b32c32f85",
      "acc6219fa5e044b69041761f2458bf4b",
      "5f760dcbfaa243d29e7ffc961e882aae",
      "89ea4c456590492fb3f5bbb4d89f06d0",
      "2a20476b0f3240d49d262cc65d9fe153",
      "7ddef3f8657b4edb9dd0e8d5cb01e62e",
      "a262917668274326921759eb622db477"
     ]
    },
    "id": "E4PdAiv_XFZ3",
    "outputId": "5246b903-ec72-4645-924e-5253b9bdcbca"
   },
   "outputs": [],
   "source": [
    "from huggingface_hub import notebook_login\n",
    "notebook_login()"
   ]
  },
  {
   "cell_type": "code",
   "execution_count": null,
   "metadata": {
    "colab": {
     "base_uri": "https://localhost:8080/"
    },
    "id": "b6YcCy1evif_",
    "outputId": "30c63003-8c67-4036-dcb2-51712633791a"
   },
   "outputs": [],
   "source": [
    "from huggingface_hub import whoami\n",
    "print(whoami())"
   ]
  },
  {
   "cell_type": "code",
   "execution_count": null,
   "metadata": {
    "colab": {
     "base_uri": "https://localhost:8080/",
     "height": 150,
     "referenced_widgets": [
      "4778d0c142ff4e35bb67d11aa0814aca",
      "716d92547369482fa0e48af1927de1a9",
      "910d6809cd4e42d3abd58893e91ff421",
      "0adb2ba23ef04c1f87cf1cf6aa7474cf",
      "cc1622d5164e43789eb35ec6d4f41bcc",
      "939cd6cc7097478c963fcb2d5d5081da",
      "68e0360c04d2489ca51365ad8ae11735",
      "8cc9d5aaedaf4ed498f70481805b7e3b",
      "ea52202ab60e40c68885c82fc2ccc07a",
      "2822496f66a44e699ff3aa17d7727ec1",
      "2e9a0708362045048d4751b381857d4b",
      "93ffe77d67c14ee88cb9967f9c001872",
      "dd752379208d4aea9ee55f8d8e52c2a1",
      "f0dcc3c70f2941f5a74dbbab639e4f49",
      "a7c27a58424b4b58b2ff9437f39cc12e",
      "1145dce4b2554f208dbae50544d11a97",
      "4624ee4f469c4916846667a6c27ac767",
      "c7693d21c21c4052a69de8d2e12d5d03",
      "f04fcd504090481c99ed296d26cce6a2",
      "8e15a363303747248af1f715561b62ad",
      "b4bd7ac31d6d4187bfff70e7435d2629",
      "29c6bf2b61ad4813a2c956299c176557"
     ]
    },
    "id": "dQ6UZYJjBg1X",
    "outputId": "de97f98b-9665-45bb-ee4c-7003d95df78c"
   },
   "outputs": [],
   "source": [
    "dataset.push_to_hub(\"sunny199/mycustomdata\")"
   ]
  },
  {
   "cell_type": "markdown",
   "metadata": {
    "id": "fWX9dIMiHO4G"
   },
   "source": [
    "### Tokenization"
   ]
  },
  {
   "cell_type": "markdown",
   "metadata": {
    "id": "3Ff_I4acHQj8"
   },
   "source": [
    "#### Install the transformer library"
   ]
  },
  {
   "cell_type": "code",
   "execution_count": null,
   "metadata": {
    "colab": {
     "base_uri": "https://localhost:8080/"
    },
    "id": "EO8jWx9_G4RZ",
    "outputId": "e87d584c-6bcb-48a4-931d-a17ecf29c92c"
   },
   "outputs": [],
   "source": [
    "!pip install transformers"
   ]
  },
  {
   "cell_type": "code",
   "execution_count": null,
   "metadata": {
    "colab": {
     "base_uri": "https://localhost:8080/",
     "height": 145,
     "referenced_widgets": [
      "118e1fbe2e914158a3b43b40125aae41",
      "b05c2f41250c4c0ca518fd6af3b33317",
      "9a92dea204104408963c66ca8ce8c8d4",
      "2c87b171e27844ea93f5c8ba4ec92191",
      "c17ddf58fe164596976731de1d86432b",
      "1338d861e56143578cd05a827349dc73",
      "e6e6a33677d94c6784c33dfa39f46542",
      "86f0d6247c6e48dbbb3e1a4abb5c091f",
      "03f0c5caabd145d09deef3dbad3b6aa8",
      "7bf6037817304cafb5d0b80d2804d8c4",
      "ff739be5bec7462886c2c742a8cc805e",
      "0ebb86eabae248de99d41afbda508310",
      "0a34099587e84ea6aed692106cd5fff5",
      "5f02c642e3224eed9c0c36b3805a745b",
      "2eb4e2e80d4f4d38887a2981e59830a2",
      "243a7c9ebb5f44b99d6a8260e81dc80e",
      "97f4eb8b49be442a990ee70be2e689f3",
      "53019aa446bc44a1b25cc7a0010502da",
      "d2996e5d0f894f7ca91e36c463dcf3b7",
      "dc960cf53cba4ee5a323faab927982e4",
      "c3a8073019674a66a60c5e4600223ca3",
      "1ad06abc966a4d09b6f608e735d846bf",
      "afb6575745ee4cf09798edcae022c46e",
      "8abc2285ebd342398f0fa308a67d7d85",
      "38e1fd3728e54da88b8628552fa6a808",
      "73c0e1a6127c4c1faa20f3a63b57f513",
      "5abe1871ce1f4f5ca96c71a47ee92ac4",
      "aeb5dc1b3edd482bb0ac9ff169eb960c",
      "39c4653077ed453ab71a7606d4da9889",
      "cd82899f65b44e299c23f226bc1635c2",
      "655e02925a2941bb8157b06816eb6e02",
      "95f029ce56ee4c939ce5bd7645db8ae4",
      "4504ae7df6894b47bf0c82ca631aba4f",
      "09255ea54a1d4c82ae16d894cdc82e90",
      "a148a4cae3874ed68b45c0e4c4fcbc30",
      "967cd86ec1864398a68e0a470cb7f799",
      "145b96719c924a94b7a070a4549ead09",
      "05651a82613d46029ab5a8c40385a759",
      "b8bfe816bd6340c1843fff3b6a5697bc",
      "0ff6dca1f41243c1acd6e25646a82501",
      "2bb31bb0ca2e43208e99f3283833e6c4",
      "8d5232819900447dbe5c3e397dc87e2c",
      "ab89f1cb8d42498d8b8b41d238657504",
      "d15389be87584c599092d5f5b9e45a7e"
     ]
    },
    "id": "lmwJCND5ZMiq",
    "outputId": "67dd157e-6a35-430a-a131-aef9536b97c8"
   },
   "outputs": [],
   "source": [
    "from transformers import AutoTokenizer, AutoModel\n",
    "tokenizer = AutoTokenizer.from_pretrained(\"bert-base-cased\")"
   ]
  },
  {
   "cell_type": "code",
   "execution_count": null,
   "metadata": {
    "id": "_nZbtWL5x89P"
   },
   "outputs": [],
   "source": [
    "def tokenize(example):\n",
    "    return tokenizer(example, truncation=True, padding=\"max_length\")"
   ]
  },
  {
   "cell_type": "code",
   "execution_count": null,
   "metadata": {
    "colab": {
     "base_uri": "https://localhost:8080/",
     "height": 35
    },
    "id": "rRzdZympxo07",
    "outputId": "8f89bdb5-47b7-41cc-da26-65e2451bbcb5"
   },
   "outputs": [],
   "source": [
    "dataset[\"text\"][0]"
   ]
  },
  {
   "cell_type": "code",
   "execution_count": null,
   "metadata": {
    "colab": {
     "base_uri": "https://localhost:8080/"
    },
    "id": "qOgvq1Bqx05g",
    "outputId": "b8091e0f-34e3-43c8-f983-2507494cd9d8"
   },
   "outputs": [],
   "source": [
    "tokenize(dataset[\"text\"][0])"
   ]
  },
  {
   "cell_type": "code",
   "execution_count": null,
   "metadata": {
    "id": "nzGIAgC3yErT"
   },
   "outputs": [],
   "source": [
    "def tokenize(example):\n",
    "    return tokenizer(example[\"text\"], truncation=True, padding=\"max_length\")"
   ]
  },
  {
   "cell_type": "code",
   "execution_count": null,
   "metadata": {
    "colab": {
     "base_uri": "https://localhost:8080/",
     "height": 49,
     "referenced_widgets": [
      "c9be017ad3014debb70c6f95eaf8a306",
      "63f2001a691d4055bf0ce43b328ad67b",
      "bfcada859cd146b19cfd2e1275b02447",
      "03a08aae235b4f27a633cd0de53a4d88",
      "cb7bc67d1e7a44808fcf3921d2eaf1c9",
      "ef7bbc6e2db24cf5bcc962d429f997a2",
      "ba8b36c48e8848b598eefcf5e0450649",
      "fa06245d702741cba01ec2b292a3d142",
      "b42ec5d1af0b4f1aa886599ce9edb1b2",
      "66a1294f64a34048bf7f1ecd0891d908",
      "7d2f4574c949412891c6f8613cfa02eb"
     ]
    },
    "id": "mt7K9RTcZZOf",
    "outputId": "b0600e2f-79f1-41df-c5af-edf9dd4000f3"
   },
   "outputs": [],
   "source": [
    "encoded_dataset = dataset.map(tokenize, batched=True)"
   ]
  },
  {
   "cell_type": "code",
   "execution_count": null,
   "metadata": {
    "colab": {
     "base_uri": "https://localhost:8080/"
    },
    "id": "-i2It4S0ZilN",
    "outputId": "3c663640-165c-4766-849c-8d5958053f3d"
   },
   "outputs": [],
   "source": [
    "encoded_dataset"
   ]
  },
  {
   "cell_type": "code",
   "execution_count": null,
   "metadata": {
    "colab": {
     "base_uri": "https://localhost:8080/"
    },
    "id": "wXwJBzjTyKnv",
    "outputId": "6ecd246e-b969-48d3-ef74-3dc411941210"
   },
   "outputs": [],
   "source": [
    "encoded_dataset['input_ids'][0]"
   ]
  },
  {
   "cell_type": "code",
   "execution_count": null,
   "metadata": {
    "colab": {
     "base_uri": "https://localhost:8080/"
    },
    "id": "4MRF8c6FyXUz",
    "outputId": "e6ef2946-1a05-44b2-e14a-5efa3ec47466"
   },
   "outputs": [],
   "source": [
    "encoded_dataset['token_type_ids'][0]"
   ]
  },
  {
   "cell_type": "code",
   "execution_count": null,
   "metadata": {
    "colab": {
     "base_uri": "https://localhost:8080/"
    },
    "id": "0RpuLwVMXsrY",
    "outputId": "1f55132e-e0cd-4fbc-ad4a-f16eb9f6d691"
   },
   "outputs": [],
   "source": [
    "tokenizer"
   ]
  },
  {
   "cell_type": "code",
   "execution_count": null,
   "metadata": {
    "id": "bQFnly06BZY8"
   },
   "outputs": [],
   "source": [
    "tokens=tokenizer.tokenize(\"Hello HuggingFace!\")"
   ]
  },
  {
   "cell_type": "code",
   "execution_count": null,
   "metadata": {
    "colab": {
     "base_uri": "https://localhost:8080/"
    },
    "id": "V-iPzVxJ2F-y",
    "outputId": "35eff205-e8b7-4207-d6cc-eaab5c638fc5"
   },
   "outputs": [],
   "source": [
    "tokens"
   ]
  },
  {
   "cell_type": "code",
   "execution_count": null,
   "metadata": {
    "id": "cEtFwl7C1nv-"
   },
   "outputs": [],
   "source": [
    "tokens = tokenizer.tokenize(\"Hello, how are you?\")"
   ]
  },
  {
   "cell_type": "code",
   "execution_count": null,
   "metadata": {
    "colab": {
     "base_uri": "https://localhost:8080/"
    },
    "id": "Dr2hOjcT1rNT",
    "outputId": "9815c954-cecc-4147-ba3c-4582411823c7"
   },
   "outputs": [],
   "source": [
    "tokens"
   ]
  },
  {
   "cell_type": "code",
   "execution_count": null,
   "metadata": {
    "colab": {
     "base_uri": "https://localhost:8080/",
     "height": 81,
     "referenced_widgets": [
      "e6b654b595ce4678b1f182b5da35d9a4",
      "936e8455b0fd4512bc0192bf1e0ffba0",
      "2431a6e8eed547e6b70693f5011ec6e0",
      "980af780559f4df58162fa6fb34aef15",
      "514d9107845146898f50c3e5deb3dbd3",
      "2b1b24792a5f459db4f0c1bda18aecfa",
      "730d1790cd124055b8a424847ca3c8cd",
      "a079faaa42c344f894388e88e5f6e3e2",
      "584a0be0bc8c47f884a9047dbb48aa38",
      "53abd28ca6494292a134cbf164e799de",
      "a423424ecbee46218e58475cf47336f2",
      "0ad1887ff6bd4087bc08557f2a7bac38",
      "7d66a63a9ba743189abac9b5cd559405",
      "724bc99493a04c60b602f00e4e6a35a1",
      "291e5fe2137c455e842e734bb943e753",
      "46e6386d26044e5dacfebc4e386f914d",
      "e384a6e35b384084b6af965568abf246",
      "76f0a0d0d33a450190427717b00d29cb",
      "3821b4e68f9244649d2e443a0a80eff8",
      "e8da4f3a97c94d6cadfe7b87e00e7ddf",
      "8b2ce69929ad440ca846d0fef6e34a95",
      "7db950b9940f4c25a46b25d50936633c"
     ]
    },
    "id": "7gJ2QHT3Bgip",
    "outputId": "9890d0ea-58ac-4f77-f2b0-13340283c5c0"
   },
   "outputs": [],
   "source": [
    "hindi_tokenizer = AutoTokenizer.from_pretrained(\"ai4bharat/indic-bert\")"
   ]
  },
  {
   "cell_type": "code",
   "execution_count": null,
   "metadata": {
    "id": "vvo1elPa4LQl"
   },
   "outputs": [],
   "source": [
    "tokens=hindi_tokenizer.tokenize(\"मुझे एआई पसंद है।\")"
   ]
  },
  {
   "cell_type": "code",
   "execution_count": null,
   "metadata": {
    "colab": {
     "base_uri": "https://localhost:8080/"
    },
    "id": "e8QO7iXZysT1",
    "outputId": "da5d5443-cdbb-4e65-f364-0eca0060ffe8"
   },
   "outputs": [],
   "source": [
    "tokens"
   ]
  },
  {
   "cell_type": "code",
   "execution_count": null,
   "metadata": {
    "id": "12PkUjR-GAQk"
   },
   "outputs": [],
   "source": [
    "inputs = tokenizer(\"Hello, how are you?\", return_tensors=\"pt\")"
   ]
  },
  {
   "cell_type": "code",
   "execution_count": null,
   "metadata": {
    "colab": {
     "base_uri": "https://localhost:8080/"
    },
    "id": "2AdnAwGisOiL",
    "outputId": "50afd582-4cd6-47dc-e41d-9bbaf5299d10"
   },
   "outputs": [],
   "source": [
    "inputs"
   ]
  },
  {
   "cell_type": "markdown",
   "metadata": {
    "id": "jslHYOL_s9yW"
   },
   "source": [
    "1. input_ids:\n",
    "\n",
    "These are the IDs of the tokens from the model’s vocabulary.\n",
    "\n",
    "The sentence \"Hello, how are you?\" gets tokenized as:\n",
    "\n",
    "[CLS] Hello , how are you ? [SEP]\n",
    "\n",
    "Which corresponds to:\n",
    "\n",
    "[101, 7592, 1010, 2129, 2024, 2017, 1029, 102]\n",
    "\n",
    "2. token_type_ids:\n",
    "\n",
    "These are used in tasks like Next Sentence Prediction.\n",
    "\n",
    "0 means it's part of the first sentence\n",
    "\n",
    "If there was a second sentence, it would have 1s\n",
    "\n",
    "Since your input is just a single sentence, all values are 0.\n",
    "\n",
    "3. attention_mask:\n",
    "\n",
    "Tells the model which tokens are real and which are padding.\n",
    "\n",
    "1 means the token is real (not padding)\n",
    "\n",
    "0 means it’s padding (none here)\n",
    "\n",
    "What does return_tensors=\"pt\" do?\n",
    "\n",
    "It returns everything as PyTorch tensors (pt = PyTorch).\n",
    "\n",
    "If you use return_tensors=\"tf\", you'll get TensorFlow tensors."
   ]
  },
  {
   "cell_type": "markdown",
   "metadata": {
    "id": "ou1kcVzaZjW6"
   },
   "source": [
    "### How to tokenize large dataset faster"
   ]
  },
  {
   "cell_type": "code",
   "execution_count": null,
   "metadata": {
    "id": "Kg6oMO_OZgdS"
   },
   "outputs": [],
   "source": [
    "import time\n",
    "text = [\"This is a sample sentence for tokenization.\"] * 100000"
   ]
  },
  {
   "cell_type": "code",
   "execution_count": null,
   "metadata": {
    "colab": {
     "base_uri": "https://localhost:8080/"
    },
    "id": "2-O3MTYMZmQl",
    "outputId": "e31f35ab-f76d-491b-f905-b90b684f32e3"
   },
   "outputs": [],
   "source": [
    "# Fast\n",
    "start = time.time()\n",
    "tok_fast = AutoTokenizer.from_pretrained(\"bert-base-cased\", use_fast=True)\n",
    "tok_fast(text, padding=True, truncation=True)\n",
    "print(\"Fast Time:\", time.time() - start)"
   ]
  },
  {
   "cell_type": "code",
   "execution_count": null,
   "metadata": {
    "colab": {
     "base_uri": "https://localhost:8080/"
    },
    "id": "tQqbhQoW7jiQ",
    "outputId": "42c0a884-7420-4e24-8ad7-a2c70d4bc1b3"
   },
   "outputs": [],
   "source": [
    "# Slow\n",
    "start = time.time()\n",
    "tok_slow = AutoTokenizer.from_pretrained(\"bert-base-cased\", use_fast=False)\n",
    "tok_slow(text, padding=True, truncation=True)\n",
    "print(\"Slow Time:\", time.time() - start)"
   ]
  },
  {
   "cell_type": "markdown",
   "metadata": {
    "id": "apMp1oYz7vae"
   },
   "source": [
    "| Feature         | Fast Tokenizer (`use_fast=True`)       | Slow Tokenizer (`use_fast=False`) |\n",
    "| --------------- | -------------------------------------- | --------------------------------- |\n",
    "| Backend         | Built in **Rust** (super fast)       | Built in **Python** (slower)   |\n",
    "| Tokenizer Class | `BertTokenizerFast`                    | `BertTokenizer`                   |\n",
    "| Speed           | Very fast                           | Much slower                    |\n",
    "| Library Used    | `tokenizers` (Rust)                    | `transformers` (pure Python)      |\n",
    "| Memory usage    | Slightly higher (due to Rust overhead) | Lower                             |\n"
   ]
  },
  {
   "cell_type": "markdown",
   "metadata": {
    "id": "ncgZMdEt8v1k"
   },
   "source": [
    "## Do you wanna create your own tokenizer?\n",
    "\n",
    "### Here You're training your own custom tokenizer from scratch using the Byte Pair Encoding (BPE) algorithm, with Hugging Face’s fast tokenizers library.\n",
    "\n",
    "Below code creates a custom tokenizer from your own small dataset using the BPE algorithm, with:\n",
    "\n",
    "Whitespace splitting,\n",
    "\n",
    "100-token vocabulary,\n",
    "\n",
    "Trained from scratch."
   ]
  },
  {
   "cell_type": "markdown",
   "metadata": {
    "id": "GrW5odAUbuMw"
   },
   "source": [
    "Byte Pair Encoding (BPE) is a subword tokenization algorithm that helps break down words into smaller pieces (subwords), making it especially useful for handling rare words and unknown words in NLP tasks."
   ]
  },
  {
   "cell_type": "code",
   "execution_count": null,
   "metadata": {
    "id": "_pOyOvnS8yqE"
   },
   "outputs": [],
   "source": [
    "from tokenizers import Tokenizer, models, trainers, pre_tokenizers\n",
    "corpus = [\"I love transformers!\", \"Tokenizers are amazing.\", \"Build your own.\\n\"]"
   ]
  },
  {
   "cell_type": "code",
   "execution_count": null,
   "metadata": {
    "colab": {
     "base_uri": "https://localhost:8080/"
    },
    "id": "woUvajRzc3Zv",
    "outputId": "49b4a734-03b0-4917-92ad-5d85537c950c"
   },
   "outputs": [],
   "source": [
    "corpus"
   ]
  },
  {
   "cell_type": "code",
   "execution_count": null,
   "metadata": {
    "id": "yuOAISfAb8o6"
   },
   "outputs": [],
   "source": [
    "tokenizer = Tokenizer(models.BPE())"
   ]
  },
  {
   "cell_type": "code",
   "execution_count": null,
   "metadata": {
    "id": "qH5qcMvcb_Tu"
   },
   "outputs": [],
   "source": [
    "tokenizer.pre_tokenizer = pre_tokenizers.Whitespace()"
   ]
  },
  {
   "cell_type": "code",
   "execution_count": null,
   "metadata": {
    "id": "5FbCv6V6cAwc"
   },
   "outputs": [],
   "source": [
    "trainer = trainers.BpeTrainer(vocab_size=100)"
   ]
  },
  {
   "cell_type": "code",
   "execution_count": null,
   "metadata": {
    "id": "1iB66e4Y80p7"
   },
   "outputs": [],
   "source": [
    "tokenizer.train_from_iterator(corpus, trainer)"
   ]
  },
  {
   "cell_type": "code",
   "execution_count": null,
   "metadata": {
    "id": "qOjtvHTe81wT"
   },
   "outputs": [],
   "source": [
    "# Save\n",
    "tokenizer.save(\"custom-tokenizer.json\")"
   ]
  },
  {
   "cell_type": "code",
   "execution_count": null,
   "metadata": {
    "id": "U9sqwzSQ8uHr"
   },
   "outputs": [],
   "source": [
    "from transformers import PreTrainedTokenizerFast\n",
    "\n",
    "hf_tokenizer = PreTrainedTokenizerFast(\n",
    "    tokenizer_file=\"/content/custom-tokenizer.json\",\n",
    "    unk_token=\"[UNK]\",\n",
    "    pad_token=\"[PAD]\",\n",
    "    cls_token=\"[CLS]\",\n",
    "    sep_token=\"[SEP]\",\n",
    "    mask_token=\"[MASK]\"\n",
    ")"
   ]
  },
  {
   "cell_type": "code",
   "execution_count": null,
   "metadata": {
    "colab": {
     "base_uri": "https://localhost:8080/"
    },
    "id": "dxUmxVBl83hs",
    "outputId": "44996e6d-3579-4b71-af13-d02a9acb8c53"
   },
   "outputs": [],
   "source": [
    "hf_tokenizer.save_pretrained(\"my_tokenizer_hf\")"
   ]
  },
  {
   "cell_type": "markdown",
   "metadata": {
    "id": "dNvHkaxsBuWu"
   },
   "source": [
    "### Now load the model"
   ]
  },
  {
   "cell_type": "code",
   "execution_count": null,
   "metadata": {
    "id": "k8_3QHZotztW"
   },
   "outputs": [],
   "source": [
    "from transformers import AutoTokenizer, AutoModel\n",
    "tokenizer = AutoTokenizer.from_pretrained(\"bert-base-cased\")"
   ]
  },
  {
   "cell_type": "code",
   "execution_count": null,
   "metadata": {
    "id": "ibo8keufem2b"
   },
   "outputs": [],
   "source": [
    "inputs = tokenizer(\"Hello, how are you?\", return_tensors=\"pt\")"
   ]
  },
  {
   "cell_type": "code",
   "execution_count": null,
   "metadata": {
    "colab": {
     "base_uri": "https://localhost:8080/",
     "height": 81,
     "referenced_widgets": [
      "5f7cd830fb544dd6aec347d060b21c8a",
      "501daae2237249d7b9b6408344b94ff6",
      "59fcfa4a97fa4092a68efe06ad69b335",
      "20445f2cf81a4c65abf2dbb13cc3035e",
      "554f14b30bf54b3eaf0572aff7f91a06",
      "6f9c12f486194537a6a048ce347aafaa",
      "45ba60b123184da09ad25ddfbb93cd5d",
      "a646266467c94c1eb18fc75ec1a303ef",
      "68c7bc5ee5d14baaa4016c56e18a13e0",
      "3a145fe58e9f42dda6d0e9e97d9ccea0",
      "099c698dbc4c4a51972fbed64d62e43e",
      "a421ee638dca499e9b097248c78610c3",
      "e743ab3cef0c481eb1b7ec7e786ac9e7",
      "b77773b4a66b423fbcf03f5988230433",
      "b6b04200d2f747a689ac9efd910f64f7",
      "b877f8d9c8d64a72bd300467ad0fed73",
      "4702867eb41842d2bb57bc9271c0557e",
      "7e298684000e431983f96b807edc4824",
      "377bf88cae9645cbaf7be2d144dbf72b",
      "283236b654ab4cad876112e8eb37253b",
      "65262b84f1d448409546e3c38d5d4701",
      "3f1b556ccb3b45c5a0f84c41cf812662"
     ]
    },
    "id": "DljrCs0VGCdT",
    "outputId": "5fd9d2c6-9368-48e8-912d-76999998f5b7"
   },
   "outputs": [],
   "source": [
    "model = AutoModel.from_pretrained(\"bert-base-uncased\")"
   ]
  },
  {
   "cell_type": "code",
   "execution_count": null,
   "metadata": {
    "colab": {
     "base_uri": "https://localhost:8080/"
    },
    "id": "uDp1m8h1sYyD",
    "outputId": "7bda8b0f-a822-4c4f-851f-06a9eff8f947"
   },
   "outputs": [],
   "source": [
    "model"
   ]
  },
  {
   "cell_type": "code",
   "execution_count": null,
   "metadata": {
    "id": "YqswohRvGDZ_"
   },
   "outputs": [],
   "source": [
    "import torch\n",
    "with torch.no_grad():\n",
    "    outputs = model(**inputs)"
   ]
  },
  {
   "cell_type": "code",
   "execution_count": null,
   "metadata": {
    "colab": {
     "base_uri": "https://localhost:8080/"
    },
    "id": "Pnw3QDcjGQV1",
    "outputId": "61a22aac-9bfa-4c59-9415-2623f19bf976"
   },
   "outputs": [],
   "source": [
    "print(outputs)"
   ]
  },
  {
   "cell_type": "code",
   "execution_count": null,
   "metadata": {
    "colab": {
     "base_uri": "https://localhost:8080/"
    },
    "id": "tCwM4jru0DJl",
    "outputId": "75ccab4d-d0bb-4b5f-d28e-5847f06cc8fd"
   },
   "outputs": [],
   "source": [
    "print(outputs.last_hidden_state.shape)"
   ]
  },
  {
   "cell_type": "code",
   "execution_count": null,
   "metadata": {
    "colab": {
     "base_uri": "https://localhost:8080/"
    },
    "id": "fMcxVpb-0yBk",
    "outputId": "233c9cad-ac26-45f6-fab9-1fae68fdc3ee"
   },
   "outputs": [],
   "source": [
    "print(outputs.last_hidden_state[0])"
   ]
  },
  {
   "cell_type": "code",
   "execution_count": null,
   "metadata": {
    "colab": {
     "base_uri": "https://localhost:8080/"
    },
    "id": "wYyv3tGI05YU",
    "outputId": "add2bc77-dc5e-492e-b47e-47e01d29e8bf"
   },
   "outputs": [],
   "source": [
    "print(len(outputs.last_hidden_state[0][0]))"
   ]
  },
  {
   "cell_type": "code",
   "execution_count": null,
   "metadata": {
    "colab": {
     "base_uri": "https://localhost:8080/"
    },
    "id": "UWTLWACg07jJ",
    "outputId": "ffdd2e37-071f-4488-e91b-28727c8bfcb4"
   },
   "outputs": [],
   "source": [
    "print(outputs.last_hidden_state[0][1])"
   ]
  },
  {
   "cell_type": "code",
   "execution_count": null,
   "metadata": {
    "colab": {
     "base_uri": "https://localhost:8080/"
    },
    "id": "CZ7KlbYB3OSl",
    "outputId": "78047492-63d6-4dd3-9aeb-0bb2a16ecdb7"
   },
   "outputs": [],
   "source": [
    "len(outputs.last_hidden_state[0].mean(dim=0))"
   ]
  },
  {
   "cell_type": "code",
   "execution_count": null,
   "metadata": {
    "colab": {
     "base_uri": "https://localhost:8080/"
    },
    "id": "g_V2yRP65Rou",
    "outputId": "3f941544-e8ae-4561-af98-e4be628f5d06"
   },
   "outputs": [],
   "source": [
    "outputs.last_hidden_state[0].mean(dim=0)"
   ]
  },
  {
   "cell_type": "code",
   "execution_count": null,
   "metadata": {
    "id": "YNcq3fND0kmg"
   },
   "outputs": [],
   "source": [
    "# print(outputs.last_hidden_state[0, 0])"
   ]
  },
  {
   "cell_type": "markdown",
   "metadata": {
    "id": "mZvEt7ZF6be4"
   },
   "source": [
    "![image.png](data:image/png;base64,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)\n",
    "\n",
    "[Multi-head Attention] → [Add + Norm] → [Feedforward] → [Add + Norm]\n"
   ]
  },
  {
   "cell_type": "markdown",
   "metadata": {
    "id": "_uNOeOBQCMhD"
   },
   "source": [
    "### Lets Perform a small Practical"
   ]
  },
  {
   "cell_type": "code",
   "execution_count": null,
   "metadata": {
    "id": "p-noHSQTCSkx"
   },
   "outputs": [],
   "source": [
    "from torch.nn.functional import cosine_similarity"
   ]
  },
  {
   "cell_type": "code",
   "execution_count": null,
   "metadata": {
    "id": "yhZ6ag88CVS8"
   },
   "outputs": [],
   "source": [
    "sentence1 = \"Hello, how are you?\"\n",
    "sentence2 = \"Hi, how do you do?\""
   ]
  },
  {
   "cell_type": "code",
   "execution_count": null,
   "metadata": {
    "id": "OthwaXUpCXiC"
   },
   "outputs": [],
   "source": [
    "inputs1 = tokenizer(sentence1, return_tensors=\"pt\")\n",
    "inputs2 = tokenizer(sentence2, return_tensors=\"pt\")"
   ]
  },
  {
   "cell_type": "code",
   "execution_count": null,
   "metadata": {
    "id": "hZtQnWH4ttKW"
   },
   "outputs": [],
   "source": [
    "with torch.no_grad():\n",
    "    output1 = model(**inputs1).last_hidden_state[0].mean(dim=0)\n",
    "    output2 = model(**inputs2).last_hidden_state[0].mean(dim=0)"
   ]
  },
  {
   "cell_type": "code",
   "execution_count": null,
   "metadata": {
    "colab": {
     "base_uri": "https://localhost:8080/"
    },
    "id": "zEeXNXZltqdc",
    "outputId": "a7b81023-2e51-43ba-ddd4-32ffe8007e1c"
   },
   "outputs": [],
   "source": [
    "similarity = cosine_similarity(output1, output2, dim=0)\n",
    "print(f\"Similarity: {similarity.item():.4f}\")"
   ]
  },
  {
   "cell_type": "markdown",
   "metadata": {
    "id": "qRGx3GP22Z9S"
   },
   "source": [
    "## sentence transformer library: https://huggingface.co/sentence-transformers"
   ]
  },
  {
   "cell_type": "code",
   "execution_count": null,
   "metadata": {
    "colab": {
     "base_uri": "https://localhost:8080/",
     "height": 1000
    },
    "id": "YLLUGr6u2rdr",
    "outputId": "ee8bcf14-e007-4e9f-ae05-d31c005b0898"
   },
   "outputs": [],
   "source": [
    "!pip install -U sentence-transformers"
   ]
  },
  {
   "cell_type": "code",
   "execution_count": null,
   "metadata": {
    "id": "pco5Xs9i2zzU"
   },
   "outputs": [],
   "source": [
    "from sentence_transformers import SentenceTransformer"
   ]
  },
  {
   "cell_type": "code",
   "execution_count": null,
   "metadata": {
    "colab": {
     "base_uri": "https://localhost:8080/",
     "height": 369,
     "referenced_widgets": [
      "bec219f1c95f45ec96bea7c7aca71699",
      "1dd1bb0892ee4c22a1dc17d209cfbc36",
      "c66dd8b5e0a346d3b9e047e2ded9d414",
      "2251e56bf6294ee4a24678fb0e66f3e8",
      "76a0bce8e9ed4acbac163c1f6eb6517f",
      "9d9466c1610d4f8f92cc750274e64b09",
      "3ac31006c97c452f8dc9443038b47d4d",
      "fa0ba03fcec04226bcf9edaf96cb7904",
      "c5f37cc55b1b4a56830e971b49420440",
      "fbbb01447a4c4fd587f3869949ddcf29",
      "243293de750a40ed92b3b841904246f1",
      "13210211ab3441d8b889ac1bf45db68c",
      "547913dca947445e972335385c8d5954",
      "f7c568e96fb643fd9335d4ffc6b447b6",
      "47578fbc68ae47ed8882ddea6f73d11f",
      "d346efd0ab934b00b1978c557736cf42",
      "ec52bc8a2f564d5cb12ba8bace0150c6",
      "d4a0a495a4e84051a005463b805c9769",
      "917f50e107de480b89e6dc6c0bc3527c",
      "b4ffe2b4a4e645bd856ce9df896c4c39",
      "0ad3e336b672421299e47242b518e6e8",
      "ab707777959e418d994ee9da107f85ba",
      "12c1ea8ef7bd406c997df76efbe6419c",
      "59f8ff4156ed4daea88bc2c045f375ca",
      "f3f64a1f08a74c2193e6289ccbbae5a1",
      "60937043e278463abcd05d24f84f2ed8",
      "ce19539706444230b27296354f18d3d0",
      "ceb4db91646842e2b001e418c498e012",
      "38043d88bbcb4a5fa53f9f78a3819c58",
      "75acc85724b1424da489de41016fa883",
      "6bf4dd80ea86494796d8b3f5713f1df7",
      "881d1f1989514639933a9f3e32e39724",
      "52aa7e9144134c6daaf7bd85b571e3f4",
      "58836ed63aa04248a79bf90e77f76a1f",
      "748f0ccf3fce480e8b2cc1465ae57c30",
      "2ca082f7c5e34ca88295ffa1148f2ca6",
      "6ac89e4d0df74de1a2807acb5a24d661",
      "2161cfe9b50d44e7ae846624acfd37db",
      "917e3c4e6c8843678e3fbf7f41babf9d",
      "bb7636a2e4d94f818feb942a55aba3a5",
      "1cc2d088984645f2b7f6daf7bc31a9e3",
      "a178fdff43a24cb38b7bafc778f83313",
      "eb16eb4fb7a840e4ab717e0ac7365ae7",
      "cf558c789c934924bf74a2892a53619b",
      "2bfdabeb9a36495b873829fc8a898b9e",
      "ac679b44dd224b998f5d9ff23b75db48",
      "782eb25bc685482e9ca350c50acc0289",
      "ae58919f7afb46999c205f13910ce664",
      "8aa50ce96e0c4ed6a73f4c5a5effab7f",
      "acb2de2699a84264be41ccca0c63ea74",
      "df40a3c19a8b44a6a584f58134b72b25",
      "78e07ecd09f34b988bb0c734ec7a5f95",
      "c2917b0dbd434b1cbb4afc155a0ee284",
      "671a84f94ad24c9cb49e85b4135bafa7",
      "4fc16049ac7b4fc28c1a1f25e399b5d8",
      "1d65aa2f6ed84b21ad7f4e22f51f2c6e",
      "5c7323ecb92d4bf9ba92610cfe96bbfc",
      "100dbb3e4e244069ba0ca857a8152bfd",
      "0fe068563fa7488a871cf2c019137dd1",
      "95eb16fb53ab4c50aa9096f45243d833",
      "87860e3fe42e429e893ba76622bc0c1f",
      "ee0d9cb900e54b4685bd6900c4641404",
      "1abb10fb1b154608afb2a2f38ea944ee",
      "08dea176a7ab40f1aaa9ea0946eb5273",
      "f72645beb9354654bb707f4bc62c73a1",
      "03d913c273684057afeb0fc6e33d5068",
      "b42484f22e42485aba42af6091167d2f",
      "16261154cba9434188297dcf99ca6c72",
      "7e8bf4052fd34cd38573887bb61851be",
      "bcbdc32f158844c8863fbf113742846a",
      "fb73e6eb779044cdbf10873d26066fea",
      "d6d7a729953242659400e4633cf5e1a4",
      "ebccbf6424124ffca1727d4551aeefe5",
      "220ad9e5e0f8475282e604ecb0ee7b92",
      "63c61a08f1c047bba69ea26355081ce8",
      "a744b23c1b60469690c5762ca7d4d953",
      "e6e3fa2e07e44078acb9e8e61502d839",
      "80390ec37098423cb9a1fb23faa0f13c",
      "14631682b6b14f90920896cbddef5c28",
      "b46377c31c624ba8af41d07a958dc316",
      "6fea25e30f194fc9ac081dc776de6861",
      "73385018133247abbcfe9931ce078acb",
      "69a3593526d54881ae38e72c6dc413ff",
      "0eb9c83321b74e34b76ca783038afcdc",
      "ce8b036e09a040548ee942d8cb68a227",
      "fc12c1b9cf5244d38381d58d854eaa8a",
      "cd998e0b39864a8ca2caf631ab82fb5e",
      "9766e39b1f4843eaa65ca458999105f3",
      "103edd6b143f496c8b9ffe7060cf71ca",
      "04a5b5321d054c169e053bfd3ed62994",
      "8a82cebdf89646889694467de9ccd6cc",
      "5b03916b71694355be19fa1d2f63a934",
      "97b89a54da8847f7adf0dfbe73b85641",
      "2760a8ec1b4443f090414fdd9b4b1946",
      "ca9296728e99445ead3b40560cc266b8",
      "3707a3f4a199469bacf468905887c133",
      "60235025ab63456d9611db41dd5ab71a",
      "492462f242b645e8a29dc92a2a7d0851",
      "d8906713fc604c6a8655dda1a7beec25",
      "ee5906cb17c84b75a362f044350b1d4f",
      "8abc3f0bba824bc7b0590c59930a117e",
      "1efa4ee13a2d4140b6e95c7e8d4a5db4",
      "48419913d2e1424889737af12455b993",
      "639d3374477845379cc4127b1a170180",
      "34bef2917eab4059bb0d0d8e83a48df5",
      "595dc4c76b0943a895e4ae6940be21d8",
      "47b4855c3982406cb6646f7c3b245d63",
      "934c94f08c3c405191277af4c6b5477e",
      "f317e9b8310d4beb8244c6019c53c742",
      "9f53901783ad4a4f8f625ffa3f3c22df",
      "c02548b93046432bb79e04a2dbd68ee9",
      "3ab9fb8be0b44f3284480e38db13bd7d",
      "599d2731c6934cf4a787af930c2ea6cb",
      "abc7f0f049864229a075b1e3463a2fe8",
      "a66dddc012af4de0a0def7465dd0a95c",
      "a05a3a8ddf9749a98bd8f109de9220c5",
      "44bc7a6b80f14412bcd53f721c5daf3c",
      "fb687305294841018b8a1f65a6d2ed44",
      "58b64f6575d74caf9c7340cac44849cc",
      "6e97c74a38564d1ea6d3888c5be94b8e",
      "2db21750ce804b56941bd6d58d9f1690"
     ]
    },
    "id": "Y58Ko39O24LU",
    "outputId": "c7e79995-3b4c-45a9-c866-0152219b7399"
   },
   "outputs": [],
   "source": [
    "# Load a sentence embedding model (trained for similarity tasks)\n",
    "model = SentenceTransformer(\"all-MiniLM-L6-v2\")"
   ]
  },
  {
   "cell_type": "code",
   "execution_count": null,
   "metadata": {
    "id": "XYnvhVf00Szy"
   },
   "outputs": [],
   "source": [
    "# Step 1: Encode both sentences into embeddings\n",
    "embedding1 = model.encode(sentence1, convert_to_tensor=True)"
   ]
  },
  {
   "cell_type": "code",
   "execution_count": null,
   "metadata": {
    "colab": {
     "base_uri": "https://localhost:8080/"
    },
    "id": "5Jy_rnSG0UFt",
    "outputId": "a7b56e71-5ecb-44e9-e724-7cacecd50eab"
   },
   "outputs": [],
   "source": [
    "embedding1"
   ]
  },
  {
   "cell_type": "code",
   "execution_count": null,
   "metadata": {
    "colab": {
     "base_uri": "https://localhost:8080/"
    },
    "id": "4rZ4AS1r0dpy",
    "outputId": "904feb43-882a-44e2-9704-bb18bd43ccfc"
   },
   "outputs": [],
   "source": [
    "len(embedding1)"
   ]
  },
  {
   "cell_type": "code",
   "execution_count": null,
   "metadata": {
    "id": "ge_hNWE32VjN"
   },
   "outputs": [],
   "source": [
    "embedding2 = model.encode(sentence2, convert_to_tensor=True)"
   ]
  },
  {
   "cell_type": "code",
   "execution_count": null,
   "metadata": {
    "colab": {
     "base_uri": "https://localhost:8080/"
    },
    "id": "EFI6-iM30tZp",
    "outputId": "d8ad46dd-80d0-48a2-b370-9c02db862bcb"
   },
   "outputs": [],
   "source": [
    "embedding2"
   ]
  },
  {
   "cell_type": "code",
   "execution_count": null,
   "metadata": {
    "colab": {
     "base_uri": "https://localhost:8080/"
    },
    "id": "YAA7FXhF25TC",
    "outputId": "bcb12c5b-2285-45f5-93a3-6d194b29ac09"
   },
   "outputs": [],
   "source": [
    "similarity = cosine_similarity(embedding1, embedding2, dim=0)\n",
    "print(f\"Similarity: {similarity.item():.4f}\")"
   ]
  },
  {
   "cell_type": "markdown",
   "metadata": {
    "id": "_Ey7DP380dYU"
   },
   "source": [
    "## Example of AutoModelClass with Different heads\n",
    "\n",
    "| Task                        | Class Name                                          | Description                                          |\n",
    "| --------------------------- | --------------------------------------------------- | ---------------------------------------------------- |\n",
    "| Base Model               | `AutoModel`                                         | Just embeddings (no head), for feature extraction    |\n",
    "| Masked LM                | `AutoModelForMaskedLM`                              | For BERT-style `[MASK]` prediction                   |\n",
    "| Sequence Classification | `AutoModelForSequenceClassification`                | For sentence-level tasks like sentiment, spam        |\n",
    "| Token Classification     | `AutoModelForTokenClassification`                   | For NER, POS tagging (token-level labels)            |\n",
    "| Multiple Choice          | `AutoModelForMultipleChoice`                        | For MCQ tasks (e.g., SWAG dataset)                   |\n",
    "| Next Sentence Prediction | `AutoModelForNextSentencePrediction`                | For NSP (mainly BERT pretraining)                    |\n",
    "| Causal LM (Text Gen)     | `AutoModelForCausalLM`                              | For GPT-style models (left-to-right text generation) |\n",
    "| Seq2Seq LM               | `AutoModelForSeq2SeqLM`                             | For translation, summarization (T5, BART)            |\n",
    "| Question Answering       | `AutoModelForQuestionAnswering`                     | For extractive QA (SQuAD-style)                      |\n",
    "| Vision Tasks            | `AutoModelForImageClassification`, etc.             | For image classification (e.g., ViT)                 |\n",
    "| Audio Tasks              | `AutoModelForAudioClassification`, etc.             | For Wav2Vec, Whisper, etc.                           |\n",
    "| Conditional Generation   | `AutoModelForConditionalGeneration`                 | For T5/BART-style seq2seq tasks                      |\n",
    "| Zero-shot Tasks          | `AutoModelForZeroShotClassification` (via pipeline) | For inference without fine-tuning                    |\n",
    "| Contrastive Learning     | `AutoModelForContrastiveLearning`                   | For embeddings comparison tasks                      |\n"
   ]
  },
  {
   "cell_type": "code",
   "execution_count": null,
   "metadata": {
    "id": "IFUvmnJCCusP"
   },
   "outputs": [],
   "source": [
    "sentence = \"I am doing very happy\""
   ]
  },
  {
   "cell_type": "code",
   "execution_count": null,
   "metadata": {
    "id": "ZfLGvVGICwWS"
   },
   "outputs": [],
   "source": [
    "inputs = tokenizer(sentence, return_tensors=\"pt\")"
   ]
  },
  {
   "cell_type": "code",
   "execution_count": null,
   "metadata": {
    "colab": {
     "base_uri": "https://localhost:8080/"
    },
    "id": "HN9FaFDN1Whv",
    "outputId": "e384e892-43a4-46cd-c501-60dd8f632974"
   },
   "outputs": [],
   "source": [
    "inputs"
   ]
  },
  {
   "cell_type": "code",
   "execution_count": null,
   "metadata": {
    "colab": {
     "base_uri": "https://localhost:8080/"
    },
    "id": "ckR9Dbc4CyOb",
    "outputId": "e52ed888-1398-431c-a257-bfad5d24cfa2"
   },
   "outputs": [],
   "source": [
    "inputs.pop(\"token_type_ids\")"
   ]
  },
  {
   "cell_type": "code",
   "execution_count": null,
   "metadata": {
    "colab": {
     "base_uri": "https://localhost:8080/"
    },
    "id": "IBIyROVX1aiJ",
    "outputId": "625f9de7-a738-4269-d8d3-beb4f257511d"
   },
   "outputs": [],
   "source": [
    "inputs"
   ]
  },
  {
   "cell_type": "code",
   "execution_count": null,
   "metadata": {
    "id": "7sCOH5siC1RG"
   },
   "outputs": [],
   "source": [
    "from transformers import AutoModelForSequenceClassification"
   ]
  },
  {
   "cell_type": "code",
   "execution_count": null,
   "metadata": {
    "colab": {
     "base_uri": "https://localhost:8080/",
     "height": 81,
     "referenced_widgets": [
      "524de01d56304a2eab5f417298691647",
      "7425b1dce2254c5ebfe8aafcd4d0fb35",
      "9fd200f5311d4f6a8debeb2e4007b0bc",
      "ed2c6a92a40346b6b881d1db22e09e51",
      "d33d3426f890444da4379ec6fea83178",
      "59783aac1b70474e85a3ad409930b429",
      "74832b0fee354f3e93cfd161246f740f",
      "ccadfba3a561401fb4ae106e80901df5",
      "5642f4f34d5a4ce59511df195bab55fb",
      "67c789dde96741559fc4e3da1f803e2a",
      "dde15950d162403caa41bbe9d86f2895",
      "caa3640f6f394e0fb15e1c0d554e45af",
      "82a2f1801bab4fde92d0d4e4921d3d03",
      "88efcd42fced49f39acfcfb18544e355",
      "479952f7583148b7881ad2252fe2e6d1",
      "15aa9c63637d48c1a81422b8088a1538",
      "64c6029b25a54734a2ededbac572cf27",
      "36db3f59f9294fd28d8764b5456c0ace",
      "e5e9017c50be46948a5af7d5e62246da",
      "27ff56d870714d03b0e6f386dbbd609f",
      "2710cd737de74f9c8d20cb0f1f66e1c1",
      "5c03fc0e592748a488b160b98f58faca"
     ]
    },
    "id": "fV1KlMrRGcIi",
    "outputId": "99165e85-55c0-44f5-b462-c098dfd08c1e"
   },
   "outputs": [],
   "source": [
    "clf_model = AutoModelForSequenceClassification.from_pretrained(\"distilbert-base-uncased-finetuned-sst-2-english\")"
   ]
  },
  {
   "cell_type": "code",
   "execution_count": null,
   "metadata": {
    "id": "5_Kp71AmGcLf"
   },
   "outputs": [],
   "source": [
    "import torch\n",
    "with torch.no_grad():\n",
    "    outputs = clf_model(**inputs)"
   ]
  },
  {
   "cell_type": "code",
   "execution_count": null,
   "metadata": {
    "id": "xSabG2ycGidE"
   },
   "outputs": [],
   "source": [
    "logits = outputs.logits"
   ]
  },
  {
   "cell_type": "code",
   "execution_count": null,
   "metadata": {
    "id": "VSrCBFaDGleJ"
   },
   "outputs": [],
   "source": [
    "predicted_class = torch.argmax(logits, dim=1)"
   ]
  },
  {
   "cell_type": "code",
   "execution_count": null,
   "metadata": {
    "colab": {
     "base_uri": "https://localhost:8080/"
    },
    "id": "g9IiPEfLGoqx",
    "outputId": "e7014334-8004-42d6-a1c2-919196c4d3a7"
   },
   "outputs": [],
   "source": [
    "print(predicted_class.item())  # 1 = Positive, 0 = Negative"
   ]
  },
  {
   "cell_type": "code",
   "execution_count": null,
   "metadata": {
    "id": "bXwdIA0iC4pa"
   },
   "outputs": [],
   "source": [
    "from transformers import AutoTokenizer, AutoModelForCausalLM"
   ]
  },
  {
   "cell_type": "code",
   "execution_count": null,
   "metadata": {
    "colab": {
     "base_uri": "https://localhost:8080/",
     "height": 241,
     "referenced_widgets": [
      "2724f1ecd18c4d39b565c6651b2b4bd2",
      "bd05fcee15e349b4848bbf30e1e0f392",
      "efa6163ecea04f28af917efc4c202e11",
      "aebc8dbc44ef4a75a9cc2a7b0c1b6c3a",
      "d100fd5ee9af44359756e749e65a528f",
      "856743e5e56b4173aed42970b33d73b1",
      "96b4895bafc64f6f863b1b15a9f1b663",
      "b6b02f9fab284b109b1c44dc2c0cede9",
      "46a5e7f552a442f1a5f98bdfd7c4247e",
      "74a0eb0b26f04c6dbad34a7d20c2c54e",
      "fedfa85e2acd4214bece9a4b497010ff",
      "ce4387561b4047bca8086c09c9ac2e24",
      "8c6782e7ee00408784965d555b59bc45",
      "ff178a5b1f2d47c1a0d3a474fff39afb",
      "a75a128bd3e04c0e9d5dfb644a9697c6",
      "9c2439568f1e4b67806031697dcbba73",
      "5e0fdd730484470bbc873a7a573f32da",
      "9b4f97b09a1f4c22a6eb9827002124fd",
      "da0b8a6b03e04f34907862a9bfc6213a",
      "b8fe7a991cff4645b0b9da0e55906d0d",
      "4eb211fbf5084c8c8c4b9d11d3310db3",
      "a9d5c04f9c164980bbb54b375d533a2a",
      "8e55271ffbb74511983feb9335bb8653",
      "fc60263a54934aec8858370a17583668",
      "c99cc5d2651241149c0809ee101f2455",
      "f15fad7a8175429d851823f0604790d6",
      "ee0d40cdbdfa478fb7fc9d24df79e6f0",
      "99dd534bf0944a10a19bf40ba35a4257",
      "8d82a05098bf453ca29f4d2277e3cfeb",
      "cd1998803f564391bdeacc15b29c1094",
      "6189fda4ff0f4299ad2af6787838691e",
      "0ec67aff9ade4efdbf46353c77fa6556",
      "a18a06da7701429ba18aca164d722bce",
      "cfc2a302ccb54a0aa7ed8f7e6a27b3d7",
      "f13b4f9fcd8b4cbc8ab9e489dd0094c6",
      "977306c7980945ffa6a06dfb326877d5",
      "84a53406a7544585a0471da337af38ea",
      "47e0fb1465aa46bd80bcfe2f2188c407",
      "bc99f15c894b4b608861702c16f26472",
      "d28e87827d07420bbc394adcbf060024",
      "5c4063e63b0940c7a5991933257d9d9f",
      "c1f1041862c748cdb5c58a7f46c3ab36",
      "4c6e3747be084766946f076102e8a5d7",
      "1b6f5dcf71cb4b218bab82edbe3f9d7f",
      "134fdcd9a14c49939057359a3e3836af",
      "bc26a90a8cb54243b2892982bdd3fdda",
      "70b4eacbf6dd4f3ebd85ddc4f5f11bf3",
      "dd1ee48438264008a2449cb4bb2fc78d",
      "88642eaa4bd84dc280462f8bcffe6cb8",
      "0e01813c3e1740858bb33a1095190231",
      "6c0304e324fc44ec8bfc0e3946054d94",
      "16720ef24d60463c9dc77e2ecf086adf",
      "bb407891f4cc41bcb9fc88068e6eca49",
      "55c7a57158ca47159de36482c056d6b7",
      "be333f90c2e148fa880da165b012eba8",
      "aaa17caacf8d47e8984286d4f9e327e2",
      "b0bb3009fc1a4f59bb5b4af252424dc5",
      "0b473210be7d422ba94894a718821247",
      "24dc39048484477a91de34b5e1848e0d",
      "55e18fa930dd4e24aab997b373e175a6",
      "cb08d6ca84274e118ee1cad5af543797",
      "7f19f1ddb14041bc8d291cf31681018c",
      "c557a474d6e648f7900386ae6ddc20af",
      "e7f3d58d093440db9bae507f53d50d0e",
      "272287e2d26f43a98336cd42d66b17cf",
      "e55efb3bf75b44fb9878e5d66e5c7203",
      "b4d56db3ba8242498c4801b8547c8fad",
      "dd230f2a89c5492f863f6ec841f4a6b3",
      "d4d3e0f1f8e145249f2a3ea98f12e43e",
      "cb02d3848d504942bd24db19f98b2499",
      "8d149794f74242a994039ce90851cda8",
      "41efd5cf811a47b38a13ea0597a7710a",
      "a48994d21f604e6cbe12bf8184dc6f00",
      "1ef1ce12774f4b0f9059a704b23c251d",
      "bd0e026eb3524b8587bfd7ade25a0ae0",
      "b0d4221ff26d477c8207ed5cedc7dc73",
      "8f5fbe3e28b34ef880e547b796863cab"
     ]
    },
    "id": "063nAlKZC56c",
    "outputId": "af02e0d6-b9ba-4cb8-eb1e-1642eea540ec"
   },
   "outputs": [],
   "source": [
    "gpt_tok = AutoTokenizer.from_pretrained(\"gpt2\")\n",
    "gpt_model = AutoModelForCausalLM.from_pretrained(\"gpt2\")"
   ]
  },
  {
   "cell_type": "code",
   "execution_count": null,
   "metadata": {
    "id": "JHwMX-myC8G8"
   },
   "outputs": [],
   "source": [
    "sentence = \"Transformers are beast\""
   ]
  },
  {
   "cell_type": "code",
   "execution_count": null,
   "metadata": {
    "id": "06BXMb8LC9Eh"
   },
   "outputs": [],
   "source": [
    "gpt_inputs = gpt_tok(sentence, return_tensors=\"pt\")"
   ]
  },
  {
   "cell_type": "code",
   "execution_count": null,
   "metadata": {
    "colab": {
     "base_uri": "https://localhost:8080/"
    },
    "id": "3cz9qcMLRuPX",
    "outputId": "3e8cb4f0-d134-4eb5-ac97-f07f80ef06cb"
   },
   "outputs": [],
   "source": [
    "with torch.no_grad():\n",
    "    gpt_output = gpt_model.generate(\n",
    "        gpt_inputs[\"input_ids\"],\n",
    "        max_length=gpt_inputs[\"input_ids\"].shape[1] + 5,  # predict next 5 tokens\n",
    "        do_sample=False  # deterministic output\n",
    "    )\n"
   ]
  },
  {
   "cell_type": "code",
   "execution_count": null,
   "metadata": {
    "id": "DeVX9zudDCPm"
   },
   "outputs": [],
   "source": [
    "generated_text = gpt_tok.decode(gpt_output[0], skip_special_tokens=True)"
   ]
  },
  {
   "cell_type": "code",
   "execution_count": null,
   "metadata": {
    "colab": {
     "base_uri": "https://localhost:8080/"
    },
    "id": "OuhGz2C7DDSQ",
    "outputId": "354429c7-05d0-47d5-cc1c-01b4de43f2c7"
   },
   "outputs": [],
   "source": [
    "print(\"GPT-2 generated:\", generated_text)"
   ]
  },
  {
   "cell_type": "code",
   "execution_count": null,
   "metadata": {
    "id": "gMYZlrSnDVXx"
   },
   "outputs": [],
   "source": [
    "from transformers import AutoConfig, AutoModel"
   ]
  },
  {
   "cell_type": "code",
   "execution_count": null,
   "metadata": {
    "id": "GIvCdHRpDWr7"
   },
   "outputs": [],
   "source": [
    "config = AutoConfig.from_pretrained(\"bert-base-uncased\")"
   ]
  },
  {
   "cell_type": "code",
   "execution_count": null,
   "metadata": {
    "colab": {
     "base_uri": "https://localhost:8080/"
    },
    "id": "wSkvt8naDZXV",
    "outputId": "7d44261f-02ff-44ee-f32c-209fbefc90f4"
   },
   "outputs": [],
   "source": [
    "print(config.hidden_size)\n",
    "print(config.num_attention_heads)\n",
    "print(config.vocab_size)\n",
    "print(config.hidden_act)  # shows which activation function is used\n",
    "print(config.num_labels)"
   ]
  },
  {
   "cell_type": "code",
   "execution_count": null,
   "metadata": {
    "id": "O_Qj_-6tDhvr"
   },
   "outputs": [],
   "source": [
    "config.num_labels = 5  # change for multi-class classification"
   ]
  },
  {
   "cell_type": "code",
   "execution_count": null,
   "metadata": {
    "colab": {
     "base_uri": "https://localhost:8080/"
    },
    "id": "hOkpP3Fs2uHz",
    "outputId": "971166ae-b350-4486-c3bf-3ea58e15d764"
   },
   "outputs": [],
   "source": [
    "print(config.num_labels)"
   ]
  },
  {
   "cell_type": "code",
   "execution_count": null,
   "metadata": {
    "id": "fM9jPMztDSkP"
   },
   "outputs": [],
   "source": [
    "model = AutoModel.from_config(config)  # No pretrained weights"
   ]
  },
  {
   "cell_type": "code",
   "execution_count": null,
   "metadata": {
    "colab": {
     "base_uri": "https://localhost:8080/"
    },
    "id": "B8mbBs2z6-0_",
    "outputId": "b9e248b9-ca26-47c0-b520-c32765ccc877"
   },
   "outputs": [],
   "source": [
    "model"
   ]
  },
  {
   "cell_type": "markdown",
   "metadata": {
    "id": "EkD4WoDPSlZW"
   },
   "source": [
    "| Feature                      | `AutoModel`, `AutoModelForSequenceClassification`, etc. | `AutoConfig`     |\n",
    "| ---------------------------- | ------------------------------------------------------- | ---------------- |\n",
    "| Load Pretrained Weights?     | ✅ Yes                                                   | ❌ No             |\n",
    "| Returns Model?               | ✅ Yes (BERT, DistilBERT, etc.)                          | ❌ No             |\n",
    "| Used for Training/Inference? | ✅                                                       | ❌ (only config)  |\n",
    "| Editable for Custom Models?  | Limited                                                 | ✅ Fully Editable |\n"
   ]
  },
  {
   "cell_type": "markdown",
   "metadata": {
    "id": "9pXxZaspHRLC"
   },
   "source": [
    "#### If you want to download the model on your local machine then follow below code"
   ]
  },
  {
   "cell_type": "code",
   "execution_count": null,
   "metadata": {
    "id": "XtxqAiGYEAb2"
   },
   "outputs": [],
   "source": [
    "from huggingface_hub import snapshot_download"
   ]
  },
  {
   "cell_type": "code",
   "execution_count": null,
   "metadata": {
    "colab": {
     "base_uri": "https://localhost:8080/",
     "height": 587,
     "referenced_widgets": [
      "d363df3b845d404a926b1c38e5c1f006",
      "c5fbd82b38274694b72f5cbf28a7feba",
      "bd02694b3beb41209df6e7155148143a",
      "b748a46e1c57405ab07040fe84dfff5f",
      "5d526b0b15d04bb3a139a6a0ab2fa0f0",
      "5e761290d74342428243d6665cd779a8",
      "036e66c2f6064e16877358a3e9da8d1f",
      "9b622015169e4424b5be62510d6d3ce1",
      "2bc5b18688b54b46a6da249c46c27af6",
      "a3e91971cd874c7594ddbb1b328971f6",
      "30029a9ec63e44cbacd04cdba2ab6c2c",
      "73f265fc501a480480badc8dc548c65a",
      "8298e2f0a9c24080a1d179e57e0a5217",
      "7f3914d59aac44949d55bcbccee7331d",
      "a8f6a7738f28442787c0338afb694202",
      "f3ae5b8e4e224d27ba297c76d8fc6139",
      "85586ac34d7c485e9d55155ca75388dc",
      "9f186afe9c3f4cb883976288e77d62b4",
      "ae9d55137c4d4e418e55a977bd8d4057",
      "f54f1a31cfbe4bcf80f2f046ac04c6ea",
      "dad9c15049b048718a0e079d5a2f8bfa",
      "6bab993b61cd499c83e87d80704a99d9",
      "361d8ec22d384370b9d7d556c1d22029",
      "8205001e71d94490b44a62196db6115c",
      "6f06b7447eba4bddbc2bd577e1d3efb5",
      "57a8c133bb1948d1ae8135586b1ad212",
      "da8a7abb5cf04cc9a742f2fbdff8a6f2",
      "22f3bd68e09c4228bfe8f37c313851d3",
      "cb09e85ff1664d578947b18dc96f4a30",
      "c6f3def1eaeb42a4b528c3905f92093e",
      "9d7beeca1a4843088ffaa38b303ea4e0",
      "2c1a037c3c304cf1b434cd0ce74b889e",
      "e95a35c963104048a79c276100be02fc",
      "0b48ff2da668453abf1938664b2962b4",
      "5868802c76cf41fd8e3c8ab1e2710b2c",
      "39a475ed5e224fea981ec8665ac45112",
      "b583cac172324c698bf16392aebd60d2",
      "e32d86c817ec4fe498ef3d36d58a56ef",
      "3f9cd40af9564756a72dad3d135baf15",
      "e3f82c3e41da4d2f8ebc62ea3063b995",
      "7ef8b8289322406795707a2e12911342",
      "a9e4d4145e184367b0914aadfeeaacd9",
      "74eadd148a7d4dc5b22011848cb25561",
      "d525a1f952864756b4865c6a6973ce2a",
      "2d537552d13b4269b9e8d4abd802e96f",
      "b2b0c65023ab483e97a5ba2298d7b39f",
      "d2fdb34bf8524be4b9607f21f505b617",
      "f78da8ea5df84cbdbcf3ecb3a80350fe",
      "0695f2762bf24b13bb783c3f4aa3866b",
      "9a57898beb4048ec8d141aeff32142f7",
      "fe8d4d48af7144e089db782777b041d2",
      "79cbbd4731054d04ba3fef47a3ea5561",
      "a00a465018044642bc9839c830d7d2b4",
      "eb75e77316c34ed39792b949bbb770e5",
      "02c310fb7ae44cc79dbee35715006405",
      "8982e50b78754e2c90a12001963b9d91",
      "464ebefe4c514c318406ab41359a7981",
      "c237f24a9ca04d6a88cda49f7052534f",
      "8ee7b2cc5985440b88ddf4e76484dbf2",
      "d76c713464c946fdaee977cf12a48ce5",
      "b46d2f9297d54c9c9763f938ce4ebeea",
      "6cd3136a1a254617b6ac079300f605d3",
      "5bfc5615c09d4eeea398b990f0056740",
      "e32d26bcd859438aacfdf94cd19061be",
      "ae0b9dd17e364af6be104da0c8d6dc30",
      "03fcdc2813464de9821d452318d7d9c9",
      "6860a052bcf84957b847d3c5efa9a31d",
      "f46210735d844fac8d6596a74c6c820a",
      "fc77e440dc754e9f81f68b0fca583bd1",
      "c40ae487e1c244b594c32d1f151c2479",
      "d4731e4a77134b51bd0980e4a0030a6d",
      "fe00d13fb1004cb3b3eb8402f10fa192",
      "d2401d2b1f1d4883b7e14a1811dfe4f4",
      "2e01a33c5c754f6a81ee13f956d1a9d6",
      "6918acdb7b5349f1811979c7155ac117",
      "0c4be11396f64b4b98e981d8855e2c00",
      "bb0e9c0ce2ce4fd6a5045b4618e2d528",
      "40e736c5696142abbe07b776ba727189",
      "81c71d3557c846108f66ec02dfc56397",
      "c4ea2f549bd947079595d866a783edca",
      "c124ae86426e4d188bd971f4b3cd86b7",
      "c6f6e2f98edf41a7b306de2d7af25b31",
      "fb9244c101e94921932e82dece6b6922",
      "f10afb5c7abe420ba99c6f7755370cb1",
      "fa20ba54908a4a2cbde5417c51acdfe9",
      "83240d43950045289ee475a0dba66f79",
      "393eeb943d554ed9a6df2b2d6456335c",
      "086f1eea41004774859daabadc315f9a",
      "bacd70d1c1664160acce249285ac1c47",
      "44a4ab2c757a449b97be903908787339",
      "00930d3745a84914b99a67237d0292dd",
      "0cb255d59e064b5f9e1d09a42e7661e2",
      "d1b68a33131d409eaa38fe7c282f854e",
      "cafb45bf0346474680aa2d355bc6a3e9",
      "6b1860c0446a4b2fa4dac5b6aa922d98",
      "3da49e4fb3404888bc7f2ebc5e7b4c2e",
      "a7c93542d67249f1b3429cc9f1cae865",
      "84f514eb880d455f9ba9dd07dda87773",
      "8c5c07899a5e4cdf9c2bfa2dfc661cdb",
      "0274ddc108c84184b47153adc81cb52e",
      "9926aaa35818485b9711dea7c1a28412",
      "7a12abf9c2654778af560199f8ef232a",
      "a73f041853a64b7c849cfe33c49382c0",
      "930f5822b0524876a7606db81c2701b3",
      "06381e5091254621bc4490f575ee7ee8",
      "0712ab57884641c8bcf6ede20c7210fc",
      "56de6397cf314e5286b649a2db3650dd",
      "48d7acc08355494bbd2c97fb047613f6",
      "0841c9fcfa5a45e6a69da28feb026b63",
      "2b50e3e7a712421e85e7ad38a4745c16",
      "3984ed93d0f0453bb725f7680c792c3b",
      "c442fbb834c8486cbef1543c90de3490",
      "fb887c8089b546a4bd8bb0780a32f339",
      "1182070fed72445fb2f061ff2fb23359",
      "a0406a2aea864186ab30a78d4a353981",
      "038b555b7ba54d0ebffef90529565d9e",
      "7379880ecf95468e83354a3270585232",
      "fea73f3e322547c5aeac76026f1db025",
      "54d1e783e90e4cd6bf27b7f5df1b0d55",
      "cce76453bd77460cb4aa988d0680ad01",
      "49c9e3fd7d3045589499e754c3bebc0c",
      "b437f41249704e50a658cc6bc84f0b3f",
      "2e13f47894d9485fba239176a00439f7",
      "552f9553c0eb46f3a9753aba2bafcfe8",
      "7b78b63fadac4c3c9f0a7944cfaabb40",
      "37127e91439b4b7fa2f082b2315aae57",
      "9d4ddceaf6ed4a98803fc92eaaf47360",
      "1a5dc162fbe848c6b499ff9ed74eb881",
      "17f0e296e9784d85bea23ce03d16ead0",
      "75660e7c86144193b9cfc8b267093eb1",
      "1b28644f29a14b9988d15af1d9d1a087",
      "7b7eecaee2f14a33bc08720ce192d424",
      "fc6b859f63744c9dbed6e77af96aa843",
      "522926f2309f4ceb913c9563226b18d9",
      "1c4cd6d8ee52474f898fc58c1eed3e01",
      "9738404b3fd74b31983c8957c92db1da",
      "8adc2326fd3a4cbcbe8233ff74cf4747",
      "c9b6e110802e4452bd3866a454ae14c4",
      "a5c9c36e4a644d25a670fb3aebfff2cc",
      "668b627bb9ec4d1c9f61e7430b44d0a5",
      "9a1c0c6e5ac342ca9414cc39cece0d33",
      "ea948af6022c444d80eee2f9e3afc4f1",
      "433cf5f916174102945016628bf3da2d",
      "f1581ba91c214414a1b6a5d18d341336",
      "fc07d1bf5d3c41a19ee7a90f40fba807",
      "1a4895e6dc804da092236d376327d63e",
      "82dd38f02abc4856b2f193da7a48f4c7",
      "bae76233a5b441b8a80ca29d0b471884",
      "f77d9ce0cebd4366b055e4ed1bdd7618",
      "4250e833a11d4e32bddfc9b2bdab8bfa",
      "d1b5f2264aac452293e2bfd88bf08f6f",
      "95e257d244484dc1820bcb9eb4a017e3",
      "c69f3b46aa5a4f11a4ef68f4f8118ed2",
      "578db9511aef46909ac821a463d25102",
      "728de207a72d4ea2b077f746ed3b33b3",
      "6e52f706403346b981119d7da1341a53",
      "19abb109a70d4b2d98a4a14e214b70cf",
      "311bb8d9f1bd4a6eaf9e793a7405d57a",
      "587f42c3ebb840549b3727005e03e7e6",
      "988f37d4224a48858016310b2545ad0e",
      "fbd6f060319e41ceab9689cc18b3d297",
      "c23f4a5c3d4a4997a18a2f4bf85bae90",
      "3c539732edfc4bdeb5eb9efff2f44be7",
      "7e59acbc50b24bbf8f5fff817f19fafb",
      "1b30ed86e0074381aceb8d4a1a0ccb71"
     ]
    },
    "id": "hO_p1JvwHDKt",
    "outputId": "15149de9-09f7-4c08-d279-72ee4a24b88c"
   },
   "outputs": [],
   "source": [
    "snapshot_download(\n",
    "    repo_id=\"bert-base-uncased\",\n",
    "    local_dir=\"/content/test\",   # where to download\n",
    "    local_dir_use_symlinks=False  # to copy instead of symlinking\n",
    ")"
   ]
  },
  {
   "cell_type": "markdown",
   "metadata": {
    "id": "OHkgk070EEgb"
   },
   "source": [
    "### Load the model"
   ]
  },
  {
   "cell_type": "code",
   "execution_count": null,
   "metadata": {
    "id": "bJh0QWuAEHMq"
   },
   "outputs": [],
   "source": [
    "from transformers import AutoTokenizer, AutoModel"
   ]
  },
  {
   "cell_type": "code",
   "execution_count": null,
   "metadata": {
    "id": "__5JhdeIEIaL"
   },
   "outputs": [],
   "source": [
    "tokenizer = AutoTokenizer.from_pretrained(\"/content/test\")"
   ]
  },
  {
   "cell_type": "code",
   "execution_count": null,
   "metadata": {
    "colab": {
     "base_uri": "https://localhost:8080/"
    },
    "id": "RHQbNfpR5sH-",
    "outputId": "c81b2fb9-7577-494f-b60a-891b27e9cf22"
   },
   "outputs": [],
   "source": [
    "tokenizer"
   ]
  },
  {
   "cell_type": "code",
   "execution_count": null,
   "metadata": {
    "id": "YGlGdWv90P4N"
   },
   "outputs": [],
   "source": [
    "model = AutoModel.from_pretrained(\"/content/test\")"
   ]
  },
  {
   "cell_type": "code",
   "execution_count": null,
   "metadata": {
    "colab": {
     "base_uri": "https://localhost:8080/"
    },
    "id": "tcTXnbWG5uFy",
    "outputId": "8b07a5f1-0d8e-4db3-8d3b-0b2a3d0101a5"
   },
   "outputs": [],
   "source": [
    "model"
   ]
  },
  {
   "cell_type": "markdown",
   "metadata": {
    "id": "D-TJH_wlBraS"
   },
   "source": [
    "# Inbuilt Pipeline method"
   ]
  },
  {
   "cell_type": "markdown",
   "metadata": {
    "id": "Fb_h5cE_xyy-"
   },
   "source": [
    "| Parameter           | Type                        | Description / Use Case                                                               |\n",
    "| ------------------- | --------------------------- | ------------------------------------------------------------------------------------ |\n",
    "| `task`              | `str`                       | Task name like `\"text-classification\"`, `\"text-generation\"`, `\"summarization\"`, etc. |\n",
    "| `model`             | `str` or `PreTrainedModel`  | Model name (e.g., `\"bert-base-uncased\"`) or loaded model object                      |\n",
    "| `tokenizer`         | `str` or Tokenizer Object   | Optional – auto-loaded from model if not given                                       |\n",
    "| `config`            | `str` or `PretrainedConfig` | Optional – custom configuration (e.g., num labels, dropout, etc.)                    |\n",
    "| `framework`         | `str` (`\"pt\"` or `\"tf\"`)    | Force PyTorch or TensorFlow (auto-detected if not set)                               |\n",
    "| `device`            | `int` or `str`              | `0` = GPU, `-1` = CPU, `\"cuda\"` or `\"cpu\"`                                           |\n",
    "| `revision`          | `str`                       | Git branch/tag/commit from Hugging Face Hub (e.g., `\"main\"`, `\"v1.0\"`)               |\n",
    "| `use_fast`          | `bool`                      | Whether to use fast tokenizer (defaults to `True`)                                   |\n",
    "| `token`             | `str` or `bool`             | Hugging Face token (needed for private models or rate limits)                        |\n",
    "| `device_map`        | `Any`                       | For multi-GPU / model parallelism                                                    |\n",
    "| `torch_dtype`       | `torch.dtype`               | Force precision: e.g., `torch.float16` for faster inference                          |\n",
    "| `trust_remote_code` | `bool`                      | Allow loading custom `model.py` logic from HF repo (for advanced/custom models)      |\n",
    "| `model_kwargs`      | `dict`                      | Extra arguments to pass to model (e.g., `temperature`, `top_p`, `max_length`, etc.)  |\n",
    "| `feature_extractor` | `str` or Object             | Used for older vision/audio models (now replaced by `image_processor`)               |\n",
    "| `image_processor`   | `BaseImageProcessor`        | For image tasks (used in ViT, SAM, etc.)                                             |\n",
    "| `processor`         | `ProcessorMixin`            | For multi-modal models (e.g., Whisper, CLIP, LayoutLMv3)                             |\n",
    "| `pipeline_class`    | `Any`                       | Custom pipeline class if you’re extending or modifying the base pipeline logic       |\n",
    "| `**kwargs`          | `Any`                       | Additional pipeline-specific keyword arguments (like `max_length`, `top_k`, etc.)    |\n"
   ]
  },
  {
   "cell_type": "code",
   "execution_count": null,
   "metadata": {
    "id": "uL8tEkUA7yaZ"
   },
   "outputs": [],
   "source": [
    "from transformers import pipeline"
   ]
  },
  {
   "cell_type": "code",
   "execution_count": null,
   "metadata": {
    "colab": {
     "base_uri": "https://localhost:8080/",
     "height": 217,
     "referenced_widgets": [
      "fb8236d3ef274c82a2ef87d11ffdb048",
      "e70eb53490c047c0af361d272da44e62",
      "70134a17725645988ad85280264d3ce6",
      "4a4ff3069eb44ebba5530f844f215178",
      "fa029c617cd8442896f01d810c240c27",
      "2233aa3c86f24fb0a4caabf44508f148",
      "1e725c2342f24457a482bd8bc236cb14",
      "ed9c02b9ff3e473286dcdda0a4a37b48",
      "5b499ee7012843b4bcee29bc090933d3",
      "5e8a6ba3555444be8720ae2c9c9ab8d6",
      "d1b487fc1a594eb9be4d4d1a953adb50",
      "7c59c2b4aea04551966c399832ddd639",
      "e258d8d709d94edea5223389f8efc329",
      "0e6b1592284c4de2a57eb3a722d36ed1",
      "c9e6c15b0ec2423ca5f2eea122244951",
      "c96e5c707f46455580a541866814381f",
      "77391958c0ad477db2d687202d640fc2",
      "63527f543b0f411dac8427cfc3119819",
      "b8818fc220984444bb637f5e7288488c",
      "8db9844b247f491989274cef8b9ed005",
      "d4b19337a35045ecaaffe8645a38132f",
      "f67b37ad6fd345549d14063693226bf2",
      "3459fd398ce34956909d85cb9fb57841",
      "288e9b9226634005b321255e8aa3067c",
      "433cd577466345b0af624d61e4eb4492",
      "0ef9ebe53c604553a1eb917793942e94",
      "f691bbb624554b0e83a44b9997161440",
      "c212c57bd0ca4e918ecf6f17b6ba964f",
      "955475219b5542f68820852f9d9be4ab",
      "ef7a6c1476db4c91ac2918d470a42f6c",
      "0c0dba611bc84feeaa55f599973bb249",
      "1e44f6da2479487e87777bfe3c152536",
      "f1db580be08e467e8f73e5c1cfe353b0",
      "9f4261da08034390ae4616385d8e6ffa",
      "23a2f72c206348dea37699921c8f4571",
      "eaafe2a5bdab4cb69246c7cbffaaf503",
      "b231f33434904c22947e22d2110bb6ef",
      "35c949fb081a4fe68f54ea9cac30c87a",
      "ce89f614dcce42fba3cbf29380614491",
      "3666e356ff4b4a1dbcb01d4bea848db9",
      "3bfc3083caf247249224d87fe25cc599",
      "df6d52697d0b425b9f06ca95f0614c2d",
      "636c1a8f430c4b9ea7b7d5f299530091",
      "856603afd10d47e09c11f53ffb814c9e"
     ]
    },
    "id": "S3FS9Oh6Eo76",
    "outputId": "943403b3-4c61-4e5d-8b80-c30d3b4aa033"
   },
   "outputs": [],
   "source": [
    "classifier=pipeline(\"sentiment-analysis\")"
   ]
  },
  {
   "cell_type": "code",
   "execution_count": null,
   "metadata": {
    "colab": {
     "base_uri": "https://localhost:8080/"
    },
    "id": "X6wUmRRQEqhi",
    "outputId": "0def11a1-3105-438b-977b-898e00c1ddc0"
   },
   "outputs": [],
   "source": [
    "classifier(\"i will learn AI throughout my entire life it is like a passion\")"
   ]
  },
  {
   "cell_type": "code",
   "execution_count": null,
   "metadata": {
    "colab": {
     "base_uri": "https://localhost:8080/"
    },
    "id": "bFNRACtwFhbT",
    "outputId": "190bb3fd-96eb-4939-eb5b-9804dccb58c8"
   },
   "outputs": [],
   "source": [
    "classifier(\"mera dost don hai\")"
   ]
  },
  {
   "cell_type": "code",
   "execution_count": null,
   "metadata": {
    "colab": {
     "base_uri": "https://localhost:8080/"
    },
    "id": "MpIEWXjdNYkX",
    "outputId": "83efd627-359c-4b8d-e52f-2fc62cfd260c"
   },
   "outputs": [],
   "source": [
    "result = pipeline(\"sentiment-analysis\")(\"Hugging Face is awesome\")\n",
    "print(result)"
   ]
  },
  {
   "cell_type": "code",
   "execution_count": null,
   "metadata": {
    "colab": {
     "base_uri": "https://localhost:8080/",
     "height": 281,
     "referenced_widgets": [
      "c9e32518371148d4971fa51045bdc5a9",
      "487a9e94a1734677aacb87df306ca175",
      "4db15ac6768a4fd9a82f03cd0b586125",
      "44a899b2d934477b862a082ada1902db",
      "bc49d787cace4459a43faa293cdefcd3",
      "596e11926d1140a5b85212e83c0efbf5",
      "9a574d98e9804c0883664ee4abd58e4f",
      "f1640efd1e6741bfa5ba84a7dbe77bdf",
      "7aa311ebf5a6406aa4bcce692be64b86",
      "36b81715931740bbb7813a9043fb4860",
      "bd1c7af3752f4862bec5e322703aeb88",
      "f781ae41e5ce4b649807d28720235bb0",
      "327de448ebe546d2803754b9ff1a45b3",
      "b5b3e3b87e35483baa1fd0b0e5a0f030",
      "8cd5457cca1b4f7988313a81b457a72d",
      "3ee7501fe272449bbcd6fa3c9bb8a616",
      "c5b4b8674cbe4352a52fede4c0961f92",
      "6cc84cdf9fd84af6af486ff567e5727c",
      "9253d188b68047b7941a7c3d89b33d18",
      "d0684948464c4da792f74dc36f2a31f2",
      "f59a87484a574a06ba482613f67f2eee",
      "3a33270c990641d8b1355753b48f6399",
      "1b56725e6946430fa9c16e66296797f7",
      "bb39dd640f624a87b1962686b0fde02f",
      "0f28725300634960bda4549295992ede",
      "9bf8cb88ec01439f887a03dd9de2bc64",
      "b94004ce278d4b3ca0935362474a2737",
      "51ba0bc8fe594955bc2659027c923288",
      "bceb62c6d42448e69bf1a8eab6ebb8f3",
      "5ad9e053dd694e74a77307844cb50612",
      "f59d793503e54a4084d211a3eef25e5f",
      "01c38305ab014fb682da1a66e2cba283",
      "7b14383946c342f2bd7164bcba6c164f",
      "2bb6ca32b3c44d4f8915e456dcb48cf7",
      "18dada04881945b6b01b2031f68179e1",
      "2e0eaf0d805e490fba9ebeceb5e1b286",
      "3ade785739214c6cb092d086625ef75a",
      "72ac290600184d178f99abdbeca1ab0a",
      "993b2cf9b6c64866a36eb7f00bd47d9b",
      "31cb2e3fc36a42768c1338687a16db3d",
      "a59d9f8f612b49fb970f93c59ac80f15",
      "f7399cdf852d4ab89c1f6285a6437621",
      "4ce9a26e92094bc6906025064df879e7",
      "a53778bdfd1445918f000f20caa8df5b",
      "714ac033a58743f5be76f466d4b9a68c",
      "e76bf06522124f7599d12a89b74969b6",
      "e8624cada89c4faf879d58dc46cf8a9d",
      "e257053b82504e83afb7479ecdc1d068",
      "e5f91267c3f04617994da669d5347c46",
      "8f84e2e39eb045d79bb2968bcd569c24",
      "51096c532a114513831df647e1bc6616",
      "d0d22669800b46f7aa9145e455fd2413",
      "bce30443fd604e5a85e526fa727499c8",
      "5c5b5cb5d51b43dc945d3182fcb66af8",
      "ff2739fb6f1e46929e173e1060eae456",
      "8e7c31d5c52443199f5891909768df0a",
      "2204c889cc7b402b951e5a4458a00b21",
      "b3c978a2df124287bad78cc63d7f3742",
      "5a8fbc5d217e41f896178a296d35c93d",
      "434ec79197024eb49e738403286ed8b0",
      "7850dc2699234b008d797f04fcf7cd33",
      "8f5f1e5f93c348aa9ef0fb06015a30c1",
      "abb1172695534167bf6af5e2efb7b5c3",
      "0c0ef1e28a744a9a8865e09110c2a3ef",
      "eff8c102be694ce59b02a31d42e29075",
      "47c28a63944d4bd8a20501d8365f9685"
     ]
    },
    "id": "GrJ2w7ql59N0",
    "outputId": "44a6f402-6d20-4809-dd22-bd08e1d20f2f"
   },
   "outputs": [],
   "source": [
    "lassifier=pipeline(\"zero-shot-classification\")"
   ]
  },
  {
   "cell_type": "code",
   "execution_count": null,
   "metadata": {
    "id": "PlwU4DWpFjEx"
   },
   "outputs": [],
   "source": [
    "res = lassifier(\n",
    "    \"This is a course about Python list comprehension\",\n",
    "    candidate_labels=[\"education\", \"politics\", \"business\"],\n",
    ")"
   ]
  },
  {
   "cell_type": "code",
   "execution_count": null,
   "metadata": {
    "colab": {
     "base_uri": "https://localhost:8080/"
    },
    "id": "IuZeFYYoMM1C",
    "outputId": "1ca4018f-21ba-4c8a-be39-a469a3f13cd2"
   },
   "outputs": [],
   "source": [
    "print(res)"
   ]
  },
  {
   "cell_type": "code",
   "execution_count": null,
   "metadata": {
    "colab": {
     "base_uri": "https://localhost:8080/",
     "height": 293,
     "referenced_widgets": [
      "68ddcd20af684e18a02625946c80fed1",
      "33414b42d3e048d9a5aa2ce5f6f93146",
      "e81e1980a08c425d974e6063af5402f8",
      "d64118e1642d47e89e63b4be2eaa99bc",
      "d772106c99384064b76fdad475e1d0e1",
      "733aad15b8e848d0a6cc62047bae6b10",
      "a17ae1e20b1f4b18a683b388373c91c2",
      "5076f9df08954bfcac05e57848220c34",
      "a9ecc2139380435dad2abcae94d62292",
      "37cbabd35fff4a9f9f6ca724bf97dc39",
      "70f6f8773b5d4e359e93db91209a9fac",
      "97c07e4e460d42b5bb60df2a98a6a9d8",
      "e38cc83757214e2a84809a75fa73a2f4",
      "6b68575bcc2c456cb1e8dcbdfeb429d6",
      "a1b2f347c60648aca739a495572e473e",
      "1f87c414e4f9453bb4bf090a36003c46",
      "8d6c0ea7d9e54eb4b9ef5cd5b3bb1b19",
      "d8148edde769420a95e09871facd602c",
      "cd75100b3b78402aacb1365af726a119",
      "8e661a841cfa443a8723eeba1477ccf3",
      "878dd7cd05ee4bceb4659e27808e6b53",
      "c8a8ef0594d94acf8df8550d871e0dd4",
      "1fea1e25fe4d4266a6252ed5c9e608ec",
      "2fdaf82fb5114f14b7afe78a449f45c2",
      "8bee4abd64a8420f8b7db30d85df765d",
      "0ea08d0789174545b05b640c334781f1",
      "07240c89619e4eee9a1997d19cff6237",
      "66924e03ddda43ea9e73289b61b14d7c",
      "29dcd16429cf4f5382288e8b2ff7ba07",
      "e0859e84e69146a78f1cabfc49bc6cc6",
      "ad75e8a15991413f8b1cb06b979d57a3",
      "c2d72525d52648ebb52d08a39228b10e",
      "77e1486ab21b43f392f8b381be17dc86",
      "d011c2fe378d4b3f8cb47cae2adc0342",
      "7d63c60955f2428e9321cda4ed83a9e3",
      "bc6adb92a0f049bea8b244329cb92e20",
      "6ea205a4841c4bc096a3f46e124db103",
      "69dcaf61c149483094770bd266b2cbac",
      "096db96e24ed4f53b0696dfec4e611fd",
      "062acd06e1a746bdac3b7d68832941fe",
      "96b8b65fa0ee49118ad9c0a8abe9cce4",
      "2e897fa7ff4140f398b6e4f1ac6ae76d",
      "2835c3aab1cd469fbf3e9843f8765c51",
      "9335b8a597544a718c9e56ff05b1f426",
      "f30e1adc1f6443eaa6abe0038b468f26",
      "42cefe17cc144d52aee54159d778b80c",
      "b125bde744734da48157c10ec0e75847",
      "1768dc9135664b43a7e2672b06bb9af0",
      "f2355e7e54584301a80b1d62ba2e1908",
      "6a1a43c943ae44a6aa5f683b89f3d786",
      "855bea4d0fe84a4abde20b0ee8794d14",
      "ef48c5419b2e47cd9b2d33e2daf5501d",
      "977a665c72704c75827d729471fdbdfb",
      "46375c91ade34d99b7de148ab7188f28",
      "370908a4d93f48fd8bf6d1ba49c650b0",
      "01a085e9ec9146b58d5104daec4ff2d3",
      "8f560be0eba84317b330387c81ac9995",
      "a5249ae9e07c4bc98d80f0962852d3d1",
      "039c001708b24f8dac983bd6046d1893",
      "41c094d1922048b5ba8eff5d8a73ae04",
      "03f084d4c0f94da5be04b016b48a1955",
      "a5054b48190f41b5b0dba2bb60637947",
      "93fb57403da94e39b41808da2811ff64",
      "7147b568583841d4b409dc5e99dcab2a",
      "3eb9c418811245bdbc8ca107570eeb7b",
      "d954ac7613db4ea489deef7bcfba7534",
      "bc1339f6dc2349e6bea583978a6cf470",
      "24f7b34a60be491aaee3ec8461a61a10",
      "364e2ad497e2497f97bf4b961924bfe4",
      "5cff5be8ae954b94989ac52d281c3769",
      "5aed1251b452470192aa8bd0123cc978",
      "13fdd73ac5d94e40a70c3d0de45191ab",
      "2e500f34566e419f912229fa77e45939",
      "07ca29e2bd484bf7a9e3a879166d77b8",
      "aed7d21651e54b0b9b8d5fc6bfa882e8",
      "607e2df842f94ec58f721444f81b97ea",
      "f9e0c604464f4f00a07daff3fe2da59a"
     ]
    },
    "id": "0gjil0g5MTSk",
    "outputId": "f2c86eeb-1c1e-4723-9a43-f8fc4cbb29d3"
   },
   "outputs": [],
   "source": [
    "generation=pipeline(\"text-generation\")"
   ]
  },
  {
   "cell_type": "code",
   "execution_count": null,
   "metadata": {
    "colab": {
     "base_uri": "https://localhost:8080/"
    },
    "id": "OhvSbk8tMn1C",
    "outputId": "0b73b7cf-8a31-476a-ad51-c51d6c1cba28"
   },
   "outputs": [],
   "source": [
    "generation(\"python is a simple language what is your thought?\")"
   ]
  },
  {
   "cell_type": "code",
   "execution_count": null,
   "metadata": {
    "colab": {
     "base_uri": "https://localhost:8080/"
    },
    "id": "YrwjydzSMrSC",
    "outputId": "4d8a0db8-6ae5-4a51-942b-481ee4d368c6"
   },
   "outputs": [],
   "source": [
    "generation(\"hello how are you?\")"
   ]
  },
  {
   "cell_type": "code",
   "execution_count": null,
   "metadata": {
    "colab": {
     "base_uri": "https://localhost:8080/",
     "height": 281,
     "referenced_widgets": [
      "153453c40d63425499ab5c16f01038c8",
      "9abe28e129cf45c9bb9d1a818c32f249",
      "96978b1e749c4650b054740073ff4753",
      "1f8bf25c3594478d9692bfddc77a219e",
      "c6bda8e10bb34d2a9032598ad6efdfa4",
      "c8bfe75f5a094932bda635de91057b0f",
      "2cc74121fe9a452494d5efdee0ef0b58",
      "a829fefdc5b142be93b9d1fc44824996",
      "e4cfa351adc14aa8812c3347af80597b",
      "d13502cbb3824b349070cb70d83e4aa1",
      "3944767f692b42b49e65223962e3e88b",
      "8dc6b95e63f7467f842fa45d28ea2d22",
      "2d95cac0e4f04317b33b311cd4f092f9",
      "7a8840a741fe46ab86908b8ef8a6a2da",
      "324d0d5d9cc8484e9085ae79aaaa4759",
      "8c580fa4809b4aadb9d9c3983584ae70",
      "d504c362eabf4ddf88e09aa2ec583637",
      "5a9c717537a4450abe568cf470853320",
      "5aef0fc28f8e4b3093dba4a46ea58d32",
      "5b3506a5046f488b8990d9add4858f51",
      "ac74e0ed01604c5b933140d9205fee3d",
      "391a3c4fb7e743dfa04c8c37b83ccf80",
      "e696261dade0471994d9e4ddc91ebae5",
      "ab9fb0ac13624e8ba2cd880c477bde31",
      "4326cda5d9e94ff5aeadc8d26a0f0fdb",
      "a0d094f75d8344a9be94e3225f6dcee0",
      "47aff378f3064e05bd1ee6702a7f3c79",
      "cd4f084d232343cc814ef6c3c1ba4409",
      "3324c80b85414288a43f41bde0da670b",
      "0e8eef7da45f4ac8b1589e87c7a67758",
      "2b449983f5e94d7c97e37c465c2fc11c",
      "1cebeae208db4164a21893fac2565f40",
      "25623d2a5e384790bb2a2ba407f7b1f3",
      "bb8d85598a6741f88ecbe7afea1bcf34",
      "ffb280c1197c4be09c8fea2cff8507ae",
      "50fe378bc14a444782d9e326b99edfc8",
      "e5ec8e9a33044adaa88190db7fc56822",
      "1d64fcadd7094bdaa78c3137d9a7c81c",
      "6d73709c79724428ac327ace4f0e74f2",
      "d311fc5b07f548d1b0a57345a99a4ae0",
      "2c9ab550cf5246fab8be1921356cf6ca",
      "182c7cbe12b14d8f8c651d3d6892b5d1",
      "696ddf826748419abdbde3c05c6317ea",
      "e02decb4cb074228be9913d46f49f0e7",
      "0966d06b05ad49e0acfcc24522eb7232",
      "3713be927c0c49eea5d75a5fad6df83b",
      "fe603bcbb48146c080badd3d93f82af5",
      "9eff8437be5b4ddeb7429d357a6249bd",
      "9ce6a6f7f35244b2b64392e066a7e210",
      "86c83c199543477da3a5310846f43e4c",
      "22ae9cefde1a41f199d65da781849d9a",
      "639b8c3212ac4aa6ba880e0678fe365e",
      "9329d399955146319272222d89333175",
      "3363120d4db34950bc16fd558a28aa4d",
      "8b2f9e011b3c48b4aef71d3b28889d17",
      "211ace4568db46d0b0bdbeeb0f1b0405",
      "7b4aafba988d4e098316be0b822d210f",
      "a4ed233b8a8f4030beb3b0e9ab0cbf8e",
      "78d5121d5e6f4df98ee12477ee555e35",
      "defdd875890d4f2499d701207394b27a",
      "16030df023bf4f6bbe2b8ea8e6a29f7a",
      "8996f9f3a0724c41a8943ebe702cd208",
      "ba82ecdc5c394f05b74bcedc459bff60",
      "c07bd9723aba455083388aa842606cbc",
      "bb18aa53ed7c4651a12950494fa9e181",
      "7acd6cd74fec42f699aefa7573fcb461"
     ]
    },
    "id": "wAFuRYCeMu9q",
    "outputId": "4b7b6dc5-1ef6-43dc-ad3d-2e502c1439cb"
   },
   "outputs": [],
   "source": [
    "summarizer=pipeline(\"summarization\")"
   ]
  },
  {
   "cell_type": "code",
   "execution_count": null,
   "metadata": {
    "id": "7bo4Ua8SMw_C"
   },
   "outputs": [],
   "source": [
    "text=\"A large language model (LLM) is a machine learning model that uses deep learning to perform natural language processing (NLP) tasks. LLMs are trained on large amounts of text to learn how to respond to user requests with human-like language.\""
   ]
  },
  {
   "cell_type": "code",
   "execution_count": null,
   "metadata": {
    "colab": {
     "base_uri": "https://localhost:8080/",
     "height": 106
    },
    "id": "TElQdf_KMzZ6",
    "outputId": "10c362ce-5da4-4d4e-d372-edab730e43e7"
   },
   "outputs": [],
   "source": [
    "print(summarizer(text,max_length=10))"
   ]
  },
  {
   "cell_type": "markdown",
   "metadata": {
    "id": "zj_m5rSh6-Jh"
   },
   "source": [
    "| Property          | Value                                                             |\n",
    "| ----------------- | ----------------------------------------------------------------- |\n",
    "| **Model Name**    | `google/long-t5-tglobal-base`                                     |\n",
    "| **Architecture**  | Long-T5 (based on T5 but designed for *long documents*)           |\n",
    "| **Type**          | Encoder-decoder Transformer (seq2seq)                             |\n",
    "| **Token Limit**   | Can handle **16,384 tokens** (way more than normal T5 → 512/1024) |\n",
    "| **Attention**     | Uses **\"Transverse Global Attention\"**, better for long contexts  |\n",
    "| **Pretrained By** | Google Research                                                   |\n",
    "| **Tasks**         | Mainly for **summarization**, also good for long text generation  |\n",
    "| **Variants**      | `base`, `large`, `xl` – you are using `base`                      |\n"
   ]
  },
  {
   "cell_type": "code",
   "execution_count": null,
   "metadata": {
    "colab": {
     "base_uri": "https://localhost:8080/",
     "height": 226,
     "referenced_widgets": [
      "6fbb0adecc414fb498a31dae93f97129",
      "e0fb81f27b0b4f04a9d2afa1783bae19",
      "efc0b9b02b9e48dca210356d8b55e63a",
      "d0e89c2287a74aafa4db37619e81e334",
      "93bb441f50844d35893c28af5cd562cc",
      "fe2189afa67744f08c4e285285b307a3",
      "74098053893c4b62b9554f26d69e2219",
      "152a4604b4fe44e8ada774b267b9fedd",
      "03266130df114cb0b7099630c5633dd3",
      "c20aab8ac6ff4e42ba3a8fd7b1e18161",
      "820b4f3c80ba42adbcb78b347b733e61",
      "dd987935282e4e0683c1ae20278e94bd",
      "6b8a678d9bf74584a40ac2cd5b689cd5",
      "49656f0b15c14ea48c23bff542643bd1",
      "a1ac4e57a77b40f491095d8be31b33f1",
      "76656cb3d3394077a7fe5ecdb56d6299",
      "27e81853d1e94b1fb25c450fd5fed4b6",
      "acbc211c06524ae0b1b0330368be6379",
      "e2145a9e9bcd4f72b2cc94884e3b1afa",
      "dd8d0d4c04dd494092faec5aff9511f8",
      "fa8d6b7f12b64716aab930b662220db0",
      "13a716c723d24484a80996c8d004ce19",
      "45c432bf319446089ad2159332e9de92",
      "3ca7a843c2cb44ee8dcf4266113ff6cd",
      "1ec561a1d9f04a5489be792da5e89677",
      "fc1c1e1461734587b3c9bfec244eaf9b",
      "71c7af54c7f64f15a4c803607de4df46",
      "54e59eaa82594b0a9b743c2ed0ff7e2c",
      "31cc3083f7a24138895661c2a0ab8d8d",
      "4839741564634c2da459c8411342e43e",
      "efffa87e645440bd8fa8772f6493c049",
      "802e2c60671649998bdbd09e29b46213",
      "deb48b96429a4a4eb2142afdad5cb2e5",
      "15064a9f3c854cd480b819d0c5f77396",
      "0db60fa4103242a1a2f81eb2edcd4b87",
      "8ba40d597dfe45a6959f9008ef03929e",
      "3e7b44fac72c4feeb1781b1c1cf37704",
      "f721928c29da49c3802b7024a917c40a",
      "0fc8eecded7b4d488841343ca7cb84aa",
      "b896a375e1cd4fb989fe4946be639a16",
      "6687651383904f208b95e139a29c78ad",
      "98126dbd9ef042bcb88ec67c25b65bed",
      "9dd16c65f52d4445b4ddd5eb5f707289",
      "7b2d11a37d304bc899d509979735f6e2",
      "3b5e58ba55b54918b322977a8bf850dd",
      "9d54d507cec44f04bd2db74965fdfdb1",
      "ebed66c035234522bdb6860d02bbd7ee",
      "1f31b1b656cf4948a32d8a9db4491062",
      "bd8a312f633e4bbf95e5636fc089adf3",
      "f96f2a0dc36341829d7b89dbae50dbca",
      "a18f07161eed4c9791d504d35d0c43eb",
      "c8924d1e81254b06b974867670ec9653",
      "6999670ae39842e98f4953a79d4fe33e",
      "b4780f25a2474e31971e224fbfd4d184",
      "986cd6c6de714b48ac25a8c3c9816d7a",
      "f34229f05c1e4fab967363510ce3c34b",
      "11e7fe97e20a4097856ec58fd7a3f4c3",
      "1a9bb62172a34e66bdd888722a638338",
      "63ccb08f96f749e7ad5c831c15f5b5d9",
      "ea48b870cf6542a8bea1ca719f65a368",
      "73cd44ecd122430ebd019121ac6088df",
      "412b9b33bc6848a083ec53bf3613452e",
      "e3ef3966007c487bbf54cd8dfe4d5e4a",
      "b429c6f63ee44cc8b3e90ac5284a2097",
      "1fa95c006a5b4cd39006d37f0068fda6",
      "fb57015f73884120ba96c9f9ea15d335"
     ]
    },
    "id": "8mT5wp9g6lIF",
    "outputId": "95653a5b-3c29-4c36-ca84-3e952301cd35"
   },
   "outputs": [],
   "source": [
    "summarizer = pipeline(\"summarization\", model=\"google/long-t5-tglobal-base\")"
   ]
  },
  {
   "cell_type": "code",
   "execution_count": null,
   "metadata": {
    "colab": {
     "base_uri": "https://localhost:8080/"
    },
    "id": "0eTrvleg7BRk",
    "outputId": "d7a7a2fe-ad93-42d9-da1f-5407f9898a18"
   },
   "outputs": [],
   "source": [
    "summary = summarizer(text, max_length=50, min_length=10, do_sample=False)"
   ]
  },
  {
   "cell_type": "code",
   "execution_count": null,
   "metadata": {
    "colab": {
     "base_uri": "https://localhost:8080/"
    },
    "id": "zXGyNLd_M211",
    "outputId": "1bc9e69a-8327-42dd-b4fc-e3cc705e1531"
   },
   "outputs": [],
   "source": [
    "print(summary[0]['summary_text'])"
   ]
  },
  {
   "cell_type": "code",
   "execution_count": null,
   "metadata": {
    "colab": {
     "base_uri": "https://localhost:8080/",
     "height": 266,
     "referenced_widgets": [
      "be07c1b811a54c77bba7b56a97857286",
      "bcf2ee9ebfd045b2a80552c6b317376d",
      "e1718e27215e474db1a3be6b07d13236",
      "0d751cbc753e417382fad985aeb3709c",
      "3f8ded3787a842ff9e2b63456195dc9d",
      "6d8701c7d7364adf951f0c07e662ac62",
      "2e1321818037472b88093632cd81e797",
      "59651f704f6442bd9f5b37c27e7584ec",
      "0bffdd01b3d74036beae0128407f7566",
      "44aa401a4feb413aabe31dbc1fbdd751",
      "67b6f886e13c4160a0b80ffd0805527d",
      "d322b141b6bf4f0987791d92df2f1f2e",
      "f1dab4392b324b41962e0b5c1ac09ec5",
      "3614df59c1cf4890b44e97578eba0c6f",
      "8f0206fea22e4985b73eff55259f9da1",
      "f3f026b67c0b4878b3b426c7bd227726",
      "5a68d3f1b06c41c9bca543b38dd6dc2f",
      "8f1d4a6d42d64381804a6b08dd15ce8f",
      "8fa0c363158047e4a4f0eb68de37a15e",
      "f252e72d6a9a4aab82d03b543a76f982",
      "2bc36a91cbf848ebbde32b0ebfac86e5",
      "76c4f4ce818a4cd7b8e8a7012a452c96",
      "7f7a6b8c5fe544519f2caecf1cbb1508",
      "3b3285eb0e374e27bc33f568db691596",
      "d3ec57f11adc4100b5bf1a5aab2440f9",
      "5e247de7567e430aaf8fff333d8eb802",
      "d5d8fc2073e94da8bf989a9bc9acc4e6",
      "c98e854d3d8e4d37b9211e68fb83f9c3",
      "79ce11a9329c4f1bbbccd94d8a31055a",
      "fd939bb84fa54728a156011f2ec1fabc",
      "475c1bfaf7184116be897780baf3e43a",
      "3cab0a0739c44723a42abcfa18b541d5",
      "294fd3e93daf4115b705e4d2f071846d",
      "7a8ec99423d645b5b6809407933c205c",
      "2cc46ea534b24b649d0aeb704691d875",
      "fa0691565c4446aa98371dd84ff53fff",
      "73348b6bf4294dfb9f7a7782c000bec2",
      "7fb5a6241ebd45bea2008e8f21ae4ff4",
      "17a6e62ea791414db5491e8ae4c2c6a7",
      "dd090c50c8ce42a5ac4473b18078c66f",
      "7bb0f0af5c3c4e299a69dfa49aef12d6",
      "f5d747959dc34c9a8694bb12bb6a5309",
      "826ea34107fa47acaf2912c2a7f9676a",
      "1efd4b999a3742db8de2ad9bef01b9c6",
      "943c621f64cb4116ae35dcbc3b00dd3e",
      "748dc02cd5ed45bbb30bf6fdf48f2855",
      "1a0d204048dd4e8ba0672719fb98d613",
      "c33ced5197f14156935cc7baa027cd71",
      "789faf250f08453e8349a52dbf99f0db",
      "7bbc744c91e64ef784341ec09c97e60b",
      "35efde9c57554e75b4e3ad9c86314396",
      "26845521bad547b2be69fca9e4d135e6",
      "883ac151a16f4ef8ac04b3569cc7cd79",
      "927d96aebc7b4662a63194c356561d57",
      "4c951a68618f4fb69ac5849fb4fff99d"
     ]
    },
    "id": "vqgIHzg07gi2",
    "outputId": "78caf52e-fc4b-472f-df29-ece7875501df"
   },
   "outputs": [],
   "source": [
    "qa = pipeline(\"question-answering\")\n",
    "print(qa(question=\"Where do I work?\", context=\"I work at Hugging Face.\"))"
   ]
  },
  {
   "cell_type": "code",
   "execution_count": null,
   "metadata": {
    "id": "G4RLQKQz70pl"
   },
   "outputs": [],
   "source": [
    "from transformers import pipeline\n",
    "import time\n",
    "\n",
    "texts = [\"I absolutely love transformers!\"] * 100"
   ]
  },
  {
   "cell_type": "code",
   "execution_count": null,
   "metadata": {
    "colab": {
     "base_uri": "https://localhost:8080/",
     "height": 202,
     "referenced_widgets": [
      "19e8eadbc89746e5975cafbea2b0715d",
      "bfe0e83ca0624c90943aa2ebac2a8746",
      "9dd486acc0d74f15b5a9f1a51c59a8f5",
      "5fc3a2421d614fb39a8b6347697b6383",
      "ee82a5bd01284026a5ba14b9423072ff",
      "bef5ca91ea194512979e4ec77fc0863e",
      "9d8ffce569dd4da1bc768c9d99e7e57b",
      "778eede2784443de9cd866c6771f3b6b",
      "f0e9c13cf0a04081b486b3f047648bae",
      "b13def523b3a4827bf452068283d8402",
      "3e7bc766267c424d8b602e9251646b73",
      "073fd31995154094a7f6821a058a8665",
      "e9ea231199384bfbb020dc85924277bf",
      "0844b6981ba149aab59981cd37c6dd6e",
      "3d550e0d2f0645839995ea7748b2f701",
      "b2f48f962e34458e91ef35903d6c1dec",
      "49cc654eea314b36b26717acad5a8d77",
      "f4f2dc4d851145e99cbae83ecebeaddf",
      "b7f373ad2c104ead8dd95b435952d459",
      "090121c149bf4538a9cdbc90f8de0112",
      "44d819a5eac74e6ca20f0ac34e9a23ce",
      "35b9d2067082483987b39c0149552530",
      "b7ec570719f34d268b8b7f8e749982c2",
      "9235646cf8434b708eb4697b78bb1c13",
      "1deb9248cddb4a528a13090bf68880d4",
      "4b222ee7815a45c9bf616b4fa23e8d82",
      "12b21e85efc14be1bb5701d6b3fbb21c",
      "09cfeb33eafe437b9e2d62162f3ffe23",
      "d2b1f7f312dc43c8adc0352e611d336d",
      "42cc3c0f69384546959c7c3e3860f4ab",
      "20cccc4abf484b0493099ac13d5674fd",
      "e0460c11c45d4fcf83cccb50df2e5959",
      "cba5f2d11e514635a4e9e0f485424930"
     ]
    },
    "id": "cPcnHdza72h0",
    "outputId": "47553dfb-d34b-47dd-cd24-0f635bcf8097"
   },
   "outputs": [],
   "source": [
    "# BERT\n",
    "start = time.time()\n",
    "bert = pipeline(\"sentiment-analysis\", model=\"bert-base-uncased\")\n",
    "bert(texts)\n",
    "print(\"BERT Time:\", time.time() - start)"
   ]
  },
  {
   "cell_type": "code",
   "execution_count": null,
   "metadata": {
    "colab": {
     "base_uri": "https://localhost:8080/",
     "height": 116,
     "referenced_widgets": [
      "401cebc181504c9e842abd0dff677d8e",
      "403af5d515414d50952701241c4a35ad",
      "b84056d812aa426ab2b6c0c7d3d2598b",
      "9838051cfa154051b5b3b6b3de7a51b6",
      "c5ff72a30ff24058a7a3904c1ea70dbf",
      "a1352b07216d41edb1f893dad59514a1",
      "e83994f5be8346a49ea5f8e4a0289778",
      "be84846b0849412c8c1c0a4070924620",
      "94688d7008b9415aaa745b3bee01cb13",
      "8e923d660fef4bbdacc11e832a8a845c",
      "3ef5fa9cd34c4e039660d3caa630b408",
      "8dbf04d0db7f4fca8ffa78073afbd39d",
      "5337e67c521f45dfbed8023b290c1988",
      "13a860681f0f429390d2a6d22b5b1d66",
      "80deec9a7df444fc8288c5be6f11a872",
      "4f0e43388738473688bae5866a60bc14",
      "c45231247eee4d68b5462a3e8a6ea129",
      "a3783aa91cad4576abf47adfe1f7dee2",
      "5fc96bc507414d3caa7867ccfe4f2e4e",
      "389bb1e0e2e94b7b8df46e3257a58f70",
      "3db3f37f5a4a40898b5071dc497efbcc",
      "208193c0dd9e4619a63e9333002f59df"
     ]
    },
    "id": "CaexoJY7S6sZ",
    "outputId": "29ef19fb-7c08-4a06-bf26-aeb54f91322d"
   },
   "outputs": [],
   "source": [
    "# DistilBERT\n",
    "start = time.time()\n",
    "distil = pipeline(\"sentiment-analysis\", model=\"distilbert-base-uncased-finetuned-sst-2-english\")\n",
    "distil(texts)\n",
    "print(\"DistilBERT Time:\", time.time() - start)"
   ]
  },
  {
   "cell_type": "markdown",
   "metadata": {
    "id": "PGGs_GkyS_RK"
   },
   "source": [
    "## Evalution Matrixs"
   ]
  },
  {
   "cell_type": "code",
   "execution_count": null,
   "metadata": {
    "colab": {
     "base_uri": "https://localhost:8080/"
    },
    "id": "JpMxC-vNOmTK",
    "outputId": "8a0d204e-a362-4cac-9b75-9cc5b0389fd7"
   },
   "outputs": [],
   "source": [
    "!pip install evaluate\n",
    "!pip install rouge_score\n",
    "!pip install evaluate[visualization]"
   ]
  },
  {
   "cell_type": "code",
   "execution_count": null,
   "metadata": {
    "colab": {
     "base_uri": "https://localhost:8080/",
     "height": 1000
    },
    "id": "tCuoY1B4KjO6",
    "outputId": "a295c658-4834-4336-b5aa-74cd87f57bee"
   },
   "outputs": [],
   "source": [
    "!pip install -U datasets fsspec"
   ]
  },
  {
   "cell_type": "code",
   "execution_count": null,
   "metadata": {
    "id": "6KzC8IUUDHwZ"
   },
   "outputs": [],
   "source": [
    "import evaluate"
   ]
  },
  {
   "cell_type": "code",
   "execution_count": null,
   "metadata": {
    "id": "njfBNlaxEMiH"
   },
   "outputs": [],
   "source": [
    "accuracy = evaluate.load(\"accuracy\")"
   ]
  },
  {
   "cell_type": "code",
   "execution_count": null,
   "metadata": {
    "id": "8uhpIdiTEPBE"
   },
   "outputs": [],
   "source": [
    "result = accuracy.compute(predictions=[0, 1, 1, 0], references=[0, 1, 0, 0])"
   ]
  },
  {
   "cell_type": "code",
   "execution_count": null,
   "metadata": {
    "colab": {
     "base_uri": "https://localhost:8080/"
    },
    "id": "djjpUm3LTG4N",
    "outputId": "8287e2ad-63aa-4016-ea02-078a856ca782"
   },
   "outputs": [],
   "source": [
    "print(result)"
   ]
  },
  {
   "cell_type": "code",
   "execution_count": null,
   "metadata": {
    "id": "ky9zhXthJajK"
   },
   "outputs": [],
   "source": [
    "def compute_metrics(eval_pred):\n",
    "    logits, labels = eval_pred\n",
    "    predictions = logits.argmax(axis=-1)\n",
    "    return accuracy.compute(predictions=predictions, references=labels)"
   ]
  },
  {
   "cell_type": "code",
   "execution_count": null,
   "metadata": {
    "id": "pa-TVUb8Enm6"
   },
   "outputs": [],
   "source": [
    "from datasets import load_dataset\n",
    "from transformers import AutoTokenizer, AutoModelForSequenceClassification\n",
    "from transformers import Trainer, TrainingArguments"
   ]
  },
  {
   "cell_type": "code",
   "execution_count": null,
   "metadata": {
    "colab": {
     "base_uri": "https://localhost:8080/",
     "height": 241,
     "referenced_widgets": [
      "0ed62988397d4bb89584273554055422",
      "d29c429fdf804d978680e00e75015af0",
      "b5bf05f5348549c58eb58237f9dbf4d3",
      "5c1a6b9a8f9d4098ab180d145c382dda",
      "5d78fff7db474f5ba266caf26a690251",
      "c813482b2796448bbfb83e7aa4ee74e1",
      "a32fc407db2443e18389ebff92bf1416",
      "9907a74eeced4ac28fa643706b5de8e7",
      "f22b02a427b343058e5bcdd9c0b12297",
      "bf17b417d17743999551bea36d619d2a",
      "14274a95837e43548e6b7b0d4e14c29f",
      "18f1151b2237470ea5471f35abbb730f",
      "f4a5bc6e24004e7eb0255a7b47397405",
      "4cb18aba33eb405eb66b17c11e753902",
      "adc549a379fa46e39e6f6626df12f716",
      "9f1afcfbb7fb4c47894e342584774bde",
      "d9d6b548f6d64d64ac46e4c5932f1e38",
      "00d9a67154a04c04b9d60c07bebc096d",
      "5ab66b9b88104dbe966e7ae35317516b",
      "0a13f09c18cc4f389f2c5de01166fdc8",
      "9a95a7aaea3941609a9d980910de15c7",
      "7e6a85c044af428da445325133b78900",
      "6108b26ebce042d4a943db3378ffe648",
      "06f3dc7eaa874f1a8b03d8d1ea52df68",
      "0e7a1d9539c8438f9f978229a2746586",
      "f11fcda40f72451aba1b17fca2fe30c1",
      "5dfb1074a0324d54ba38394f4fa94a3a",
      "030870dc120941488fb9a3ae5986cdf6",
      "bcf60256d84547ff814291bedf34bcab",
      "12e0a03445f14f8cb6d77ce293a134c2",
      "6372616063234570b667b45306bfd558",
      "b28300621e674fd98c789a38b4e72bc4",
      "275130747917413ba71271b175ee8d36",
      "24817b482d2c4d1695a4efebefcb662a",
      "5722a1309a0542e8bc124112ae89b27f",
      "0d429075a3ce4c31827baf89122a7aac",
      "261a942fa6c44b6880baef44201886ce",
      "fe55a6df729d4a8eb3da0800717e7ec5",
      "8a75d121db1448e68ba1d132a3cfd58f",
      "dc2f3080d38042b2ace7a783a60b9df6",
      "75728fdc60e14f859af7fd3bbaf5c88a",
      "ce404fa8533a4f18905132ab8bf5a6ed",
      "92604a9e92a34afe8c015c3d91fe4966",
      "0c47b8c8b9c84079b1a2a942b3b1e361",
      "f82fe29f669f41e086984926e89eff9e",
      "7da7b810900c44e9acffe3ca16779f83",
      "c8e0299e2bce49ef8723a435ca7a4da3",
      "105331e753b1412cbe7443580f312fb9",
      "39f29d474c16406699e580b477012953",
      "0e54618f327042309edc27beca2dcc2c",
      "8d2b190febdd4db3a7c1da5cafe8e48c",
      "e187fe8cc0b94582a5a0c3d4c4dd25a9",
      "b1761ab5e1c54ec2a9ee6369a9a629ab",
      "e4fc476a6d664c5c8138af6738368757",
      "9bf9450ac1b8447d88c4e4bb94c34693",
      "f0216977610e4599ba397b497d5d4cbd",
      "7b99bed0d6e0488cb0df517f1084abc9",
      "508ae2d4dfba4053bc0cfbd76900ae52",
      "d4e2581462df47aeb930659fb20f5f6e",
      "055d8ef67bf14941b5212d023bbe5a87",
      "3be1d0a9dbcc4d1aa874243f978420bd",
      "003e29460e7f491fbf249bb72216525d",
      "91394970e51c4d7b8fdeb793ac8aab59",
      "389605861d5749cd8a1889820516d9fb",
      "951f2c6b7a9041568f754bbd0cfdefab",
      "2108dc25e99b4719ab0236524a1a1e68",
      "2c210518b8884a58b6660e5682e56099",
      "961dd2bbb5534f87bbdb4663a3802b62",
      "7e54265a16794e00aba217f4b8264e74",
      "161a0d1c6ff74907a6e5ce24a5288b19",
      "be521123f3c741daa3400d220ebff711",
      "2bf89f7d8f1e45bf82e37d845cbc40fc",
      "d27900e1ea1d455ca1728c53d6c26f03",
      "13cd46a80cff4d31983bba7c62e6cfaa",
      "3c8ed75dead744aa812e59afd7832f55",
      "3e6bdafb904545ddb1188966e7c22d37",
      "15ad696f492e4141b3b8ae2539f89418"
     ]
    },
    "id": "YaWV4atDIVlH",
    "outputId": "c2ff1a3e-9b55-481b-9ba5-394cb56c77e6"
   },
   "outputs": [],
   "source": [
    "# Load dataset subsets\n",
    "train_dataset = load_dataset(\"imdb\", split=\"train[:100]\")\n",
    "test_dataset = load_dataset(\"imdb\", split=\"test[:100]\")"
   ]
  },
  {
   "cell_type": "code",
   "execution_count": null,
   "metadata": {
    "colab": {
     "base_uri": "https://localhost:8080/",
     "height": 232,
     "referenced_widgets": [
      "f0846e688ef64dd681a6102fa495cba5",
      "ca93066e32364f4d9eb7a1b1375d804b",
      "9489af05eac946afa09dc72b51841f9c",
      "41f9fb637d9e416f9b47d5176535c914",
      "4465d2c34f384dbba24105f758faa06c",
      "66462049215247f29ee67822603640b0",
      "439175fe0e8a4fcd8843495d55574b56",
      "3f17c562f3ff4f81a9b2d5d6de62da25",
      "b7d3c5eb59db4815bdce3d7ee7144cbe",
      "28b4aa22cb7b4d35a5352b92351271a4",
      "5f8d440c2e154756a0b13c6e13262c03",
      "6721e0b196104348be8a1871ea300c5e",
      "95791f3aa47d4aecb3857cebed320152",
      "2ac9ffac5dcc439fbf5d2cdb211c64a2",
      "ef2b3e0282e3424e9f89e480c80de02f",
      "b670b758be5342d8b3cc39b7f32cd14e",
      "b9230dae9a0a47c9a92d0b3262680e62",
      "86879e0fc3c04a18a56fc93e96ac7fc8",
      "7dda689aca67440284af37ad2d60a70d",
      "1a35ea56ad2b4edc89046753414ef42d",
      "93461b0679114dbea60459b3da8ac4d8",
      "c1a9abcaafdc4de1acc8791bad7ebd11",
      "7a62c3351ab14629a3de306db342031f",
      "09aebcba560941f0996c12cbd29cfc52",
      "a68277b19f7746e88f347efabfaa07c8",
      "779a9a574f1540c1b7c6cfb4e1419ada",
      "009b1be836aa49b9babd91ace227dd91",
      "33a5166d5d2947209d97200314c85cf2",
      "008415f4687a48a583a5d46b5717f3ed",
      "d95591ca3a5b4818b52b9813e328b0ef",
      "1a8572bcdef54ddab3d17ccfab5e7ef7",
      "f22bcbe4ec0742cfa48f9fbdbb1abaa4",
      "e0a98e63c69047b7ae70275c551d16f0",
      "0c47f21394a049ffa75d9462d728dc04",
      "50bb572d92f0489ca67d4f9dac0d6fea",
      "1b99de3422a14f01b98e9e8d17f819ab",
      "46b4a534c1b542bb834ab9905b8002c0",
      "ecc1acb352684f15afb3dc2c2cf823ef",
      "6a4d15d55e104c19b878bcf377c92bf6",
      "759b6eec139749bd8336bf0a009cda6d",
      "120eefa9f9934c21ad69d7ec5bc8035b",
      "90e16ebc846b4926bb39bdebbb45f950",
      "f2aeab1c204c4ddbaa96999136459aec",
      "0966de27ba5b491d8adf77dcbdcae687",
      "832f47dc329345de8a1b4deea0e61f5e",
      "3f502aa0bb8c4315b8aad33942ed9fc6",
      "7a325f54f811462e906c19f1be1ed201",
      "0e51e1bb0cc449569da193f118a678cc",
      "4022143f45f74b3bbdb3517ec63ae83a",
      "6d2d3c5384a64f38acabffaf3ca71196",
      "6d174debe0574bafb76687d4d5a1320a",
      "b3f52cc733014f09b0a03a3fc06700c3",
      "a614f1d9d5c24d62a9dba2ff70c931ba",
      "7089854709564919a3c22e7edb695214",
      "e64f78e90cce4d829801504d8f1cc740"
     ]
    },
    "id": "nXEVjs6_ErPO",
    "outputId": "a14e9223-f001-44c9-b1b6-343bc969178e"
   },
   "outputs": [],
   "source": [
    "# Load pretrained model and tokenizer\n",
    "model = AutoModelForSequenceClassification.from_pretrained(\"distilbert-base-uncased\", num_labels=2)\n",
    "tokenizer = AutoTokenizer.from_pretrained(\"distilbert-base-uncased\")"
   ]
  },
  {
   "cell_type": "code",
   "execution_count": null,
   "metadata": {
    "id": "XZ5iZRouEtXl"
   },
   "outputs": [],
   "source": [
    "# Tokenize and format\n",
    "def tokenize(example):\n",
    "    return tokenizer(example[\"text\"], truncation=True, padding=\"max_length\")"
   ]
  },
  {
   "cell_type": "code",
   "execution_count": null,
   "metadata": {
    "colab": {
     "base_uri": "https://localhost:8080/",
     "height": 81,
     "referenced_widgets": [
      "54f1241dbd924c178d93dda394cf4f8d",
      "ab1494b72f1746ecba6bf99a78c8a8b8",
      "cbed067cdd814cf0aa745fafe70c6b39",
      "3a533cdba1ac48768e32b19f0f3dcaf7",
      "f3056be7dd45400b8fcfa1cbfb8c84ae",
      "4de030ca202d461bb8843a04cafc7309",
      "9ff5d07dd29142cb8e52f6717b0e9962",
      "f1e0b28a734e420ea4543f8494518f66",
      "b0d0c98834ef41e28678b1367553954b",
      "f4579238199041d786a25b42cd63c167",
      "23e93f5337424ded8d64570cffe00817",
      "7bac36b1eedb4772857f5cf449f6f1a0",
      "32f855e5c7b544efaee818614f1e9fa2",
      "2147a44c00c24052902d99368115f4fc",
      "d96bbfa5c76e437f8b69403ebb3d6f8c",
      "dbc184d6f3054ee794a148268f99b2a4",
      "56c17d9699884f93a25926f622440115",
      "dcad22d789ee45c5a15d99d7940780e6",
      "c011d7a3c11847bba790a5875c03c189",
      "040d4de4d76c4febaaed733abdaabfdb",
      "ce8f4b08318640f6a451701fdd6a5d28",
      "67f28eccb93047df898a4a26f11dfe31"
     ]
    },
    "id": "VdHTG6-BKtDk",
    "outputId": "978059fd-5dbc-4d9f-e8c4-4092ea4f0fe5"
   },
   "outputs": [],
   "source": [
    "# Tokenize train and test\n",
    "train_encoded = train_dataset.map(tokenize, batched=True)\n",
    "test_encoded = test_dataset.map(tokenize, batched=True)"
   ]
  },
  {
   "cell_type": "code",
   "execution_count": null,
   "metadata": {
    "id": "aEqN-TDwEvq-"
   },
   "outputs": [],
   "source": [
    "# Format for PyTorch\n",
    "train_encoded.set_format(\"torch\", columns=[\"input_ids\", \"attention_mask\", \"label\"])\n",
    "test_encoded.set_format(\"torch\", columns=[\"input_ids\", \"attention_mask\", \"label\"])"
   ]
  },
  {
   "cell_type": "code",
   "execution_count": null,
   "metadata": {
    "id": "gJTrIDB8JSxz"
   },
   "outputs": [],
   "source": [
    "# Define Trainer with metrics\n",
    "args = TrainingArguments(output_dir=\"eval-check\", per_device_eval_batch_size=32,report_to=\"none\")"
   ]
  },
  {
   "cell_type": "code",
   "execution_count": null,
   "metadata": {
    "id": "AKe5MZN4EyAe"
   },
   "outputs": [],
   "source": [
    "trainer = Trainer(model=model, args=args, compute_metrics=compute_metrics)"
   ]
  },
  {
   "cell_type": "code",
   "execution_count": null,
   "metadata": {
    "colab": {
     "base_uri": "https://localhost:8080/",
     "height": 37
    },
    "id": "-ShJpPbfHUgP",
    "outputId": "0a2c94f6-7138-4e5a-ff03-bd0805fe87a2"
   },
   "outputs": [],
   "source": [
    "metrics = trainer.evaluate(eval_dataset=test_encoded)"
   ]
  },
  {
   "cell_type": "code",
   "execution_count": null,
   "metadata": {
    "colab": {
     "base_uri": "https://localhost:8080/"
    },
    "id": "mT477BZ3K95w",
    "outputId": "011b72f0-78d6-448d-dc9c-8dc09f981b0d"
   },
   "outputs": [],
   "source": [
    "print(metrics)"
   ]
  },
  {
   "cell_type": "markdown",
   "metadata": {
    "id": "i9IcGK-NL6Yo"
   },
   "source": [
    "## bleu, rouge, perplexity"
   ]
  },
  {
   "cell_type": "code",
   "execution_count": null,
   "metadata": {
    "colab": {
     "base_uri": "https://localhost:8080/",
     "height": 150,
     "referenced_widgets": [
      "0095901283634f4f9f10ec68415e939b",
      "6812f2ea392242409f674992aff666b2",
      "15c4adc503f64678a32b9ba98bfc9cff",
      "9e5725b18d104d1e96f4fa2af2c68308",
      "04a5eb713880432dbc7e22019e67774f",
      "5476a75590814b6ab39f43ec8724802d",
      "010f51362b964d15bb634ca6abbd5798",
      "c9f960356aeb45eaa28f849a9ae09d47",
      "8c9a9b05ab6e4e57b6b7c5374da717d6",
      "dbbebba9f370474b80d628cfb3ab122b",
      "0c21f57a08c147aa92a7f11e62545643",
      "c02a3bbb9b5f49ba8e528a4dbd6f6810",
      "1ff13dafaefd4462af4bc05d2438937d",
      "bd44c4715b4a4ee99a22155303be19c3",
      "5a36510a5e1f4a76a3054c21aebd6def",
      "a81c487fa9404b18bcbcf47fd2719111",
      "75da2f3d14c74e9ca8eaf548b2331d2a",
      "0797beb4caca4d6483d4645c45126c2e",
      "615ddaa7f8e24fbea02fa9b6116e53e2",
      "fa87547202f04e99a6955bee316266ee",
      "8a8ad6af38364ff683fa7c90c70d40ea",
      "ded39d002fec47a190ec57aa85fa1192",
      "86bc286093a24ef3b254de9cf9fd6ab0",
      "fbcaaf4eef724dccb4303be423c2cc6d",
      "acf4f0c7c6e34c2a97e1caf553df76c9",
      "811730d784ab4a9ca8846f9c0de2ff2e",
      "f182c17f73a04490acb356355da08d56",
      "a155d1c9e4db4f88abf96f1d48569536",
      "ac7ca5a55e0d4618855a4a020e363b65",
      "bf47bb41c31c4b6ba6a8acb316af1e27",
      "c6ec6234c4ac409597ac554ef4a3c003",
      "d095e03b9cfd42f78a7f3fb8f1d6194b",
      "8c7c52b5f4e14bdbb54794bd3d10b8a5"
     ]
    },
    "id": "QILDjsqYRpNR",
    "outputId": "027d1a8a-8391-42f8-9142-f56de9c33d06"
   },
   "outputs": [],
   "source": [
    "from evaluate import load\n",
    "\n",
    "bleu = load(\"bleu\")\n",
    "\n",
    "# Model output (machine translation)\n",
    "predictions = [\"The cat is sitting on the mat\"]\n",
    "\n",
    "# Human reference translation\n",
    "references = [[\"The cat sat on the mat\"]]\n",
    "\n",
    "result = bleu.compute(predictions=predictions, references=references)\n",
    "print(\"BLEU Score:\", result)"
   ]
  },
  {
   "cell_type": "markdown",
   "metadata": {
    "id": "QCbenC5DSUPM"
   },
   "source": [
    "| Metric            | Value | Meaning                        |\n",
    "| ----------------- | ----- | ------------------------------ |\n",
    "| `precisions[0]`   | 0.714 | 5/7 unigrams matched           |\n",
    "| `precisions[1]`   | 0.5   | 3/6 bigrams matched            |\n",
    "| `precisions[2]`   | 0.2   | 1/5 trigrams matched           |\n",
    "| `precisions[3]`   | 0.0   | No 4-gram match ⇒ BLEU = 0     |\n",
    "| `brevity_penalty` | 1.0   | No penalty (longer prediction) |\n",
    "| `BLEU`            | 0.0   | Killed by zero 4-gram match    |\n"
   ]
  },
  {
   "cell_type": "markdown",
   "metadata": {
    "id": "wU0_Ojt6St8L"
   },
   "source": [
    "![image.png](data:image/png;base64,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)"
   ]
  },
  {
   "cell_type": "code",
   "execution_count": null,
   "metadata": {
    "colab": {
     "base_uri": "https://localhost:8080/"
    },
    "id": "TkpS4wQ0SkFV",
    "outputId": "2606a1bb-1f60-4a0f-98f5-0a92a373bdca"
   },
   "outputs": [],
   "source": [
    "from evaluate import load\n",
    "\n",
    "bleu = load(\"bleu\")\n",
    "\n",
    "# Model-generated headline (prediction)\n",
    "predictions = [\"Government unveils new climate action plan\"]\n",
    "\n",
    "# Real human-written headline (reference)\n",
    "references = [[\"Government announces new plan to fight climate change\"]]\n",
    "\n",
    "result = bleu.compute(predictions=predictions, references=references)\n",
    "print(\"BLEU Score (Text Gen):\", result)\n"
   ]
  },
  {
   "cell_type": "code",
   "execution_count": null,
   "metadata": {
    "colab": {
     "base_uri": "https://localhost:8080/",
     "height": 86,
     "referenced_widgets": [
      "731fc95b48e442eda08d9364429ce113",
      "0b0b36f6903d40e8b794a5436c46d0a5",
      "b083de8bfd2b4561bca6090e0e087dac",
      "6d62a1f00dcf44558eeba872a5f95ada",
      "0186a828da3948c0bf0ca8586f0873c3",
      "a1a0b5b7852f465c9950b81287cae5a6",
      "baeea8967001477480c9e2fa6fc39068",
      "2e96fb9bbde34ae2904563863bef0ba0",
      "a7d7519bad054383af5505d01d61e14d",
      "70bfdc3e59df445ab1f2c79df96a5276",
      "3547a7f4bba64e1aa53ca7231ffa0515"
     ]
    },
    "id": "waHVN1-fRtZA",
    "outputId": "3e52968b-37f5-424d-9650-4676b2cb9833"
   },
   "outputs": [],
   "source": [
    "from evaluate import load\n",
    "\n",
    "rouge = load(\"rouge\")\n",
    "\n",
    "# Model-generated summary\n",
    "predicted_summary = [\"Hugging Face develops powerful AI tools.\"]\n",
    "\n",
    "# Ground truth (human-written) summary\n",
    "reference_summary = [\"Hugging Face is a company that builds AI models.\"]\n",
    "\n",
    "result = rouge.compute(predictions=predicted_summary, references=reference_summary)\n",
    "print(\"ROUGE Scores:\", result)\n"
   ]
  },
  {
   "cell_type": "markdown",
   "metadata": {
    "id": "EskxJtvFTRUK"
   },
   "source": [
    "| Metric       | Meaning                    | Score | Why                         |\n",
    "| ------------ | -------------------------- | ----- | --------------------------- |\n",
    "| `ROUGE-1`    | Unigram recall             | 0.4   | 3/9 words matched           |\n",
    "| `ROUGE-2`    | Bigram recall              | 0.15  | Only \"Hugging Face\" matched |\n",
    "| `ROUGE-L`    | Longest Common Subsequence | 0.4   | \"Hugging Face AI\" is LCS    |\n",
    "| `ROUGE-Lsum` | Sentence-level LCS         | 0.4   | Same as above (1 sentence)  |\n"
   ]
  },
  {
   "cell_type": "markdown",
   "metadata": {
    "id": "ACnnpjmaTSYa"
   },
   "source": [
    "| Feature                 | **BLEU (Bilingual Evaluation Understudy)**          | **ROUGE (Recall-Oriented Understudy for Gisting Evaluation)** |\n",
    "| ----------------------- | --------------------------------------------------- | ------------------------------------------------------------- |\n",
    "| **Primary Focus**       | Precision (How much predicted is correct)           | Recall (How much reference is captured)                       |\n",
    "| **N-gram type**         | 1-gram to 4-gram precision                          | 1-gram to 4-gram recall + LCS (ROUGE-L)                       |\n",
    "| **Formula Style**       | \\$BLEU = BP \\times \\exp(\\text{avg log precision})\\$ | \\$ROUGE = \\frac{\\text{overlap}}{\\text{reference length}}\\$    |\n",
    "| **Brevity Penalty**     | Yes — penalizes too-short output                    | No — doesn’t punish short outputs                             |\n",
    "| **Best For**            | Machine Translation, factual generation             | Summarization, content preservation                           |\n",
    "| **Fails When**          | Synonyms used, multiple valid outputs               | Extra irrelevant content is present                           |\n",
    "| **Overlap type**        | Exact n-gram match (no flexibility)                 | Longest sequence, flexible phrasing                           |\n",
    "| **Multiple References** | Supported                                           | Supported                                                     |\n",
    "| **Interpretation**      | Higher BLEU = more precise and fluent output        | Higher ROUGE = more informative and complete output           |\n",
    "| **Used In**             | Machine Translation, chatbot QA, factual generation | Summarization, headline generation                            |\n",
    "| **Metric Values**       | 0 to 1 (or 0 to 100%)                               | 0 to 1 (or 0 to 100%)                                         |\n"
   ]
  },
  {
   "cell_type": "code",
   "execution_count": null,
   "metadata": {
    "colab": {
     "base_uri": "https://localhost:8080/",
     "height": 98,
     "referenced_widgets": [
      "b6e8ef3bbc304f51b3c6524cf1a1a003",
      "6eb8ebf2f8884145ae7a2fa1b14eafb5",
      "f84bb62e494d4f5da698f8b53fa5493a",
      "9a80c9cedf7f47989c2b8d3386504538",
      "93e79bff6eee41be9adc06d897c73c1d",
      "8d561aa009184ec39aec4f789e0a6cdd",
      "b03f8c4fe0e64f2688b4b348e9311988",
      "973db497b8a14c4c8a742daeed9bcccd",
      "6a40efc45e584d3ba2f273724bb7b1b8",
      "e13b289c418643f784db43a0c622570b",
      "2fd2855a094045a39b8122e50c2696b1",
      "6a41fa02331e40298cdda6fdac00ccf4",
      "af60cadf0f524f1b979a27ad33dba602",
      "d7d93e9b3da04a44a8d5d8b74c13618b",
      "55d069383ec249e080f21f3b8cb2e75e",
      "dd4aedf2e604414ba21f9657051f33b4",
      "ae22b665bb324db58a1548bb822aee6f",
      "bdbde5ff279f4445a1328949fe1eb651",
      "f71d350a04b440f484f0a0768f226751",
      "f5cb449fee1c45919ed725540392bf20",
      "84cfb059945245bb94208b9fc52358f5",
      "37eba8d0fbcc4150a6549dfec9958ecb"
     ]
    },
    "id": "mAnowZD3RwHR",
    "outputId": "b620f24c-1190-4d98-e437-29b0cd5cfbe1"
   },
   "outputs": [],
   "source": [
    "from evaluate import load\n",
    "\n",
    "perplexity = load(\"perplexity\")\n",
    "\n",
    "# Sentence generated by your language model\n",
    "predictions = [\"The government announced a new climate policy today.\"]\n",
    "\n",
    "# Evaluate how fluent/confident GPT2 is on this sentence\n",
    "result = perplexity.compute(predictions=predictions, model_id=\"gpt2\")\n",
    "print(\"Perplexity:\", result)\n"
   ]
  },
  {
   "cell_type": "markdown",
   "metadata": {
    "id": "geGKEOaJT3di"
   },
   "source": [
    "| Aspect         | Value                                                                                 |\n",
    "| -------------- | ------------------------------------------------------------------------------------- |\n",
    "| Sentence       | `\"The government announced a new climate policy today.\"`                              |\n",
    "| Model          | `gpt2` (English LM)                                                                   |\n",
    "| Perplexity     | **42.04**                                                                             |\n",
    "| Interpretation | GPT-2 is **moderately unsure** about this sentence — it's not fluent but not terrible |\n",
    "| Ideal Value    | Lower = Better (e.g., <30 = fluent, >100 = confused model)                            |\n"
   ]
  },
  {
   "cell_type": "markdown",
   "metadata": {
    "id": "CuUFUA_JT4YF"
   },
   "source": [
    "What Does 42.04 Mean?\n",
    "GPT-2 thinks this sentence is somewhat unnatural or less expected.\n",
    "\n",
    "A perplexity score of 42 is not terrible, but not fluent-level either.\n",
    "\n",
    "Ideally, for fluent, natural English:\n",
    "\n",
    "Good = 10–30\n",
    "\n",
    "Acceptable = 30–50\n",
    "\n",
    "Bad = > 100 (very low confidence)"
   ]
  },
  {
   "cell_type": "code",
   "execution_count": null,
   "metadata": {
    "colab": {
     "base_uri": "https://localhost:8080/",
     "height": 496
    },
    "id": "oxsCYFhjOS1C",
    "outputId": "ea3c7ad8-eb58-461b-e97a-efdc4151aba9"
   },
   "outputs": [],
   "source": [
    "import evaluate\n",
    "from evaluate.visualization import radar_plot\n",
    "\n",
    "data = [\n",
    "    {\"accuracy\": 0.9, \"precision\": 0.8, \"f1\": 0.85},\n",
    "    {\"accuracy\": 0.85, \"precision\": 0.75, \"f1\": 0.8}\n",
    "]\n",
    "model_names = [\"Model A\", \"Model B\"]\n",
    "plot = radar_plot(data=data, model_names=model_names)\n",
    "plot.show()"
   ]
  },
  {
   "cell_type": "markdown",
   "metadata": {
    "id": "V5EXX0RxObqH"
   },
   "source": [
    "## Huggingface_hub"
   ]
  },
  {
   "cell_type": "code",
   "execution_count": null,
   "metadata": {
    "colab": {
     "base_uri": "https://localhost:8080/"
    },
    "id": "giV1i4IRRru2",
    "outputId": "4797938c-a174-4f78-99a3-1d7c784db590"
   },
   "outputs": [],
   "source": [
    "!pip install --upgrade \"huggingface_hub>=0.33.1\""
   ]
  },
  {
   "cell_type": "code",
   "execution_count": null,
   "metadata": {
    "id": "tm4ZGdWcUfdb"
   },
   "outputs": [],
   "source": [
    "from huggingface_hub import HfApi\n",
    "api = HfApi()"
   ]
  },
  {
   "cell_type": "code",
   "execution_count": null,
   "metadata": {
    "id": "7Pf6Wov7UhLA"
   },
   "outputs": [],
   "source": [
    "# Get model info without downloading it\n",
    "model_info = api.model_info(repo_id=\"bert-base-uncased\")"
   ]
  },
  {
   "cell_type": "code",
   "execution_count": null,
   "metadata": {
    "colab": {
     "base_uri": "https://localhost:8080/"
    },
    "id": "Pfynwq-1OdHA",
    "outputId": "15576259-47de-4706-fe54-c60d4c9c81f7"
   },
   "outputs": [],
   "source": [
    "print(\"Model Card Metadata:\", model_info.card_data)\n",
    "print(\"Tags:\", model_info.tags)\n",
    "print(\"Commit SHA:\", model_info.sha)\n",
    "print(\"Last Modified:\", model_info.last_modified)\n",
    "print(\"Files:\", [f.rfilename for f in model_info.siblings])\n",
    "print(\"Model ID:\", model_info.card_data.get('modelId', 'Not available'))\n",
    "print(\"Likes:\", model_info.likes)\n",
    "print(\"Author/Namespace:\", model_info.author)\n",
    "print(\"Is Private:\", model_info.private)\n",
    "print(\"Downloads:\", model_info.downloads)"
   ]
  },
  {
   "cell_type": "code",
   "execution_count": null,
   "metadata": {
    "id": "ZfkO4On_UlEF"
   },
   "outputs": [],
   "source": [
    "models = api.list_models(search=\"emotion\", sort=\"downloads\", limit=5)"
   ]
  },
  {
   "cell_type": "code",
   "execution_count": null,
   "metadata": {
    "colab": {
     "base_uri": "https://localhost:8080/"
    },
    "id": "PYMl-TT_OgF9",
    "outputId": "c917f10b-761d-42d0-eb1d-c17c466ca571"
   },
   "outputs": [],
   "source": [
    "for model in models:\n",
    "    print(model.modelId, \"-\", model.downloads)"
   ]
  },
  {
   "cell_type": "code",
   "execution_count": null,
   "metadata": {
    "id": "AeUE-THvVLzp"
   },
   "outputs": [],
   "source": [
    "models = api.list_models(filter=\"text-generation\", sort=\"downloads\", limit=10)"
   ]
  },
  {
   "cell_type": "code",
   "execution_count": null,
   "metadata": {
    "colab": {
     "base_uri": "https://localhost:8080/"
    },
    "id": "6OzN5t--VJY-",
    "outputId": "7aa13dad-b627-4787-ea5a-b7ca0187897a"
   },
   "outputs": [],
   "source": [
    "for m in models:\n",
    "    print(m.modelId, \"-\", m.downloads)"
   ]
  },
  {
   "cell_type": "code",
   "execution_count": null,
   "metadata": {
    "id": "7aLf0A0oUpJa"
   },
   "outputs": [],
   "source": [
    "from huggingface_hub import list_repo_files"
   ]
  },
  {
   "cell_type": "code",
   "execution_count": null,
   "metadata": {
    "colab": {
     "base_uri": "https://localhost:8080/"
    },
    "id": "rtxLvZVMOhQQ",
    "outputId": "789e2ba6-96fd-4cb8-d2fa-cdf240d01d07"
   },
   "outputs": [],
   "source": [
    "files = list_repo_files(\"google/flan-t5-base\")\n",
    "print(files)"
   ]
  },
  {
   "cell_type": "code",
   "execution_count": null,
   "metadata": {
    "id": "EfKOL9WlViqA"
   },
   "outputs": [],
   "source": [
    "dataset = api.dataset_info(\"imdb\")"
   ]
  },
  {
   "cell_type": "code",
   "execution_count": null,
   "metadata": {
    "colab": {
     "base_uri": "https://localhost:8080/"
    },
    "id": "WcqfYe-oOtK-",
    "outputId": "0c31731d-6342-45f8-ac92-70498a46d594"
   },
   "outputs": [],
   "source": [
    "print(\"Description:\", dataset.cardData.get(\"summary\", \"No summary\"))\n",
    "print(\"Files:\", [f.rfilename for f in dataset.siblings])"
   ]
  },
  {
   "cell_type": "code",
   "execution_count": null,
   "metadata": {
    "colab": {
     "base_uri": "https://localhost:8080/",
     "height": 66,
     "referenced_widgets": [
      "b176a554a5ca40cab42cf6e84610a50c",
      "90e2bebd6e5a430f80f9e3347bd55431",
      "81ce111ba68f442d83add5692fe67cf5",
      "4b03b165613b46ce9333eb928405399a",
      "6e1d109d0c564d05b0e3348ba1bfb34e",
      "c3cec8c6a09d4713a88d690dbf8ead0f",
      "a2c7015dd9644cd0b3b7a558987b61af",
      "c01a94c38fb043d69f3b3513c867f282",
      "ae492336d1aa4fd6be0df520c78acca0",
      "cfb8d40a82c24fcb9ac7b5b5c9e2c444",
      "b82ed9c11b4240c0a6ce671590756478"
     ]
    },
    "id": "85qnjXVAc0KV",
    "outputId": "eb77a5dd-3ed2-4e37-fba9-1f79b0fae397"
   },
   "outputs": [],
   "source": [
    "from huggingface_hub import hf_hub_download\n",
    "import json\n",
    "# Download config.json\n",
    "config_path = hf_hub_download(repo_id=\"bert-base-uncased\", filename=\"config.json\")\n",
    "with open(config_path) as f:\n",
    "    config = json.load(f)\n",
    "print(\"Hidden size:\", config[\"hidden_size\"])"
   ]
  },
  {
   "cell_type": "code",
   "execution_count": null,
   "metadata": {
    "colab": {
     "base_uri": "https://localhost:8080/"
    },
    "id": "oVrZlg-BbVTu",
    "outputId": "e714e125-6ab9-4855-e862-6309c6f5a605"
   },
   "outputs": [],
   "source": [
    "from huggingface_hub import InferenceClient\n",
    "\n",
    "# Use the correct hosted model ID with repository owner prefix\n",
    "client = InferenceClient(model=\"distilbert/distilbert-base-uncased-finetuned-sst-2-english\")\n",
    "\n",
    "response = client.text_classification(\"I love Hugging Face! \")\n",
    "print(response)"
   ]
  },
  {
   "cell_type": "code",
   "execution_count": null,
   "metadata": {
    "colab": {
     "base_uri": "https://localhost:8080/"
    },
    "id": "vGM3B8K0cHjY",
    "outputId": "24a31753-4239-4fc5-fffc-e283122046be"
   },
   "outputs": [],
   "source": [
    "info = api.model_info(\"distilbert/distilbert-base-uncased-finetuned-sst-2-english\")\n",
    "print(\"Pipeline tag:\", info.pipeline_tag)"
   ]
  },
  {
   "cell_type": "code",
   "execution_count": null,
   "metadata": {
    "colab": {
     "base_uri": "https://localhost:8080/"
    },
    "id": "Y3BaR1gjeaTe",
    "outputId": "f166d550-547d-4046-e297-41462f75de24"
   },
   "outputs": [],
   "source": [
    "from huggingface_hub import HfApi\n",
    "\n",
    "api = HfApi()\n",
    "# Search text generation models with hosted inference support\n",
    "models = api.list_models(filter=\"text-generation\", limit=20)\n",
    "print(\"Sample models with inference support:\")\n",
    "for m in models:\n",
    "    if m.pipeline_tag == \"text-generation\":\n",
    "        print(\"-\", m.modelId)"
   ]
  },
  {
   "cell_type": "code",
   "execution_count": null,
   "metadata": {
    "colab": {
     "base_uri": "https://localhost:8080/"
    },
    "id": "vhIARQ8UUPBw",
    "outputId": "06b5a51c-4f6a-498d-b790-506767bd6b08"
   },
   "outputs": [],
   "source": [
    "from huggingface_hub import HfApi\n",
    "\n",
    "api = HfApi()\n",
    "\n",
    "# Pull only \"warm\" text-generation models served by HF-Inference, max 25 results\n",
    "gen = api.list_models(\n",
    "        inference_provider=\"hf-inference\",\n",
    "        pipeline_tag=\"text-generation\",\n",
    "        limit=25)\n",
    "\n",
    "models = list(gen)\n",
    "print(f\"Found {len(models)} models\")"
   ]
  },
  {
   "cell_type": "code",
   "execution_count": null,
   "metadata": {
    "colab": {
     "base_uri": "https://localhost:8080/"
    },
    "id": "hNZTktiWUSaQ",
    "outputId": "8e7db820-66e8-440f-ae0a-8b13ab4e28b9"
   },
   "outputs": [],
   "source": [
    "models"
   ]
  },
  {
   "cell_type": "code",
   "execution_count": null,
   "metadata": {
    "colab": {
     "base_uri": "https://localhost:8080/"
    },
    "id": "RXRu6X2USeNp",
    "outputId": "ac3c8223-157b-462f-b319-b8990bd36fb5"
   },
   "outputs": [],
   "source": [
    "for model_name in models:\n",
    "      print(model_name.modelId)\n"
   ]
  },
  {
   "cell_type": "code",
   "execution_count": null,
   "metadata": {
    "colab": {
     "base_uri": "https://localhost:8080/"
    },
    "id": "qzAQJBtNSnJD",
    "outputId": "b4ea7bf7-b6da-416f-fac5-235153db353d"
   },
   "outputs": [],
   "source": [
    "from huggingface_hub import InferenceClient\n",
    "\n",
    "model_id = models[0].modelId\n",
    "client = InferenceClient(model=\"meta-llama/Llama-3.1-8B-Instruct\", provider=\"hf-inference\")\n",
    "\n",
    "out = client.text_generation(\n",
    "        prompt=\"I saw a puppy, a cat and a raccoon during my bike ride in the park.\",\n",
    "        max_new_tokens=80,\n",
    "        temperature=0.7)\n",
    "print(out)\n"
   ]
  },
  {
   "cell_type": "markdown",
   "metadata": {
    "id": "MJEev8LOOucU"
   },
   "source": [
    "## Huggingface with Langchain"
   ]
  },
  {
   "cell_type": "markdown",
   "metadata": {
    "id": "Ya9j0zjOKFBJ"
   },
   "source": [
    "https://python.langchain.com/docs/integrations/providers/huggingface/"
   ]
  },
  {
   "cell_type": "code",
   "execution_count": null,
   "metadata": {
    "colab": {
     "base_uri": "https://localhost:8080/"
    },
    "id": "eOMOdTRUOyAQ",
    "outputId": "69c6d837-6f52-47dd-f079-7a3464f80bf3"
   },
   "outputs": [],
   "source": [
    "!pip install accelerate\n",
    "!pip install  bitsandbytes\n",
    "# !pip install huggingface_hub"
   ]
  },
  {
   "cell_type": "code",
   "execution_count": null,
   "metadata": {
    "colab": {
     "base_uri": "https://localhost:8080/"
    },
    "id": "NnpNOEFEh1UD",
    "outputId": "25d56568-4236-407d-a999-39236fe7784a"
   },
   "outputs": [],
   "source": [
    "!pip install langchain-huggingface\n",
    "!pip install langchain_community"
   ]
  },
  {
   "cell_type": "code",
   "execution_count": null,
   "metadata": {
    "id": "kAa3yrbrJcl_"
   },
   "outputs": [],
   "source": [
    "from langchain_huggingface import ChatHuggingFace"
   ]
  },
  {
   "cell_type": "code",
   "execution_count": null,
   "metadata": {
    "id": "KDiUXPVPJfSZ"
   },
   "outputs": [],
   "source": [
    "from langchain_huggingface import HuggingFaceEndpoint"
   ]
  },
  {
   "cell_type": "code",
   "execution_count": null,
   "metadata": {
    "id": "3mD-y9OsKnEi"
   },
   "outputs": [],
   "source": [
    "llm = HuggingFaceEndpoint(\n",
    "    repo_id=\"deepseek-ai/DeepSeek-R1\",\n",
    "    task=\"text-generation\",\n",
    "    max_new_tokens=512,\n",
    "    do_sample=False,\n",
    "    repetition_penalty=1.03,\n",
    ")"
   ]
  },
  {
   "cell_type": "code",
   "execution_count": null,
   "metadata": {
    "id": "qSwl_ojVKja1"
   },
   "outputs": [],
   "source": [
    "chat_model = ChatHuggingFace(llm=llm)"
   ]
  },
  {
   "cell_type": "code",
   "execution_count": null,
   "metadata": {
    "colab": {
     "base_uri": "https://localhost:8080/"
    },
    "id": "dIwK2jIQK_Pe",
    "outputId": "937dada4-79dd-45a1-9111-dded06ee3f6d"
   },
   "outputs": [],
   "source": [
    "chat_model.invoke(\"hello how are you?\")"
   ]
  },
  {
   "cell_type": "code",
   "execution_count": null,
   "metadata": {
    "id": "_sIifS3RLJnp"
   },
   "outputs": [],
   "source": [
    "from langchain.prompts import PromptTemplate\n",
    "from langchain_core.output_parsers import StrOutputParser\n",
    "from langchain_core.runnables import RunnablePassthrough\n",
    "\n",
    "template=\"\"\"Question: {question}\n",
    "give me a answer in detail manner and in step by step manner\"\"\"\n",
    "\n",
    "prompt=PromptTemplate(template=template,input_variables=[\"question\"])"
   ]
  },
  {
   "cell_type": "code",
   "execution_count": null,
   "metadata": {
    "id": "ItYPCpeoPSnI"
   },
   "outputs": [],
   "source": [
    "llm_chain = (\n",
    "        {\"question\": RunnablePassthrough()}\n",
    "        | prompt\n",
    "        | chat_model\n",
    "        | StrOutputParser()\n",
    "    )"
   ]
  },
  {
   "cell_type": "code",
   "execution_count": null,
   "metadata": {
    "id": "4QxlSKbZLSrz"
   },
   "outputs": [],
   "source": [
    "question=\"who is a first president of INDIA?\""
   ]
  },
  {
   "cell_type": "code",
   "execution_count": null,
   "metadata": {
    "colab": {
     "base_uri": "https://localhost:8080/",
     "height": 157
    },
    "id": "N2mm2zsSPiRu",
    "outputId": "85bb26be-c1d5-4f46-aeb9-ccfda108671a"
   },
   "outputs": [],
   "source": [
    "llm_chain.invoke({\"question\":question})"
   ]
  },
  {
   "cell_type": "code",
   "execution_count": null,
   "metadata": {
    "id": "EQa9NDemJhp5"
   },
   "outputs": [],
   "source": [
    "from langchain_huggingface import HuggingFacePipeline\n",
    "from langchain_huggingface import ChatHuggingFace"
   ]
  },
  {
   "cell_type": "code",
   "execution_count": null,
   "metadata": {
    "colab": {
     "base_uri": "https://localhost:8080/",
     "height": 868,
     "referenced_widgets": [
      "ccbefec1666745efac3077570ac0ac01",
      "43226423ae564b3393ae9dcff8cdc841",
      "4788ae27684341f3817470ce068507ca",
      "a4b4e4ad6cc543219de549a0fda43f19",
      "d1fc043c386846c1946f2d41cee58480",
      "b99b75c0f1e74adfbd4c6e44c8d58ce5",
      "85bead70931c419a86174ad7fe63fba7",
      "cc5e36f2e2cd495d939ae71ebdc0171f",
      "46925b01f2eb41438164d674293e2c30",
      "f8f646d71d144141872a628549bf568d",
      "c0e93dc7aaf840cfb98e4018ddb97b3a",
      "11eeaca2903643549d6a8a9e4cbd0571",
      "731f7ecb7a484fdc8ed836fe8dd822d0",
      "866e7931b8b8433280bf071b64f0e393",
      "06be9064214c4e5ea1cffa6b188c491f",
      "d7876f7d92a44d9ebdaf41d6c5118e31",
      "f08a6427342448bd8c0f2a21155af563",
      "d0057dca8b724c19983870d6737084d6",
      "f17993b156e74f5bb9ba8488e1a31720",
      "2677912912294c63a5a0246fbbef797a",
      "2ee2d1b9ff3f4855b00ba486599397bd",
      "a448fed635904cd8811315665ac6789a",
      "91b11aa0e2554b06b4f58e404f3cead6",
      "38dc31ca93a14893a1290d2fe5789367",
      "8dd881d7117449a9bff0e34626094be8",
      "e1115532b2f74768abfc6c05455ce319",
      "149dfc9235124b7fa52530c5a48a0bc0",
      "5f7c64c029624a29b18414c839619c4a",
      "fb232388309e4a7bbda5cab2bb80b5df",
      "03348712f0834c8ab9da5b5227599339",
      "a9e31c2255fd42f0839cfc14b2565bed",
      "be990c34f82a4af7bf19c524141aef9c",
      "0161f463518841f9aa766f6b1489080f",
      "33a6102e6e2540c4a58db77a83aca2a8",
      "3112eee4c66a4d3baaa0f48a25092ce6",
      "717e06ec0dfe4137bd72e6799503d4ff",
      "ded1477477a74f09a27edf9b3594e5ac",
      "61b78a5918e04b6580863ff041ed4a67",
      "469c51f200164329b5db896e01998737",
      "8360bbd3093446ca97e4f1840ce25c4a",
      "517e061a1ce742848d85ea7b3c9d142d",
      "c83d5590f33347d9a5b36e329262bfab",
      "0d42eafbd5a147398916779c87f08774",
      "53a8cae0493e488eb62ca2f8bcdd06ad",
      "8ba1464c222445618f55269007ccebda",
      "c33e333f5661404d98a8e49ff1411a88",
      "588e557c97654e91b872884be639e37e",
      "fdd1d6d4708845919f13f9653990cf86",
      "a6192c82c2a84a24a7a404ed7aa60771",
      "e2bcaf149bd941a0a907c22510f4edad",
      "39406c22738e41d48c43aa3538c2d411",
      "42584cc40288477387c5f2211ae991fc",
      "34928da11dc94f138f963258dfdc49da",
      "f7a5511b791c44f5ab03777a9e2b725c",
      "42a6fd5a1491496b9ef08995694befe6",
      "382aa826cf7c48a09817f5d85e214c5a",
      "440824c0309f4773a5a25e72c08631c2",
      "9486a7e354d048f7b2619f3ad62c0099",
      "091ecad9a4ce427f9bfe2dc6b12ef340",
      "5f056ee99c264964be4ff9ea592ce63e",
      "1099452347ca4db893349d0e4067049a",
      "046e1223940942979ba44d259b2bbd5b",
      "eefc06a67054415294e80b32298f679c",
      "5b04f58014ef4c0fb2a4e7f6913589ff",
      "6f2b01f47c9d4b8e9e729a9baa4cfa64",
      "8321feaf7aab492b9615aa3b09b1b998",
      "55ae472cb7084e53aa17061f4717998b",
      "e12787c3972d425f88d214b4842116ed",
      "28dfb1e83fd84b569ea03fb1166a2bf1",
      "6cb2eaaf889d471380bd7223c93b3cd2",
      "a9bd027748904107be75139bbb271f40",
      "33729997414a4c4693ed53459b6474ab",
      "05a3fe7592fb4c16ada63d09696610cf",
      "2b00fc60ec6a4b8b9de70bf86aa5a8c5",
      "0f80803ad99f42f6aa780bb11195a43c",
      "d13ebbc6fce746a49aad4a1c48212616",
      "8c10571e3d964b02860fcbf847042de2",
      "6c07349410414188832b97fdf06d26f1",
      "df088ac7e435419b91e8139c179b774f",
      "a0fd91849e89462495dfdf8f0df56441",
      "8445f3d00f56427d892064ed1af43fc9",
      "e35af3c765d74636a8f0277ae9c78692",
      "ea931a6edc8441be89da230ab3feafb8",
      "0c033ded81994f5f9ad0552e87ce3871",
      "3e674af446a744e583303fc568419ded",
      "594c697feb3f4bd5a2ec8eb59b0e993d",
      "dbab0894af074d1caf3512a0eb3ea584",
      "dc4671b08f3844f9a4303347f390eb4a",
      "e47fb54d9e5647c999875e94085054a0",
      "0e06d53e780947beb069de672adda319",
      "96367ca8e4ac49e5bf6dabbd70d80dd9",
      "b49d58a7b05e4afa948dac726b9555e0",
      "a3190e3c37c041b681aab755f02fe2e2",
      "9d4e8c9c2f044325a7848f705a8a770e",
      "986905693080415aaeb952a6f6f3a822",
      "86ccb0fda60f4611acd2266c66d8fece",
      "a4d3d41c1b8846ba8e3697326b7025ff",
      "07f7ca3819494588be30af999894bfc4",
      "aacf1a96998545f6b6a45e6f31041a94",
      "156ef9e61a914587a45ff66dc083c221",
      "64d3c2fecf2c4e8191de438a8756a160",
      "35bd743a0c1a474594b5e1d74f5b48cc",
      "a371309a54b44f13acf1dfe1a39a9e55",
      "52fa92ed614641fe84a62038feb72ee8",
      "c6eafe9ee75d471e98b35141c9786da0",
      "81a82fd35c5d4ab38c2a98f94c0967e7",
      "de84079a386b4070aea585a70ea644ac",
      "157fe2d066ff4a46b0cb54c6d4f3b327",
      "ed67c1e8ac4b4c3fae18d5985af6d31c",
      "19be0ed76a664e679ac414251bfbfea6",
      "67d4bdceb115419ca58fd877678598ed",
      "607005e5ade64aa8bd4ca0e4754be150",
      "c09ce6217dac49e4b708cd9b7f15180f",
      "1fefc90b5b4145898f1409f593177253",
      "cafb9237817647f48a62220c5be103f1",
      "8a4b540e8a2944448d085662ccc62df8",
      "e532e58e777942e286b4f0235ed4ff81",
      "027fa64236d8468d823bde6d98c1d29f",
      "8e4c8d0f7f43446b9f7475e0788ddeb2",
      "9bc5476ac16745f492a23b4e36ff1385",
      "c7fb08b346ef49b780cfce4745c7a76d",
      "44e976a912444b82b2bf15d1a4b98bff",
      "60cf5852ac2a4329b62afdb19c6c43d7",
      "97323df6df3e4a9b8fb97d07eeb8361f",
      "c5a3f1dda59e411fa92a94627ee4604d",
      "85b5ccec73114b5bb1e7c1141e583fff",
      "0d5078185983420eb2a5c03af272042e",
      "2259c3447efb4a49bed3a1fccfd49562",
      "38bae581f35d452a9e1d172df68a353b",
      "48249018e213402498fb556f619a8d1e",
      "75326f6dc56d4b2cb7464e5926c52521",
      "369a0ff5472f454783ff3a18df3521ec",
      "7ff9f966b1264244934fe8ab823df478",
      "acea73c615334d1a9287bf2eeef3129b",
      "efdf7ebb368a406298c745ac400c1d0c",
      "6886e7cca1f445eda72726d46074977c",
      "b8db418b07e84480bcba6d126cbf75a6",
      "18575cf603c748a29bf4e7f123b1f573",
      "69a112fc04ad4b37897fc6777beaf535",
      "1c8c9fcb30b94baeae5dc698640b1425",
      "6eaa37018d314bbd8ef7e31f8ced1795",
      "9aa24c5a3b434de39fb5c76799e8c7c3",
      "8ea3bfbf17644bb9a3df91d54f901de8",
      "62310e0f17c444a290319c5c0cd5732c",
      "1235113122ad49b08f018603afda5fb7",
      "6aee4d72b44741608a6a138f97723c27",
      "c6f0fe8bff2445e0b6bed0f52a439849",
      "d526d97597f14e34bdddfeff670bfdf0",
      "db6c55c1a0a142ec9b23ea327bc916d4",
      "6ddc2186f58449919eaab1b3d559d24a",
      "c1415d8a8747454dbdbb3cb4100d566a",
      "edd7c752eb8b4374bc1b6300735ea88e",
      "803acf3b518b488dab95eb77413a953a",
      "dbdf92be70564e02bc5677fdb780a091",
      "82fc14e61be8401dbb3803580894b55e",
      "2744187d374e44b680dad9d88d816e47",
      "f6056978b4434a049065f9bf977387b1",
      "6040e46fdaaf474a99fb3845982794a3",
      "5504523f66ba4166be649c4e82873099",
      "5595dbb2d6954d909aa9f7c58caefd45",
      "bbfedafc3cf94ee9971b982e80dd3441",
      "b090d643df6c4440b0607c0a67559d8c",
      "e1617d0c8fd847c291b1cf8aec513fba",
      "676599847944411485655b9185bcecbe",
      "0179a95ca7274e84adee151e1746b36e",
      "7123c2e07cc24426804d6ae8e7b5169c",
      "8d236e151abf4bb8a7a309527bbdeddc",
      "c52aebbc564b4ed48f2cc64954af77e2",
      "16db5918f55c459386c32bfb27d555df",
      "bf491596a51341bda1d32cc5e407a19c",
      "842bba1bac9b4ac2ad8b271b88d320e7",
      "5102f5d9a7764a0c9087041c6a321114",
      "882ea2f2d2c3472c9179e9404b1b30af",
      "05513428a6fa4c4f89709006ff01c0ee",
      "7bdbf16716ac40fd99ddf284fc07f7b9",
      "cbfee042cf574ec3b7035bcd62c2d5de"
     ]
    },
    "id": "mQIx53R_VjN_",
    "outputId": "20ea1d16-a8a6-4bdb-dba1-b1ec41abc4bf"
   },
   "outputs": [],
   "source": [
    "llm = HuggingFacePipeline.from_model_id(\n",
    "    model_id=\"HuggingFaceH4/zephyr-7b-beta\",\n",
    "    task=\"text-generation\",\n",
    "    pipeline_kwargs=dict(\n",
    "        max_new_tokens=512,\n",
    "        do_sample=False,\n",
    "        repetition_penalty=1.03,\n",
    "    ),\n",
    ")"
   ]
  },
  {
   "cell_type": "code",
   "execution_count": null,
   "metadata": {
    "id": "R44fYZKZV45L"
   },
   "outputs": [],
   "source": [
    "from transformers import BitsAndBytesConfig\n",
    "\n",
    "quantization_config = BitsAndBytesConfig(\n",
    "    load_in_4bit=True,\n",
    "    bnb_4bit_quant_type=\"nf4\",\n",
    "    bnb_4bit_compute_dtype=\"float16\",\n",
    "    bnb_4bit_use_double_quant=True,\n",
    ")"
   ]
  },
  {
   "cell_type": "code",
   "execution_count": null,
   "metadata": {
    "colab": {
     "base_uri": "https://localhost:8080/",
     "height": 529,
     "referenced_widgets": [
      "1fc0da46604246a5a4de304301adea92",
      "02bf9fb8e7c442959b6607bfe146644e",
      "d4115885f1e1434bb4c317f85c4c04a8",
      "5171e43e48184fcc883ef389b4796f7f",
      "113a2a1567ff4720a9a6724bc4fe75b1",
      "72ef727a5a2e497fb170853f4def3121",
      "030f66f2895040898c6e3bcf9c5612cf",
      "2bbc4df65b3c44b19c1f9828cbc23b14",
      "e376e1775c254f6a854fe44b42859700",
      "288cc7a67d204432980bff1a7ae80957",
      "402c2da0657e47409f0578c28709f62e",
      "99d3d7e7dd164c9bbec5b5349581d4d9",
      "a9292f94fc884162810c607e6666cbcd",
      "a26abbb191a14fdea1ae78d4a6da3f1f",
      "28423dc0e253459e91f9696e6b2fb33f",
      "4cb37ad05f6d436a86af1be43389743a",
      "9f8f6b1031ec4f62bb41994cf5968db1",
      "232ac90298b04decb73d4d06e3e8191d",
      "5058678d58554625a4286780cb0ebbfd",
      "6b87b2386ce449a08d5c2d75bc78ebf4",
      "0b7deb214fc2407f9b65d133f42528b2",
      "1666405ec1c54871ac2466d1df0ed0e6",
      "e5554426813343fa8b97e338edc8a611",
      "c2e5f5cf1f004318a1e335b107ac18ac",
      "05e1662df7a5443bb450651b524e9cb1",
      "6acb9da58c3f40aeb1424ea070e8d8be",
      "97ec0dd3631244959773e5bb2ac4b571",
      "e01db38a16d54599a6b0e46cc7dc0b6f",
      "fce4823fcb8c44708081ba3ca6aae35e",
      "6c5d62bbafbe44198d49bc7baf65edc3",
      "b3501896e6c94835b7c61b48e65cf6fa",
      "511ad0f77175404fbe7a45fd9362e80e",
      "1fa424a4cd92463a9909d72269838e27",
      "a97c2591fc764102bd369027328b95c3",
      "6f081b5f90b540eda43ab5aba4b35995",
      "64bad4ec904d4f4cb6234828e321f405",
      "705a7595d6c5474696e3006ca8099f74",
      "67ea5704bae944e5aadb7dfedcc8b931",
      "f330a88207ca46489bd8ffaf08bd726f",
      "001382efded747c7aae2abc46830f449",
      "4bb34cab737141238d3b25c9650d6424",
      "f241c7b97fea4e52bd4224008d00a4ae",
      "5492a4b5c27b4e37a88d626e6017600b",
      "4951ad00d2fe45d7ab6229f6c619bb02",
      "e9fc6b21a4e541dab7311d2f404ce037",
      "8f40532870ff4b6fb96fd50b6b72141c",
      "83d70f8787a34d20b91a8a3f4572d5c6",
      "ee6d95a53f454a759a633563bc162229",
      "66b38215ceeb421ebd7ecb214f6a3b1b",
      "11083973fb1248de81c68db4d60aa614",
      "3ee5c3e49ade48e5921f3d893598aefd",
      "9cf47e9f484d4bea9f71b1c62332f8ff",
      "fa31288b9a4543818d85b8276347dbc3",
      "8464912b9edf4655a880c9431867053a",
      "c19270ab0b9b4765a940c4d6f94739fd",
      "fabe3a64942a4848bbf3524ed75d560d",
      "5c790855629a4918beb075e11cf3ec1f",
      "1d8d9a174539431485e0749c5f1984a2",
      "9123757ab8e74ffc9cf584447c3b6885",
      "893ced8fad554160ad33a3f0f8ccd1e6",
      "311d3593858e4dd7bfbb04a2d11b430e",
      "8fdbfab32ef64557a80e9938839445ca",
      "a2cdd9b17b754db89978670dc003bd9b",
      "a78e4e8e75fd4ec8a2b83f2442f90f2d",
      "bc6301a46af8448bafb4063257e7b38e",
      "d17e67d5bfe449ebbe4a224807ea0ecc",
      "cef35a1bfbee4cda9e275ffe8849221e",
      "d22e4aa22e5646ddafcefe3cfca63d39",
      "a5a9beea61fe45bc9fd2e073a3b72d40",
      "483c3df1cce64f91854bdc4b65f0b7bd",
      "28d9053a36634845b04ce764d5854621",
      "c7ac42d989664784942531d8160bffff",
      "8bf046528e07448fa9a814c1f0fade75",
      "48af6f14e1114bfdb54b16244d6c8322",
      "97e4a506b85349d0adc81b215c97de7a",
      "f5af7cbe7cba4be4a35670b4c4063c49",
      "dd8d3f0779ac48ce9343aef0b5f071bd",
      "c422a8b6f3014d0fae6c9f9244f0da3b",
      "653e4e1ddd1848e89801d4af8ccdb120",
      "0ee895e556d5438c98357808cc3656ad",
      "839bb2291d8c4d409ca822d25a2b8112",
      "d356b8c993e9483d8d73dd42695ed875",
      "c4cb36f100ba4723a99ae9a01bd3aa57",
      "f62491d0653343d0928791fcf8e9c57f",
      "9071381a4f4047c18b73e6830c64f0be",
      "923a5da084f04802b0d9e3d69fd76cd0",
      "e4b0f283bf2c4aab84c5f716b8f517b6",
      "61ea214d0db04564943c303ffbdabba9",
      "91327e2ee4fa49cf853a2671dfe836ab",
      "7784feeb7ea94b4f8f90bcd6b5f0d95b",
      "f997af4f2d8148b3a3ff8f7af79d7127",
      "f61f5d8894b54289a792bb6336fd5d0d",
      "5486a947ffce4cc897695288ab6bec73",
      "a4d1cfbcb9b04faf8957a5642fd44848",
      "e92f24f4bb10475c8bdae88c20236ebd",
      "bffe9a98ef184fd3834c4b27ac061053",
      "7ee750543e2b4b4d910be74fa7e52a2c",
      "a9d9133e9df64f58903aa30e8a7a5c11",
      "6a1ea926f0fb4291958704bcd18e8e1e",
      "d957371125f940428c12b1c0a0e1ef43",
      "dec6651559a743ceb81c66f078474968",
      "3ee39d75f3394e62891e12541eabcf57",
      "261ab72e16b44c9f8aeec71b4c0d7f94",
      "db7db9dce6314f04b012d7bd61e11642",
      "e1d5568a9a33424b9accc10da9fa8e2e",
      "b90a629861cb418d98db3d86074cab10",
      "73946fd41f464f5aa2d7c07b6ced3bec",
      "4a5c37f1733a45beabcdac7c9c97758c",
      "8cee76b7b59c40268d7b08bed5e2adc5",
      "45d005c511cf41feaaf05bf0d3c09cf3",
      "cde0a62d4c924a3299071da0b011de35",
      "884f971766e24da0b258c177cbd00ac0",
      "1ef475bc17024114984bbd41c591feef",
      "5b6a2b77ccb74157811d04d336efb47c",
      "7d82e6ae49744fec93207a4ff7c148b6",
      "02818f26de9c42ff9a741ea5e0a377ab",
      "3a2c199796ad42ddba487355764ed696",
      "e23f22ec4ef94b1da6e466461de92afa",
      "38569175b221402eabc828a1f8033666",
      "e6e76b49b614428f87a454573371a8db",
      "f8f74132178941df97c84c7545082401",
      "92cb7997e703442f9ef367ca1e38bd02",
      "6cb97e4ea8344ca5ae9ba28d96a48dfa",
      "f4f049e1f6d7441f99fec76202bf6761",
      "3f9f984b3c054a7096bbbf3edcb086a2",
      "7f760b0695b04db2869dc8e141ac3c56",
      "7f29cdbff58b432baad9d7a9a7bcdc21",
      "891c70f6b11e47c38445ece46a1d3de4",
      "927a919e3c364714a63d6510d3dc0a87",
      "3064535695b0456485dd344d5f4cc3de",
      "bdd6e0ac291440f3a891165bf94e9559",
      "fd76c0d2097346cdbb45ddbf9201feb8",
      "ff60aade22f64886bdfe1142e8cef231",
      "2c934a12d52546b5b894fd4cb71459a5",
      "52202b126a9742ab845e7c61652b9c05",
      "2917b0052c4c4a96a92f66956fef67e8",
      "156505397099493f9a0b4c496597f443",
      "3416ce1ebf704c1587fb5d65db943e6f",
      "d5f3bb63348d4f2aa0d5cefae5e7bcff",
      "aab26b70b0604cd58fa7409cb2fcb2a2",
      "70a8b6fef1ed44cca0022e2c2f198ced",
      "a1e7ffdec3a341ef9f8c9bd8e52fb860",
      "329036efe0f14548b36c13a9dd22302b",
      "503b18af020c4a6885ddcee802a5f363",
      "9fbc7893f4c745f88cee815ab7761e31",
      "559f152b06e343929eaf0bf1607a2651",
      "4ded3283038e4a1ea0d33cb16cf85070",
      "867404aa0fff4f72a95e8d58a6c7ce18",
      "fa9ffd229ddd47498df3fdee23beb6b9",
      "ead9b18b5cfa4d4692ec055862818ccf",
      "1cf5abec60fb4f91b274ea900aeb8684",
      "7c58c834cef9405aa9647d8f1d35f703",
      "29e019c1919042a682884328ea2a8eef",
      "04d37da5cb0d40beb783d67e8511ca17",
      "6b2a5156cc9040d88c9feb2b060e46f0",
      "8facc544540c4d9a8075e5cdfa7c4620",
      "55f342d0f1be4fc19182ffb29c4e120b",
      "5b4958c130814aef8d4224bc41759c1c",
      "4e4d9d7f122e4ba6aa38ddc114be8f14",
      "e41c664b40374a40b72989781afc29f3",
      "494a44559fd14febadf99f20a35a91de",
      "dd1c80c343be468cb6a6c4b34fcc8c76",
      "51c0891fdf1c4c1ab02f17d17661e5da",
      "51618a4484f64aa9ad189681cca9876f",
      "96ecde84e8e94d79b8ec9446185738d2",
      "8d8ba2fb83dc4857abe7b8805e0d5c45",
      "d6735c85f6664491a8ba8f4081bdb721",
      "6337c7c15c0b4cf0b9201281ea6b2aa6",
      "57c6cf9512fb4361a938a99d4f6382c6",
      "951f2f9d387f49fdab29a3dfa8927d8c",
      "a289f522372340ee93eb2373cd8b2c14",
      "bfddece3b80c4fed8591f6506ab016f9",
      "1a46b2274dda4f6e8f630bc185d5682c",
      "a6c0b5866b224d828009705ea774b575",
      "5f72f9a5fafe44bcb02999423576e4ee",
      "10f19bf187fe4807a83de708f6f10c9d"
     ]
    },
    "id": "7RvZ3DtWV9zR",
    "outputId": "8e41504e-5a37-49dd-ce9d-4792155799f7"
   },
   "outputs": [],
   "source": [
    "llm = HuggingFacePipeline.from_model_id(\n",
    "    model_id=\"HuggingFaceH4/zephyr-7b-beta\",\n",
    "    task=\"text-generation\",\n",
    "    pipeline_kwargs=dict(\n",
    "        max_new_tokens=512,\n",
    "        do_sample=False,\n",
    "        repetition_penalty=1.03,\n",
    "        return_full_text=False,\n",
    "    ),\n",
    "    model_kwargs={\"quantization_config\": quantization_config},\n",
    ")"
   ]
  },
  {
   "cell_type": "code",
   "execution_count": null,
   "metadata": {
    "id": "aLmQoiOLWCvl"
   },
   "outputs": [],
   "source": [
    "chat_model = ChatHuggingFace(llm=llm)"
   ]
  },
  {
   "cell_type": "code",
   "execution_count": null,
   "metadata": {
    "id": "5M6a9yuEWvt9"
   },
   "outputs": [],
   "source": [
    "from langchain.prompts import PromptTemplate\n",
    "from langchain_core.output_parsers import StrOutputParser\n",
    "from langchain_core.runnables import RunnablePassthrough\n",
    "\n",
    "template=\"\"\"Question: {question}\n",
    "give me a answer in detail manner and in step by step manner\"\"\"\n",
    "\n",
    "prompt=PromptTemplate(template=template,input_variables=[\"question\"])"
   ]
  },
  {
   "cell_type": "code",
   "execution_count": null,
   "metadata": {
    "id": "QJppH7LPW0D5"
   },
   "outputs": [],
   "source": [
    "llm_chain = (\n",
    "        {\"question\": RunnablePassthrough()}\n",
    "        | prompt\n",
    "        | chat_model\n",
    "        | StrOutputParser()\n",
    "    )"
   ]
  },
  {
   "cell_type": "code",
   "execution_count": null,
   "metadata": {
    "id": "Gh5yd9PuW3zU"
   },
   "outputs": [],
   "source": [
    "question=\"who is a first president of INDIA?\""
   ]
  },
  {
   "cell_type": "code",
   "execution_count": null,
   "metadata": {
    "id": "3sk-tRnvW-ES"
   },
   "outputs": [],
   "source": [
    "llm_chain.invoke({\"question\":question})"
   ]
  },
  {
   "cell_type": "code",
   "execution_count": null,
   "metadata": {
    "id": "oAupvKOxJjY0"
   },
   "outputs": [],
   "source": [
    "# from langchain_huggingface import HuggingFaceEmbeddings\n",
    "# from langchain_huggingface import HuggingFaceEndpointEmbeddings\n",
    "# from langchain_community.document_loaders.hugging_face_dataset import HuggingFaceDatasetLoader"
   ]
  },
  {
   "cell_type": "markdown",
   "metadata": {
    "id": "sd-E0yl1ZyAP"
   },
   "source": [
    "# ARCHIVE"
   ]
  },
  {
   "cell_type": "code",
   "execution_count": null,
   "metadata": {
    "id": "vurf7oUUFWpW"
   },
   "outputs": [],
   "source": [
    "# !pip install --upgrade datasets fsspec\n",
    "\n",
    "# from datasets import load_dataset\n",
    "# import shutil\n",
    "# shutil.rmtree(\"/root/.cache/huggingface/datasets\", ignore_errors=True)\n",
    "# dataset = load_dataset(\"wikitext\", \"wikitext-2-raw-v1\")\n",
    "\n",
    "# # dataset = load_dataset(\"wikitext\", \"wikitext-2-raw-v1\", download_mode=\"force_redownload\")\n",
    "\n",
    "# # Combine train/test into single list of strings\n",
    "# def get_text(examples):\n",
    "#     return {'text': examples['text']}\n",
    "\n",
    "# dataset = dataset.map(get_text, batched=True)\n",
    "\n",
    "# def tokenize_fn(example):\n",
    "#     return hf_tokenizer(example[\"text\"], truncation=True, padding=\"max_length\", max_length=128)\n",
    "\n",
    "# tokenized_dataset = dataset.map(tokenize_fn, batched=True, remove_columns=[\"text\"])\n",
    "\n",
    "# print(\"Model vocab size:\", model.config.vocab_size)\n",
    "# print(\"Tokenizer vocab size:\", hf_tokenizer.vocab_size)\n",
    "# print(\"Special tokens:\", hf_tokenizer.all_special_tokens)\n",
    "# print(\"Tokenizer vocab size:\", len(hf_tokenizer))\n",
    "# print(\"Max token id in dataset:\", max(tokenized_dataset[\"train\"][0][\"input_ids\"]))\n",
    "\n",
    "# from transformers import GPT2Config, GPT2LMHeadModel, Trainer, TrainingArguments, DataCollatorForLanguageModeling\n",
    "\n",
    "# config = GPT2Config(\n",
    "#     vocab_size=hf_tokenizer.vocab_size,\n",
    "#     n_positions=128,\n",
    "#     n_ctx=128,\n",
    "#     n_embd=256,\n",
    "#     n_layer=4,\n",
    "#     n_head=4\n",
    "# )\n",
    "\n",
    "# model = GPT2LMHeadModel(config)\n",
    "# model.resize_token_embeddings(len(hf_tokenizer))\n",
    "\n",
    "# # Training setup\n",
    "# training_args = TrainingArguments(\n",
    "#     output_dir=\"./gpt2-custom\",\n",
    "#     per_device_train_batch_size=8,\n",
    "#     num_train_epochs=3,\n",
    "#     logging_steps=10,\n",
    "#     save_steps=100,\n",
    "#     save_total_limit=2,\n",
    "#     prediction_loss_only=True,\n",
    "#     remove_unused_columns=False,\n",
    "#      report_to=\"none\"\n",
    "# )\n",
    "\n",
    "# data_collator = DataCollatorForLanguageModeling(tokenizer=hf_tokenizer, mlm=False)\n",
    "\n",
    "# trainer = Trainer(\n",
    "#     model=model,\n",
    "#     args=training_args,\n",
    "#     train_dataset=tokenized_dataset[\"train\"],\n",
    "#     data_collator=data_collator,\n",
    "# )\n",
    "\n",
    "# trainer.train()\n",
    "\n",
    "\n",
    "\n",
    "\n",
    "\n",
    "# text_gen = pipeline(\"text-generation\")\n",
    "# print(text_gen(\"Once upon a time in a forest,\", max_length=30))\n",
    "\n",
    "# from transformers import pipeline\n",
    "\n",
    "# t5 = pipeline(\"text2text-generation\", model=\"t5-small\")\n",
    "\n",
    "# print(\"Summarize:\\n\", t5(\"summarize: Hugging Face provides free tools to explore NLP. They make ML super accessible!\", max_length=20))\n",
    "\n",
    "# print(\"Translate English to German:\\n\", t5(\"translate English to German: The book is on the table.\", max_length=20))\n",
    "\n",
    "# print(\"Question Answering:\\n\", t5(\"question: Where is the book?  context: The book is on the table.\", max_length=20))\n",
    "\n",
    "# fill_mask = pipeline(\"fill-mask\")\n",
    "# print(fill_mask(\"Hugging Face is the <mask> company.\"))"
   ]
  },
  {
   "cell_type": "code",
   "execution_count": null,
   "metadata": {
    "id": "Ee-Ph4unLz7s"
   },
   "outputs": [],
   "source": [
    "# from datasets import load_dataset\n",
    "# from evaluate import load\n",
    "# from transformers import pipeline\n",
    "\n",
    "# # Load pretrained paraphrase pipeline\n",
    "# pipe = pipeline(\"text-classification\", model=\"textattack/bert-base-uncased-MRPC\")\n",
    "# dataset = load_dataset(\"glue\", \"mrpc\", split=\"validation[:50]\")\n",
    "\n",
    "# predictions = [int(pipe(f\"{row['sentence1']} {row['sentence2']}\")[0]['label'].split('_')[-1]) for row in dataset]\n",
    "# accuracy = load(\"accuracy\")\n",
    "# print(accuracy.compute(predictions=predictions, references=dataset[\"label\"]))"
   ]
  },
  {
   "cell_type": "code",
   "execution_count": null,
   "metadata": {
    "id": "7gc9Iol76GBy"
   },
   "outputs": [],
   "source": [
    "# from transformers import AutoTokenizer, AutoModelForMaskedLM\n",
    "# import torch\n",
    "\n",
    "# bert_tok = AutoTokenizer.from_pretrained(\"bert-base-uncased\")\n",
    "# bert_model = AutoModelForMaskedLM.from_pretrained(\"bert-base-uncased\")\n",
    "\n",
    "# # Use [MASK] instead of <mask> for BERT\n",
    "# sentence = \"Transformers are [MASK] models.\"\n",
    "# bert_inputs = bert_tok(sentence, return_tensors=\"pt\")\n",
    "\n",
    "# with torch.no_grad():\n",
    "#     bert_output = bert_model(**bert_inputs)\n",
    "\n",
    "# # Get index of [MASK] token\n",
    "# mask_token_index = (bert_inputs[\"input_ids\"] == bert_tok.mask_token_id).nonzero(as_tuple=True)[1].item()\n",
    "\n",
    "# # Get top prediction for [MASK]\n",
    "# mask_logits = bert_output.logits[0, mask_token_index]\n",
    "# top_token_id = torch.argmax(mask_logits).item()\n",
    "# predicted_token = bert_tok.decode([top_token_id])\n",
    "\n",
    "# print(\"BERT predicted word:\", predicted_token)"
   ]
  },
  {
   "cell_type": "code",
   "execution_count": null,
   "metadata": {
    "id": "vPuGjrK69SqP"
   },
   "outputs": [],
   "source": [
    "# summarizer = pipeline(\"summarization\", model=\"t5-small\")\n",
    "# text = \"Transformers are a powerful architecture used in natural language processing. They rely on self-attention to capture relationships between words.\"\n",
    "# summary = summarizer(\"summarize: \" + text, max_length=30)\n",
    "# print(summary)"
   ]
  }
 ],
 "metadata": {
  "accelerator": "GPU",
  "colab": {
   "gpuType": "T4",
   "provenance": []
  },
  "kernelspec": {
   "display_name": "Python 3",
   "name": "python3"
  },
  "language_info": {
   "name": "python"
  }
 },
 "nbformat": 4,
 "nbformat_minor": 0
}
