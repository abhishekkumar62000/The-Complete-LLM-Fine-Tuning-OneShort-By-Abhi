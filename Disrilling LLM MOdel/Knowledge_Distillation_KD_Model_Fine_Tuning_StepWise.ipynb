{
  "nbformat": 4,
  "nbformat_minor": 0,
  "metadata": {
    "colab": {
      "provenance": []
    },
    "kernelspec": {
      "name": "python3",
      "display_name": "Python 3"
    },
    "language_info": {
      "name": "python"
    }
  },
  "cells": [
    {
      "cell_type": "markdown",
      "source": [
        "\n",
        "---\n",
        "\n",
        "# 📘 What is Knowledge Distillation (KD)?\n",
        "\n",
        "Knowledge Distillation is a technique to **compress a large, powerful model (teacher)** into a **smaller, faster model (student)** without losing much accuracy.\n",
        "\n",
        "* **Teacher Model**: A big neural network (e.g., ResNet50, BERT-large) trained on a dataset. It gives strong predictions but is slow and heavy.\n",
        "* **Student Model**: A smaller neural network (e.g., ResNet18, DistilBERT) that we want to train. It learns not only from ground truth labels but also from the **soft predictions (logits) of the teacher**.\n",
        "\n",
        "The key is that the **teacher’s soft labels contain \"dark knowledge\"** (like class probabilities distribution, not just 0/1 labels) which helps the student generalize better.\n",
        "\n",
        "---\n",
        "\n",
        "# ⚙️ Loss Function in KD\n",
        "\n",
        "We combine **two losses**:\n",
        "\n",
        "1. **Hard Loss (CrossEntropy with true labels)**\n",
        "   Student learns from actual dataset labels.\n",
        "\n",
        "   $$\n",
        "   L_{CE} = CE(y_{true}, y_{student})\n",
        "   $$\n",
        "\n",
        "2. **Soft Loss (KL Divergence with teacher’s soft predictions)**\n",
        "   Student mimics teacher’s distribution using a temperature-scaled softmax.\n",
        "\n",
        "   $$\n",
        "   L_{KD} = KLDiv(\\sigma(z_{student}/T), \\sigma(z_{teacher}/T))\n",
        "   $$\n",
        "\n",
        "   where $T$ = temperature (usually 2–5). Higher $T$ makes the probabilities softer.\n",
        "\n",
        "3. **Final Loss**:\n",
        "\n",
        "   $$\n",
        "   L = \\alpha L_{CE} + (1-\\alpha) L_{KD}\n",
        "   $$\n",
        "\n",
        "   where α balances between teacher guidance and true labels.\n",
        "\n",
        "\n"
      ],
      "metadata": {
        "id": "4RbksfAv7x-w"
      }
    },
    {
      "cell_type": "markdown",
      "source": [
        "### :--**Step 1** :--\n",
        "\n",
        " **🚀 Implementation in PyTorch (Fine-tuning with Knowledge Distillation)\n",
        "\n",
        "Here’s a Jupyter Notebook style code:**"
      ],
      "metadata": {
        "id": "lMkw4Iyx8hhd"
      }
    },
    {
      "cell_type": "code",
      "source": [
        "# 📌 Step 1: Imports\n",
        "import torch\n",
        "import torch.nn as nn\n",
        "import torch.optim as optim\n",
        "import torch.nn.functional as F\n",
        "from torchvision import datasets, transforms, models\n",
        "from torch.utils.data import DataLoader\n",
        "import matplotlib.pyplot as plt\n",
        "\n",
        "# Check GPU\n",
        "device = torch.device(\"cuda\" if torch.cuda.is_available() else \"cpu\")\n",
        "print(\"Using:\", device)\n"
      ],
      "metadata": {
        "id": "iIKawReA9BA9"
      },
      "execution_count": null,
      "outputs": []
    },
    {
      "cell_type": "markdown",
      "source": [
        "### ***🔹 Step 2: Data Preparation (CIFAR-10 Example)***"
      ],
      "metadata": {
        "id": "R2nK0OVj9DvH"
      }
    },
    {
      "cell_type": "code",
      "source": [
        "# Data transforms\n",
        "transform = transforms.Compose([\n",
        "    transforms.Resize((224,224)),   # ResNet input size\n",
        "    transforms.ToTensor(),\n",
        "    transforms.Normalize((0.5,0.5,0.5), (0.5,0.5,0.5))\n",
        "])\n",
        "\n",
        "# CIFAR-10 dataset\n",
        "train_dataset = datasets.CIFAR10(root='./data', train=True, transform=transform, download=True)\n",
        "test_dataset  = datasets.CIFAR10(root='./data', train=False, transform=transform, download=True)\n",
        "\n",
        "train_loader = DataLoader(train_dataset, batch_size=64, shuffle=True)\n",
        "test_loader  = DataLoader(test_dataset, batch_size=64, shuffle=False)\n"
      ],
      "metadata": {
        "id": "7RhnO2Wa9Ko0"
      },
      "execution_count": null,
      "outputs": []
    },
    {
      "cell_type": "markdown",
      "source": [
        "### **🔹 Step 3: Define Teacher & Student Models\n",
        "### ***Teacher = ResNet50(pretrained on ImageNet)***\n",
        "### ***Student = ResNet18 (smaller)***"
      ],
      "metadata": {
        "id": "k-7djmkR9TYl"
      }
    },
    {
      "cell_type": "code",
      "source": [
        "# Teacher Model (large)\n",
        "teacher_model = models.resnet50(pretrained=True)\n",
        "teacher_model.fc = nn.Linear(teacher_model.fc.in_features, 10)  # CIFAR-10 has 10 classes\n",
        "teacher_model = teacher_model.to(device)\n",
        "\n",
        "# Student Model (smaller)\n",
        "student_model = models.resnet18(pretrained=True)\n",
        "student_model.fc = nn.Linear(student_model.fc.in_features, 10)\n",
        "student_model = student_model.to(device)\n",
        "\n",
        "# Freeze teacher\n",
        "for param in teacher_model.parameters():\n",
        "    param.requires_grad = False\n"
      ],
      "metadata": {
        "id": "McnyhxDw9Sfc"
      },
      "execution_count": null,
      "outputs": []
    },
    {
      "cell_type": "markdown",
      "source": [
        "### **🔹 Step 4: Define Knowledge Distillation Loss**"
      ],
      "metadata": {
        "id": "Q1iho-0N96AW"
      }
    },
    {
      "cell_type": "code",
      "source": [
        "class DistillationLoss(nn.Module):\n",
        "    def __init__(self, temperature=4.0, alpha=0.5):\n",
        "        super(DistillationLoss, self).__init__()\n",
        "        self.temperature = temperature\n",
        "        self.alpha = alpha\n",
        "        self.ce_loss = nn.CrossEntropyLoss()\n",
        "        self.kl_loss = nn.KLDivLoss(reduction=\"batchmean\")\n",
        "\n",
        "    def forward(self, student_logits, teacher_logits, labels):\n",
        "        # Hard loss (true labels)\n",
        "        ce = self.ce_loss(student_logits, labels)\n",
        "\n",
        "        # Soft loss (teacher guidance with temperature scaling)\n",
        "        T = self.temperature\n",
        "        student_soft = F.log_softmax(student_logits / T, dim=1)\n",
        "        teacher_soft = F.softmax(teacher_logits / T, dim=1)\n",
        "        kd = self.kl_loss(student_soft, teacher_soft) * (T*T)\n",
        "\n",
        "        # Combine losses\n",
        "        return self.alpha * ce + (1. - self.alpha) * kd\n"
      ],
      "metadata": {
        "id": "Td0zsTlE9-zk"
      },
      "execution_count": null,
      "outputs": []
    },
    {
      "cell_type": "markdown",
      "source": [
        "### **🔹 Step 5: Training Loop with KD**"
      ],
      "metadata": {
        "id": "Q4GRtC0z-Psz"
      }
    },
    {
      "cell_type": "code",
      "source": [
        "def train_kd(student, teacher, train_loader, optimizer, criterion, epoch):\n",
        "    student.train()\n",
        "    teacher.eval()\n",
        "    total_loss = 0\n",
        "\n",
        "    for images, labels in train_loader:\n",
        "        images, labels = images.to(device), labels.to(device)\n",
        "\n",
        "        # Forward pass\n",
        "        student_logits = student(images)\n",
        "        with torch.no_grad():\n",
        "            teacher_logits = teacher(images)\n",
        "\n",
        "        # Loss\n",
        "        loss = criterion(student_logits, teacher_logits, labels)\n",
        "\n",
        "        # Backward\n",
        "        optimizer.zero_grad()\n",
        "        loss.backward()\n",
        "        optimizer.step()\n",
        "\n",
        "        total_loss += loss.item()\n",
        "\n",
        "    print(f\"Epoch {epoch}, Loss: {total_loss/len(train_loader):.4f}\")\n"
      ],
      "metadata": {
        "id": "mapbyWfU-KxL"
      },
      "execution_count": null,
      "outputs": []
    },
    {
      "cell_type": "markdown",
      "source": [
        "###**🔹 Step 6: Evaluation Function**"
      ],
      "metadata": {
        "id": "5XuJRdAB-Uzt"
      }
    },
    {
      "cell_type": "code",
      "source": [
        "def evaluate(model, test_loader):\n",
        "    model.eval()\n",
        "    correct, total = 0, 0\n",
        "    with torch.no_grad():\n",
        "        for images, labels in test_loader:\n",
        "            images, labels = images.to(device), labels.to(device)\n",
        "            outputs = model(images)\n",
        "            _, preds = torch.max(outputs, 1)\n",
        "            correct += (preds == labels).sum().item()\n",
        "            total += labels.size(0)\n",
        "    return 100 * correct / total\n"
      ],
      "metadata": {
        "id": "JaIAEF4F-hC6"
      },
      "execution_count": null,
      "outputs": []
    },
    {
      "cell_type": "markdown",
      "source": [
        "### **🔹 Step 7: Run Training**"
      ],
      "metadata": {
        "id": "rB0KUDm2-4mD"
      }
    },
    {
      "cell_type": "code",
      "source": [
        "# Optimizer\n",
        "optimizer = optim.Adam(student_model.parameters(), lr=1e-4)\n",
        "\n",
        "# Criterion\n",
        "criterion = DistillationLoss(temperature=4.0, alpha=0.7)\n",
        "\n",
        "# Train Student with KD\n",
        "for epoch in range(5):  # (for demo, increase epochs)\n",
        "    train_kd(student_model, teacher_model, train_loader, optimizer, criterion, epoch)\n",
        "    acc = evaluate(student_model, test_loader)\n",
        "    print(f\"Test Accuracy: {acc:.2f}%\")\n"
      ],
      "metadata": {
        "id": "E7zfsM11-9jx"
      },
      "execution_count": null,
      "outputs": []
    },
    {
      "cell_type": "markdown",
      "source": [
        "# 🎯 Key Takeaways\n",
        "\n",
        "* **KD reduces model size while keeping performance high.**\n",
        "* **Temperature (T)** softens probabilities, making KD effective.\n",
        "* **α** balances between true labels and teacher guidance.\n",
        "* KD is useful in **model compression**, **edge deployment**, and **efficient inference**.\n",
        "\n",
        "---"
      ],
      "metadata": {
        "id": "vq_nCfxX_DgT"
      }
    },
    {
      "cell_type": "code",
      "source": [],
      "metadata": {
        "id": "I9hGBNH9A-kp"
      },
      "execution_count": null,
      "outputs": []
    },
    {
      "cell_type": "code",
      "source": [],
      "metadata": {
        "id": "ggrJJOv4A6U5"
      },
      "execution_count": null,
      "outputs": []
    },
    {
      "cell_type": "markdown",
      "source": [],
      "metadata": {
        "id": "Y3WvCDbLBQez"
      }
    },
    {
      "cell_type": "markdown",
      "source": [
        "### ***Best Notebook to Learn Knowledge Distillation + Fine-tuning in one-short:--***\n",
        "---\n",
        "\n",
        "# 📓 Knowledge Distillation + Fine-tuning — Full Teaching Notebook\n",
        "\n",
        "```markdown\n",
        "# 🧠 Knowledge Distillation + Fine-tuning\n",
        "\n",
        "This notebook explains **Knowledge Distillation (KD)** with **fine-tuning** in a simple and practical way.\n",
        "\n",
        "---\n",
        "\n",
        "## 📘 What is Knowledge Distillation?\n",
        "\n",
        "- **Teacher Model (big)** → accurate but slow & heavy  \n",
        "- **Student Model (small)** → fast & lightweight but less accurate  \n",
        "- **Goal** → Train student to mimic teacher’s \"dark knowledge\" (soft predictions).\n",
        "\n",
        "---\n",
        "\n",
        "### 📌 KD Loss Function\n",
        "\n",
        "We combine two parts:\n",
        "\n",
        "1. **Hard Loss (CE)** → Ground truth labels  \n",
        "2. **Soft Loss (KL)** → Teacher soft predictions (with temperature T)  \n",
        "3. **Final Loss**:  \n",
        "```\n",
        "\n",
        "Loss = α \\* CE(student, labels) + (1-α) \\* KL(student/T, teacher/T)\n",
        "\n",
        "```\n",
        "\n",
        "- `T` (temperature) → softens probability distribution  \n",
        "- `α` → balance between ground truth & teacher guidance\n",
        "```\n",
        "\n",
        "---\n",
        "\n",
        "## 🔹 Step 1: Imports\n",
        "\n",
        "```python\n",
        "import torch\n",
        "import torch.nn as nn\n",
        "import torch.optim as optim\n",
        "import torch.nn.functional as F\n",
        "from torchvision import datasets, transforms, models\n",
        "from torch.utils.data import DataLoader\n",
        "import matplotlib.pyplot as plt\n",
        "\n",
        "device = torch.device(\"cuda\" if torch.cuda.is_available() else \"cpu\")\n",
        "print(\"Using:\", device)\n",
        "```\n",
        "\n",
        "---\n",
        "\n",
        "## 🔹 Step 2: Dataset (CIFAR-10)\n",
        "\n",
        "```python\n",
        "transform = transforms.Compose([\n",
        "    transforms.Resize((224,224)),\n",
        "    transforms.ToTensor(),\n",
        "    transforms.Normalize((0.5,0.5,0.5), (0.5,0.5,0.5))\n",
        "])\n",
        "\n",
        "train_dataset = datasets.CIFAR10(root=\"./data\", train=True, transform=transform, download=True)\n",
        "test_dataset  = datasets.CIFAR10(root=\"./data\", train=False, transform=transform, download=True)\n",
        "\n",
        "train_loader = DataLoader(train_dataset, batch_size=64, shuffle=True)\n",
        "test_loader  = DataLoader(test_dataset, batch_size=64, shuffle=False)\n",
        "```\n",
        "\n",
        "---\n",
        "\n",
        "## 🔹 Step 3: Teacher & Student Models\n",
        "\n",
        "```python\n",
        "# Teacher (large, ResNet50)\n",
        "teacher_model = models.resnet50(pretrained=True)\n",
        "teacher_model.fc = nn.Linear(teacher_model.fc.in_features, 10)\n",
        "teacher_model = teacher_model.to(device)\n",
        "\n",
        "# Student (small, ResNet18)\n",
        "student_model_ce = models.resnet18(pretrained=True)   # normal fine-tuning\n",
        "student_model_ce.fc = nn.Linear(student_model_ce.fc.in_features, 10)\n",
        "student_model_ce = student_model_ce.to(device)\n",
        "\n",
        "student_model_kd = models.resnet18(pretrained=True)   # KD fine-tuning\n",
        "student_model_kd.fc = nn.Linear(student_model_kd.fc.in_features, 10)\n",
        "student_model_kd = student_model_kd.to(device)\n",
        "\n",
        "# Freeze teacher\n",
        "for p in teacher_model.parameters():\n",
        "    p.requires_grad = False\n",
        "```\n",
        "\n",
        "---\n",
        "\n",
        "## 🔹 Step 4: Define Loss Functions\n",
        "\n",
        "```python\n",
        "ce_loss = nn.CrossEntropyLoss()\n",
        "\n",
        "class DistillationLoss(nn.Module):\n",
        "    def __init__(self, temperature=4.0, alpha=0.5):\n",
        "        super().__init__()\n",
        "        self.temperature = temperature\n",
        "        self.alpha = alpha\n",
        "        self.ce = nn.CrossEntropyLoss()\n",
        "        self.kl = nn.KLDivLoss(reduction=\"batchmean\")\n",
        "    \n",
        "    def forward(self, student_logits, teacher_logits, labels):\n",
        "        ce = self.ce(student_logits, labels)\n",
        "        T = self.temperature\n",
        "        student_soft = F.log_softmax(student_logits / T, dim=1)\n",
        "        teacher_soft = F.softmax(teacher_logits / T, dim=1)\n",
        "        kd = self.kl(student_soft, teacher_soft) * (T*T)\n",
        "        return self.alpha * ce + (1-self.alpha) * kd\n",
        "```\n",
        "\n",
        "---\n",
        "\n",
        "## 🔹 Step 5: Training Functions\n",
        "\n",
        "```python\n",
        "def train_student_ce(model, loader, optimizer, epochs=3):\n",
        "    model.train()\n",
        "    losses = []\n",
        "    for epoch in range(epochs):\n",
        "        total_loss = 0\n",
        "        for x,y in loader:\n",
        "            x,y = x.to(device), y.to(device)\n",
        "            out = model(x)\n",
        "            loss = ce_loss(out, y)\n",
        "            optimizer.zero_grad()\n",
        "            loss.backward()\n",
        "            optimizer.step()\n",
        "            total_loss += loss.item()\n",
        "        losses.append(total_loss/len(loader))\n",
        "        print(f\"Epoch {epoch}: CE Loss {losses[-1]:.4f}\")\n",
        "    return losses\n",
        "\n",
        "def train_student_kd(student, teacher, loader, optimizer, criterion, epochs=3):\n",
        "    student.train(); teacher.eval()\n",
        "    losses = []\n",
        "    for epoch in range(epochs):\n",
        "        total_loss = 0\n",
        "        for x,y in loader:\n",
        "            x,y = x.to(device), y.to(device)\n",
        "            s_out = student(x)\n",
        "            with torch.no_grad():\n",
        "                t_out = teacher(x)\n",
        "            loss = criterion(s_out, t_out, y)\n",
        "            optimizer.zero_grad()\n",
        "            loss.backward()\n",
        "            optimizer.step()\n",
        "            total_loss += loss.item()\n",
        "        losses.append(total_loss/len(loader))\n",
        "        print(f\"Epoch {epoch}: KD Loss {losses[-1]:.4f}\")\n",
        "    return losses\n",
        "```\n",
        "\n",
        "---\n",
        "\n",
        "## 🔹 Step 6: Evaluation Function\n",
        "\n",
        "```python\n",
        "def evaluate(model, loader):\n",
        "    model.eval()\n",
        "    correct, total = 0,0\n",
        "    with torch.no_grad():\n",
        "        for x,y in loader:\n",
        "            x,y = x.to(device), y.to(device)\n",
        "            out = model(x)\n",
        "            _,pred = torch.max(out,1)\n",
        "            correct += (pred==y).sum().item()\n",
        "            total += y.size(0)\n",
        "    return 100*correct/total\n",
        "```\n",
        "\n",
        "---\n",
        "\n",
        "## 🔹 Step 7: Run Training (CE vs KD)\n",
        "\n",
        "```python\n",
        "# Optimizers\n",
        "opt_ce = optim.Adam(student_model_ce.parameters(), lr=1e-4)\n",
        "opt_kd = optim.Adam(student_model_kd.parameters(), lr=1e-4)\n",
        "\n",
        "# KD loss\n",
        "kd_loss = DistillationLoss(temperature=4.0, alpha=0.7)\n",
        "\n",
        "# Train\n",
        "losses_ce = train_student_ce(student_model_ce, train_loader, opt_ce, epochs=3)\n",
        "losses_kd = train_student_kd(student_model_kd, teacher_model, train_loader, opt_kd, kd_loss, epochs=3)\n",
        "\n",
        "# Evaluate\n",
        "acc_ce = evaluate(student_model_ce, test_loader)\n",
        "acc_kd = evaluate(student_model_kd, test_loader)\n",
        "\n",
        "print(f\"Student (Normal Fine-tuning): {acc_ce:.2f}%\")\n",
        "print(f\"Student (KD Fine-tuning): {acc_kd:.2f}%\")\n",
        "```\n",
        "\n",
        "---\n",
        "\n",
        "## 🔹 Step 8: Visualization of Loss Curves\n",
        "\n",
        "```python\n",
        "plt.plot(losses_ce, label=\"CE Student\")\n",
        "plt.plot(losses_kd, label=\"KD Student\")\n",
        "plt.xlabel(\"Epochs\"); plt.ylabel(\"Loss\"); plt.legend(); plt.show()\n",
        "```\n",
        "\n",
        "---\n",
        "\n",
        "## 🔹 Step 9: Prediction Comparison (Teacher vs Student)\n",
        "\n",
        "```python\n",
        "import numpy as np\n",
        "\n",
        "def show_predictions(images, labels, teacher, student_ce, student_kd):\n",
        "    teacher.eval(); student_ce.eval(); student_kd.eval()\n",
        "    with torch.no_grad():\n",
        "        t_pred = torch.argmax(teacher(images.to(device)), dim=1)\n",
        "        s_ce_pred = torch.argmax(student_ce(images.to(device)), dim=1)\n",
        "        s_kd_pred = torch.argmax(student_kd(images.to(device)), dim=1)\n",
        "    for i in range(len(images)):\n",
        "        plt.imshow(np.transpose(images[i], (1,2,0)))\n",
        "        plt.title(f\"Label:{labels[i]} | Teacher:{t_pred[i]} | CE:{s_ce_pred[i]} | KD:{s_kd_pred[i]}\")\n",
        "        plt.show()\n",
        "\n",
        "data_iter = iter(test_loader)\n",
        "images, labels = next(data_iter)\n",
        "show_predictions(images[:5], labels[:5], teacher_model, student_model_ce, student_model_kd)\n",
        "```\n",
        "\n",
        "---\n",
        "\n",
        "## 🔹 Step 10: Hyperparameter Experiment (T and α)\n",
        "\n",
        "```python\n",
        "temperatures = [1,2,4,10]\n",
        "alphas = [0.3,0.5,0.7,0.9]\n",
        "\n",
        "# (Optional: Loop over T & alpha, train small runs, record accuracy)\n",
        "# Plot: Accuracy vs Temperature & Accuracy vs Alpha\n",
        "```\n",
        "\n",
        "---\n",
        "\n",
        "```markdown\n",
        "# 🎯 Summary\n",
        "\n",
        "- Knowledge Distillation transfers \"dark knowledge\" from Teacher → Student.\n",
        "- Student with KD performs **much better** than Student with only CE fine-tuning.\n",
        "- **Temperature (T)** and **Alpha (α)** are key hyperparameters.\n",
        "- KD is useful for **model compression** and **deploying lightweight models**.\n",
        "\n",
        "✅ Now you fully understand **KD + Fine-tuning**.\n",
        "```\n",
        "\n",
        "---\n",
        "\n",
        "⚡ Is notebook ko run karoge to ek **student-friendly, unique, and complete KD tutorial** ban jayega.\n",
        "\n",
        "👉 Kya aap chahte ho mai isko **ready-made `.ipynb` file** bana ke export kar du, jise aap directly Colab/Jupyter me open karke run kar sako?\n"
      ],
      "metadata": {
        "id": "3HE_BjTCBQ2M"
      }
    },
    {
      "cell_type": "code",
      "source": [],
      "metadata": {
        "id": "oBkVa9yTBTQ4"
      },
      "execution_count": null,
      "outputs": []
    }
  ]
}